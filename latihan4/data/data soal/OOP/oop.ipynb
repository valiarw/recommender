{
 "cells": [
  {
   "cell_type": "markdown",
   "metadata": {},
   "source": [
    "## Import Library"
   ]
  },
  {
   "cell_type": "code",
   "execution_count": 1,
   "metadata": {},
   "outputs": [],
   "source": [
    "import pandas as pd\n",
    "import re"
   ]
  },
  {
   "cell_type": "markdown",
   "metadata": {},
   "source": [
    "## Load Data"
   ]
  },
  {
   "cell_type": "code",
   "execution_count": 2,
   "metadata": {},
   "outputs": [
    {
     "data": {
      "text/html": [
       "<div>\n",
       "<style scoped>\n",
       "    .dataframe tbody tr th:only-of-type {\n",
       "        vertical-align: middle;\n",
       "    }\n",
       "\n",
       "    .dataframe tbody tr th {\n",
       "        vertical-align: top;\n",
       "    }\n",
       "\n",
       "    .dataframe thead th {\n",
       "        text-align: right;\n",
       "    }\n",
       "</style>\n",
       "<table border=\"1\" class=\"dataframe\">\n",
       "  <thead>\n",
       "    <tr style=\"text-align: right;\">\n",
       "      <th></th>\n",
       "      <th>Instruction</th>\n",
       "      <th>Input</th>\n",
       "      <th>Output</th>\n",
       "      <th>materi</th>\n",
       "      <th>question_id</th>\n",
       "    </tr>\n",
       "  </thead>\n",
       "  <tbody>\n",
       "    <tr>\n",
       "      <th>0</th>\n",
       "      <td>Design a class in Python that models a custome...</td>\n",
       "      <td>Attributes: name, email, phone_number, address.</td>\n",
       "      <td>class Customer:\\r\\n    def __init__(self,name,...</td>\n",
       "      <td>OOP</td>\n",
       "      <td>34</td>\n",
       "    </tr>\n",
       "    <tr>\n",
       "      <th>1</th>\n",
       "      <td>Write a python program to classify an object b...</td>\n",
       "      <td>[2.5, 4.5, 2.5], Classes: [\"apple\", \"orange\", ...</td>\n",
       "      <td>def classify_object(features, classes):\\r\\n   ...</td>\n",
       "      <td>OOP</td>\n",
       "      <td>468</td>\n",
       "    </tr>\n",
       "    <tr>\n",
       "      <th>2</th>\n",
       "      <td>Create a class in Python that represents a giv...</td>\n",
       "      <td>Cat</td>\n",
       "      <td>class Cat:\\r\\n    def __init__(self):\\r\\n     ...</td>\n",
       "      <td>OOP</td>\n",
       "      <td>595</td>\n",
       "    </tr>\n",
       "    <tr>\n",
       "      <th>3</th>\n",
       "      <td>Create an object in Python that stores an empl...</td>\n",
       "      <td>\"John\" 28</td>\n",
       "      <td>employee = {\\r\\n 'name': 'John',\\r\\n 'age': 28...</td>\n",
       "      <td>OOP</td>\n",
       "      <td>835</td>\n",
       "    </tr>\n",
       "    <tr>\n",
       "      <th>4</th>\n",
       "      <td>Extend a Python class to create another class ...</td>\n",
       "      <td>class Vehicle:\\r\\n\\tdef __init__(self):\\r\\n\\t\\...</td>\n",
       "      <td>class Motorcycle(Vehicle):\\r\\n    def __init__...</td>\n",
       "      <td>OOP</td>\n",
       "      <td>836</td>\n",
       "    </tr>\n",
       "  </tbody>\n",
       "</table>\n",
       "</div>"
      ],
      "text/plain": [
       "                                         Instruction  \\\n",
       "0  Design a class in Python that models a custome...   \n",
       "1  Write a python program to classify an object b...   \n",
       "2  Create a class in Python that represents a giv...   \n",
       "3  Create an object in Python that stores an empl...   \n",
       "4  Extend a Python class to create another class ...   \n",
       "\n",
       "                                               Input  \\\n",
       "0    Attributes: name, email, phone_number, address.   \n",
       "1  [2.5, 4.5, 2.5], Classes: [\"apple\", \"orange\", ...   \n",
       "2                                                Cat   \n",
       "3                                          \"John\" 28   \n",
       "4  class Vehicle:\\r\\n\\tdef __init__(self):\\r\\n\\t\\...   \n",
       "\n",
       "                                              Output materi  question_id  \n",
       "0  class Customer:\\r\\n    def __init__(self,name,...    OOP           34  \n",
       "1  def classify_object(features, classes):\\r\\n   ...    OOP          468  \n",
       "2  class Cat:\\r\\n    def __init__(self):\\r\\n     ...    OOP          595  \n",
       "3  employee = {\\r\\n 'name': 'John',\\r\\n 'age': 28...    OOP          835  \n",
       "4  class Motorcycle(Vehicle):\\r\\n    def __init__...    OOP          836  "
      ]
     },
     "execution_count": 2,
     "metadata": {},
     "output_type": "execute_result"
    }
   ],
   "source": [
    "\n",
    "file_path = 'C:/Users/user/CAPSTONE-PROJEK---CODEY/Machine Learning/kategori soal/oop.csv'\n",
    "\n",
    "data = pd.read_csv(file_path)\n",
    "data.head()\n"
   ]
  },
  {
   "cell_type": "code",
   "execution_count": 3,
   "metadata": {},
   "outputs": [],
   "source": [
    "def add_placeholder(code):\n",
    "    \"\"\"\n",
    "    Gantikan kata setelah kata kunci dengan placeholder '___'.\n",
    "    Hanya satu kali mengganti di seluruh kode setelah menemukan kecocokan pertama.\n",
    "    \"\"\"\n",
    "    # Pola regex untuk mencari kata kunci dan mengganti kata setelahnya dengan placeholder\n",
    "    patterns = [\n",
    "         r'\\b(class|object|inheritance|method|self|@classmethod|@staticmethod)\\s+(\\w+)\\b'\n",
    "    ]\n",
    "    \n",
    "    # Cari kecocokan pertama dalam seluruh kode\n",
    "    for pattern in patterns:\n",
    "        match = re.search(pattern, code)\n",
    "        if match:\n",
    "            # Ganti kata setelah kata kunci dengan placeholder '___' pada kecocokan pertama\n",
    "            code = re.sub(pattern, r'\\1 ___', code, count=1)  # Hanya mengganti kecocokan pertama\n",
    "    \n",
    "    return code\n"
   ]
  },
  {
   "cell_type": "markdown",
   "metadata": {},
   "source": [
    "Menambahkan kolom template untuk soal"
   ]
  },
  {
   "cell_type": "code",
   "execution_count": 4,
   "metadata": {},
   "outputs": [
    {
     "name": "stdout",
     "output_type": "stream",
     "text": [
      "class ___:\n",
      "    def __init__(self,name, email, phone_number, address):\n",
      "        self.name = name\n",
      "        self.email = email\n",
      "        self.phone_number = phone_number\n",
      "        self.address = address\n",
      "class Customer:\n",
      "    def __init__(self,name, email, phone_number, address):\n",
      "        self.name = name\n",
      "        self.email = email\n",
      "        self.phone_number = phone_number\n",
      "        self.address = address\n",
      "Attributes: name, email, phone_number, address.\n"
     ]
    }
   ],
   "source": [
    "# Terapkan fungsi pada kolom 'Output'\n",
    "data['Template'] = data['Output'].apply(add_placeholder)\n",
    "print(data['Template'][0])\n",
    "print(data['Output'][0])\n",
    "print(data['Input'][0])\n"
   ]
  },
  {
   "cell_type": "markdown",
   "metadata": {},
   "source": [
    "Membuat fungsi untuk mengecek data soal memiliki placeholder"
   ]
  },
  {
   "cell_type": "code",
   "execution_count": 5,
   "metadata": {},
   "outputs": [],
   "source": [
    "def check_placeholder_in_column(df, column_name, placeholder=\"___\"):\n",
    "    \"\"\"\n",
    "    Cek apakah kolom tertentu dalam DataFrame mengandung placeholder.\n",
    "    \n",
    "    Args:\n",
    "        df (pd.DataFrame): DataFrame yang akan dicek.\n",
    "        column_name (str): Nama kolom yang akan diperiksa.\n",
    "        placeholder (str): Placeholder yang dicari (default: \"___\").\n",
    "    \n",
    "    Returns:\n",
    "        pd.Series: Kolom boolean (True jika ada placeholder, False jika tidak).\n",
    "    \"\"\"\n",
    "    return df[column_name].str.contains(placeholder, na=False)\n"
   ]
  },
  {
   "cell_type": "code",
   "execution_count": 6,
   "metadata": {},
   "outputs": [
    {
     "name": "stdout",
     "output_type": "stream",
     "text": [
      "has_placeholder\n",
      "True     48\n",
      "False    37\n",
      "Name: count, dtype: int64\n"
     ]
    }
   ],
   "source": [
    "data[\"has_placeholder\"] = check_placeholder_in_column(data, \"Template\")\n",
    "\n",
    "print(data[\"has_placeholder\"].value_counts())"
   ]
  },
  {
   "cell_type": "code",
   "execution_count": 7,
   "metadata": {},
   "outputs": [],
   "source": [
    "# Hapus baris dengan nilai False\n",
    "data = data[data[\"has_placeholder\"]]\n"
   ]
  },
  {
   "cell_type": "code",
   "execution_count": 8,
   "metadata": {},
   "outputs": [
    {
     "name": "stdout",
     "output_type": "stream",
     "text": [
      "has_placeholder\n",
      "True    48\n",
      "Name: count, dtype: int64\n"
     ]
    }
   ],
   "source": [
    "print(data[\"has_placeholder\"].value_counts())\n",
    "\n",
    "# Hapus kolom 'has_placeholder' jika tidak diperlukan lagi\n",
    "data = data.drop(columns=[\"has_placeholder\"])\n"
   ]
  },
  {
   "cell_type": "code",
   "execution_count": 9,
   "metadata": {},
   "outputs": [],
   "source": [
    "def extract_keyword_variable(code):\n",
    "    \"\"\"\n",
    "    Mengambil kata setelah kata kunci dan mengembalikannya.\n",
    "    \"\"\"\n",
    "    # Pola regex untuk mencari kata kunci dan mengekstrak kata setelahnya\n",
    "    pattern = r'\\b(class|object|inheritance|method|self|@classmethod|@staticmethod)\\s+(\\w+)\\b'\n",
    "    \n",
    "    match = re.search(pattern, code)\n",
    "    \n",
    "    # Jika ada kecocokan, ambil kata setelah kata kunci (hasil kedua dalam tuple)\n",
    "    if match:\n",
    "        return match[2]  # Kata setelah kata kunci\n",
    "    \n",
    "    return None\n",
    "\n",
    "# Terapkan fungsi untuk membuat kolom baru\n",
    "data['correct_answer'] = data['Output'].apply(extract_keyword_variable)\n"
   ]
  },
  {
   "cell_type": "markdown",
   "metadata": {},
   "source": [
    "## Save Data ke dalam csv"
   ]
  },
  {
   "cell_type": "code",
   "execution_count": 10,
   "metadata": {},
   "outputs": [],
   "source": [
    "# Simpan dataset yang telah diproses\n",
    "data.to_csv('oop_with_placeholders.csv', index=False)"
   ]
  },
  {
   "cell_type": "code",
   "execution_count": 14,
   "metadata": {},
   "outputs": [
    {
     "name": "stdout",
     "output_type": "stream",
     "text": [
      "File JSON berhasil disimpan: questions_oop.json\n"
     ]
    }
   ],
   "source": [
    "import json\n",
    "\n",
    "# Membuat struktur JSON\n",
    "json_data = {\"quiz\": []}\n",
    "\n",
    "for _, row in data.iterrows():\n",
    "    question_id = row['question_id']\n",
    "    material = row['materi']\n",
    "    instruction = row['Instruction']\n",
    "    question = row['Template']\n",
    "    attempts = '1'\n",
    "    duration = '20'\n",
    "    \n",
    "    # Menggunakan regex untuk mencari placeholder '___' dan menggantinya dengan 'if'\n",
    "    if '___' in question:\n",
    "        correct_answer = row['correct_answer'] # Hanya menampilkan pengganti dari placeholder\n",
    "    else:\n",
    "        correct_answer = \"\"  # Jika tidak ada placeholder ___\n",
    "\n",
    "    # Menambahkan ke struktur JSON\n",
    "    question_entry = {\n",
    "        \"question_id\": question_id,\n",
    "        \"material\": material,\n",
    "        \"instruction\": instruction,\n",
    "        \"question\": question,\n",
    "        \"correct_answer\": correct_answer,\n",
    "        \"attempts\": attempts,\n",
    "        \"duration\": duration\n",
    "    }\n",
    "    json_data[\"quiz\"].append(question_entry)\n",
    "\n",
    "# Menyimpan ke file JSON\n",
    "output_json_path = 'questions_oop.json'\n",
    "with open(output_json_path, 'w') as json_file:\n",
    "    json.dump(json_data, json_file, indent=4)\n",
    "\n",
    "print(f\"File JSON berhasil disimpan: {output_json_path}\")\n"
   ]
  },
  {
   "cell_type": "code",
   "execution_count": 12,
   "metadata": {},
   "outputs": [
    {
     "data": {
      "text/html": [
       "<div>\n",
       "<style scoped>\n",
       "    .dataframe tbody tr th:only-of-type {\n",
       "        vertical-align: middle;\n",
       "    }\n",
       "\n",
       "    .dataframe tbody tr th {\n",
       "        vertical-align: top;\n",
       "    }\n",
       "\n",
       "    .dataframe thead th {\n",
       "        text-align: right;\n",
       "    }\n",
       "</style>\n",
       "<table border=\"1\" class=\"dataframe\">\n",
       "  <thead>\n",
       "    <tr style=\"text-align: right;\">\n",
       "      <th></th>\n",
       "      <th>Instruction</th>\n",
       "      <th>Input</th>\n",
       "      <th>Output</th>\n",
       "      <th>materi</th>\n",
       "      <th>question_id</th>\n",
       "      <th>Template</th>\n",
       "      <th>correct_answer</th>\n",
       "    </tr>\n",
       "  </thead>\n",
       "  <tbody>\n",
       "    <tr>\n",
       "      <th>0</th>\n",
       "      <td>Design a class in Python that models a custome...</td>\n",
       "      <td>Attributes: name, email, phone_number, address.</td>\n",
       "      <td>class Customer:\\r\\n    def __init__(self,name,...</td>\n",
       "      <td>OOP</td>\n",
       "      <td>34</td>\n",
       "      <td>class ___:\\r\\n    def __init__(self,name, emai...</td>\n",
       "      <td>Customer</td>\n",
       "    </tr>\n",
       "    <tr>\n",
       "      <th>2</th>\n",
       "      <td>Create a class in Python that represents a giv...</td>\n",
       "      <td>Cat</td>\n",
       "      <td>class Cat:\\r\\n    def __init__(self):\\r\\n     ...</td>\n",
       "      <td>OOP</td>\n",
       "      <td>595</td>\n",
       "      <td>class ___:\\r\\n    def __init__(self):\\r\\n     ...</td>\n",
       "      <td>Cat</td>\n",
       "    </tr>\n",
       "    <tr>\n",
       "      <th>4</th>\n",
       "      <td>Extend a Python class to create another class ...</td>\n",
       "      <td>class Vehicle:\\r\\n\\tdef __init__(self):\\r\\n\\t\\...</td>\n",
       "      <td>class Motorcycle(Vehicle):\\r\\n    def __init__...</td>\n",
       "      <td>OOP</td>\n",
       "      <td>836</td>\n",
       "      <td>class ___(Vehicle):\\r\\n    def __init__(self):...</td>\n",
       "      <td>Motorcycle</td>\n",
       "    </tr>\n",
       "    <tr>\n",
       "      <th>8</th>\n",
       "      <td>Edit the following Python class such that it c...</td>\n",
       "      <td>class Person:\\r\\n    def __init__(self, name, ...</td>\n",
       "      <td>class Person:\\r\\n    def __init__(self, *args)...</td>\n",
       "      <td>OOP</td>\n",
       "      <td>1386</td>\n",
       "      <td>class ___:\\r\\n    def __init__(self, *args):\\r...</td>\n",
       "      <td>Person</td>\n",
       "    </tr>\n",
       "    <tr>\n",
       "      <th>9</th>\n",
       "      <td>Write Python code to implement a class like this.</td>\n",
       "      <td>class Employee: \\r\\n    def __init__(self, nam...</td>\n",
       "      <td>class Employee: \\r\\n    def __init__(self, nam...</td>\n",
       "      <td>OOP</td>\n",
       "      <td>1520</td>\n",
       "      <td>class ___: \\r\\n    def __init__(self, name, ag...</td>\n",
       "      <td>Employee</td>\n",
       "    </tr>\n",
       "  </tbody>\n",
       "</table>\n",
       "</div>"
      ],
      "text/plain": [
       "                                         Instruction  \\\n",
       "0  Design a class in Python that models a custome...   \n",
       "2  Create a class in Python that represents a giv...   \n",
       "4  Extend a Python class to create another class ...   \n",
       "8  Edit the following Python class such that it c...   \n",
       "9  Write Python code to implement a class like this.   \n",
       "\n",
       "                                               Input  \\\n",
       "0    Attributes: name, email, phone_number, address.   \n",
       "2                                                Cat   \n",
       "4  class Vehicle:\\r\\n\\tdef __init__(self):\\r\\n\\t\\...   \n",
       "8  class Person:\\r\\n    def __init__(self, name, ...   \n",
       "9  class Employee: \\r\\n    def __init__(self, nam...   \n",
       "\n",
       "                                              Output materi  question_id  \\\n",
       "0  class Customer:\\r\\n    def __init__(self,name,...    OOP           34   \n",
       "2  class Cat:\\r\\n    def __init__(self):\\r\\n     ...    OOP          595   \n",
       "4  class Motorcycle(Vehicle):\\r\\n    def __init__...    OOP          836   \n",
       "8  class Person:\\r\\n    def __init__(self, *args)...    OOP         1386   \n",
       "9  class Employee: \\r\\n    def __init__(self, nam...    OOP         1520   \n",
       "\n",
       "                                            Template correct_answer  \n",
       "0  class ___:\\r\\n    def __init__(self,name, emai...       Customer  \n",
       "2  class ___:\\r\\n    def __init__(self):\\r\\n     ...            Cat  \n",
       "4  class ___(Vehicle):\\r\\n    def __init__(self):...     Motorcycle  \n",
       "8  class ___:\\r\\n    def __init__(self, *args):\\r...         Person  \n",
       "9  class ___: \\r\\n    def __init__(self, name, ag...       Employee  "
      ]
     },
     "execution_count": 12,
     "metadata": {},
     "output_type": "execute_result"
    }
   ],
   "source": [
    "data.head()"
   ]
  },
  {
   "cell_type": "code",
   "execution_count": null,
   "metadata": {},
   "outputs": [],
   "source": []
  }
 ],
 "metadata": {
  "kernelspec": {
   "display_name": "Python 3",
   "language": "python",
   "name": "python3"
  },
  "language_info": {
   "codemirror_mode": {
    "name": "ipython",
    "version": 3
   },
   "file_extension": ".py",
   "mimetype": "text/x-python",
   "name": "python",
   "nbconvert_exporter": "python",
   "pygments_lexer": "ipython3",
   "version": "3.11.0"
  }
 },
 "nbformat": 4,
 "nbformat_minor": 2
}
