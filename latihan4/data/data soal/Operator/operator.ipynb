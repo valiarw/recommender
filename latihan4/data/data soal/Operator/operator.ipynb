{
 "cells": [
  {
   "cell_type": "markdown",
   "metadata": {},
   "source": [
    "## Import Library"
   ]
  },
  {
   "cell_type": "code",
   "execution_count": 14,
   "metadata": {},
   "outputs": [],
   "source": [
    "import pandas as pd\n",
    "import re"
   ]
  },
  {
   "cell_type": "markdown",
   "metadata": {},
   "source": [
    "## Load Data"
   ]
  },
  {
   "cell_type": "code",
   "execution_count": 15,
   "metadata": {},
   "outputs": [
    {
     "data": {
      "text/html": [
       "<div>\n",
       "<style scoped>\n",
       "    .dataframe tbody tr th:only-of-type {\n",
       "        vertical-align: middle;\n",
       "    }\n",
       "\n",
       "    .dataframe tbody tr th {\n",
       "        vertical-align: top;\n",
       "    }\n",
       "\n",
       "    .dataframe thead th {\n",
       "        text-align: right;\n",
       "    }\n",
       "</style>\n",
       "<table border=\"1\" class=\"dataframe\">\n",
       "  <thead>\n",
       "    <tr style=\"text-align: right;\">\n",
       "      <th></th>\n",
       "      <th>Instruction</th>\n",
       "      <th>Input</th>\n",
       "      <th>Output</th>\n",
       "      <th>materi</th>\n",
       "      <th>question_id</th>\n",
       "    </tr>\n",
       "  </thead>\n",
       "  <tbody>\n",
       "    <tr>\n",
       "      <th>0</th>\n",
       "      <td>Create a for-loop in Python and use it to find...</td>\n",
       "      <td>[1, 4, 9, 16, 25]</td>\n",
       "      <td>total = 0\\r\\nfor num in [1, 4, 9, 16, 25]:\\r\\n...</td>\n",
       "      <td>Operator</td>\n",
       "      <td>60</td>\n",
       "    </tr>\n",
       "    <tr>\n",
       "      <th>1</th>\n",
       "      <td>Generate a Python program to remove a key-valu...</td>\n",
       "      <td>d = { 'a': 10, 'b': 20, 'c':30 }</td>\n",
       "      <td>def remove_pair(d, key):\\r\\n if key in d:\\r\\n ...</td>\n",
       "      <td>Operator</td>\n",
       "      <td>78</td>\n",
       "    </tr>\n",
       "    <tr>\n",
       "      <th>2</th>\n",
       "      <td>Write a Python code to generate the Fibonacci ...</td>\n",
       "      <td>7</td>\n",
       "      <td>def fibonacciSequence(n): \\r\\n    fibSequence ...</td>\n",
       "      <td>Operator</td>\n",
       "      <td>104</td>\n",
       "    </tr>\n",
       "    <tr>\n",
       "      <th>3</th>\n",
       "      <td>Create a function to calculate the midpoint be...</td>\n",
       "      <td>point1 = [35.0, 43.0, 81.0]\\r\\npoint2 = [82.0,...</td>\n",
       "      <td>def midpoint3D(point1, point2): \\r\\n    x_mid ...</td>\n",
       "      <td>Operator</td>\n",
       "      <td>115</td>\n",
       "    </tr>\n",
       "    <tr>\n",
       "      <th>4</th>\n",
       "      <td>Edit the given Python code to reverse the orde...</td>\n",
       "      <td>string = \"Hello World!\"</td>\n",
       "      <td>def reverse_string(string):\\r\\n    reversed_st...</td>\n",
       "      <td>Operator</td>\n",
       "      <td>127</td>\n",
       "    </tr>\n",
       "  </tbody>\n",
       "</table>\n",
       "</div>"
      ],
      "text/plain": [
       "                                         Instruction  \\\n",
       "0  Create a for-loop in Python and use it to find...   \n",
       "1  Generate a Python program to remove a key-valu...   \n",
       "2  Write a Python code to generate the Fibonacci ...   \n",
       "3  Create a function to calculate the midpoint be...   \n",
       "4  Edit the given Python code to reverse the orde...   \n",
       "\n",
       "                                               Input  \\\n",
       "0                                  [1, 4, 9, 16, 25]   \n",
       "1                   d = { 'a': 10, 'b': 20, 'c':30 }   \n",
       "2                                                  7   \n",
       "3  point1 = [35.0, 43.0, 81.0]\\r\\npoint2 = [82.0,...   \n",
       "4                            string = \"Hello World!\"   \n",
       "\n",
       "                                              Output    materi  question_id  \n",
       "0  total = 0\\r\\nfor num in [1, 4, 9, 16, 25]:\\r\\n...  Operator           60  \n",
       "1  def remove_pair(d, key):\\r\\n if key in d:\\r\\n ...  Operator           78  \n",
       "2  def fibonacciSequence(n): \\r\\n    fibSequence ...  Operator          104  \n",
       "3  def midpoint3D(point1, point2): \\r\\n    x_mid ...  Operator          115  \n",
       "4  def reverse_string(string):\\r\\n    reversed_st...  Operator          127  "
      ]
     },
     "execution_count": 15,
     "metadata": {},
     "output_type": "execute_result"
    }
   ],
   "source": [
    "\n",
    "file_path = 'C:/Users/user/CAPSTONE-PROJEK---CODEY/Machine Learning/kategori soal/operator.csv'\n",
    "\n",
    "data = pd.read_csv(file_path)\n",
    "data.head()\n"
   ]
  },
  {
   "cell_type": "code",
   "execution_count": 16,
   "metadata": {},
   "outputs": [],
   "source": [
    "def add_placeholder(code):\n",
    "    \"\"\"\n",
    "    Gantikan kata setelah kata kunci dengan placeholder '___'.\n",
    "    Hanya satu kali mengganti di seluruh kode setelah menemukan kecocokan pertama.\n",
    "    \"\"\"\n",
    "    # Pola regex untuk mencari kata kunci dan mengganti kata setelahnya dengan placeholder\n",
    "    patterns = [\n",
    "         r'(\\+|\\-|\\*|\\/|\\%|\\*\\*|==|!=|<|>|<=|>=|=)\\s+(\\w+)\\b'\n",
    "    ]\n",
    "    \n",
    "    # Cari kecocokan pertama dalam seluruh kode\n",
    "    for pattern in patterns:\n",
    "        match = re.search(pattern, code)\n",
    "        if match:\n",
    "            # Ganti kata setelah kata kunci dengan placeholder '___' pada kecocokan pertama\n",
    "            code = re.sub(pattern, r'\\1 ___', code, count=1)  # Hanya mengganti kecocokan pertama\n",
    "    \n",
    "    return code\n"
   ]
  },
  {
   "cell_type": "markdown",
   "metadata": {},
   "source": [
    "Menambahkan kolom template untuk soal"
   ]
  },
  {
   "cell_type": "code",
   "execution_count": 17,
   "metadata": {},
   "outputs": [
    {
     "name": "stdout",
     "output_type": "stream",
     "text": [
      "total = ___\n",
      "for num in [1, 4, 9, 16, 25]:\n",
      "  total += num\n",
      "print(total)\n",
      "total = 0\n",
      "for num in [1, 4, 9, 16, 25]:\n",
      "  total += num\n",
      "print(total)\n"
     ]
    }
   ],
   "source": [
    "# Terapkan fungsi pada kolom 'Output'\n",
    "data['Template'] = data['Output'].apply(add_placeholder)\n",
    "print(data['Template'][0])\n",
    "print(data['Output'][0])\n"
   ]
  },
  {
   "cell_type": "markdown",
   "metadata": {},
   "source": [
    "Membuat fungsi untuk mengecek data soal memiliki placeholder"
   ]
  },
  {
   "cell_type": "code",
   "execution_count": 18,
   "metadata": {},
   "outputs": [],
   "source": [
    "def check_placeholder_in_column(df, column_name, placeholder=\"___\"):\n",
    "    \"\"\"\n",
    "    Cek apakah kolom tertentu dalam DataFrame mengandung placeholder.\n",
    "    \n",
    "    Args:\n",
    "        df (pd.DataFrame): DataFrame yang akan dicek.\n",
    "        column_name (str): Nama kolom yang akan diperiksa.\n",
    "        placeholder (str): Placeholder yang dicari (default: \"___\").\n",
    "    \n",
    "    Returns:\n",
    "        pd.Series: Kolom boolean (True jika ada placeholder, False jika tidak).\n",
    "    \"\"\"\n",
    "    return df[column_name].str.contains(placeholder, na=False)\n"
   ]
  },
  {
   "cell_type": "code",
   "execution_count": 19,
   "metadata": {},
   "outputs": [
    {
     "name": "stdout",
     "output_type": "stream",
     "text": [
      "has_placeholder\n",
      "True     235\n",
      "False     52\n",
      "Name: count, dtype: int64\n"
     ]
    }
   ],
   "source": [
    "data[\"has_placeholder\"] = check_placeholder_in_column(data, \"Template\")\n",
    "\n",
    "print(data[\"has_placeholder\"].value_counts())"
   ]
  },
  {
   "cell_type": "code",
   "execution_count": 20,
   "metadata": {},
   "outputs": [],
   "source": [
    "# Hapus baris dengan nilai False\n",
    "data = data[data[\"has_placeholder\"]]\n"
   ]
  },
  {
   "cell_type": "code",
   "execution_count": 21,
   "metadata": {},
   "outputs": [
    {
     "name": "stdout",
     "output_type": "stream",
     "text": [
      "has_placeholder\n",
      "True    235\n",
      "Name: count, dtype: int64\n"
     ]
    }
   ],
   "source": [
    "print(data[\"has_placeholder\"].value_counts())\n",
    "\n",
    "# Hapus kolom 'has_placeholder' jika tidak diperlukan lagi\n",
    "data = data.drop(columns=[\"has_placeholder\"])\n"
   ]
  },
  {
   "cell_type": "code",
   "execution_count": 22,
   "metadata": {},
   "outputs": [],
   "source": [
    "def extract_keyword_variable(code):\n",
    "    \"\"\"\n",
    "    Mengambil kata setelah kata kunci dan mengembalikannya.\n",
    "    \"\"\"\n",
    "    # Pola regex untuk mencari kata kunci dan mengekstrak kata setelahnya\n",
    "    pattern = r'(\\+|\\-|\\*|\\/|\\%|\\*\\*|==|!=|<|>|<=|>=|=)\\s+(\\w+)\\b'\n",
    "    \n",
    "    match = re.search(pattern, code)\n",
    "    \n",
    "    # Jika ada kecocokan, ambil kata setelah kata kunci (hasil kedua dalam tuple)\n",
    "    if match:\n",
    "        return match[2]  # Kata setelah kata kunci\n",
    "    \n",
    "    return None\n",
    "\n",
    "# Terapkan fungsi untuk membuat kolom baru\n",
    "data['correct_answer'] = data['Output'].apply(extract_keyword_variable)\n"
   ]
  },
  {
   "cell_type": "markdown",
   "metadata": {},
   "source": [
    "## Save Data ke dalam csv"
   ]
  },
  {
   "cell_type": "code",
   "execution_count": 23,
   "metadata": {},
   "outputs": [],
   "source": [
    "# Simpan dataset yang telah diproses\n",
    "data.to_csv('Operator_with_placeholders.csv', index=False)"
   ]
  },
  {
   "cell_type": "code",
   "execution_count": 24,
   "metadata": {},
   "outputs": [
    {
     "name": "stdout",
     "output_type": "stream",
     "text": [
      "File JSON berhasil disimpan: questions_operators.json\n"
     ]
    }
   ],
   "source": [
    "import json\n",
    "\n",
    "# Membuat struktur JSON\n",
    "json_data = {\"quiz\": []}\n",
    "\n",
    "for _, row in data.iterrows():\n",
    "    question_id = row['question_id']\n",
    "    material = row['materi']\n",
    "    instruction = row['Instruction']\n",
    "    question = row['Template']\n",
    "    attempts = '1'\n",
    "    duration = '20'\n",
    "    \n",
    "    # Menggunakan regex untuk mencari placeholder '___' dan menggantinya dengan 'if'\n",
    "    if '___' in question:\n",
    "        correct_answer = row['correct_answer'] # Hanya menampilkan pengganti dari placeholder\n",
    "    else:\n",
    "        correct_answer = \"\"  # Jika tidak ada placeholder ___\n",
    "\n",
    "    # Menambahkan ke struktur JSON\n",
    "    question_entry = {\n",
    "        \"question_id\": question_id,\n",
    "        \"material\": material,\n",
    "        \"instruction\": instruction,\n",
    "        \"question\": question,\n",
    "        \"correct_answer\": correct_answer,\n",
    "        \"attempts\": attempts,\n",
    "        \"duration\": duration\n",
    "    }\n",
    "    json_data[\"quiz\"].append(question_entry)\n",
    "\n",
    "# Menyimpan ke file JSON\n",
    "output_json_path = 'questions_operators.json'\n",
    "with open(output_json_path, 'w') as json_file:\n",
    "    json.dump(json_data, json_file, indent=4)\n",
    "\n",
    "print(f\"File JSON berhasil disimpan: {output_json_path}\")\n"
   ]
  },
  {
   "cell_type": "code",
   "execution_count": 25,
   "metadata": {},
   "outputs": [
    {
     "data": {
      "text/html": [
       "<div>\n",
       "<style scoped>\n",
       "    .dataframe tbody tr th:only-of-type {\n",
       "        vertical-align: middle;\n",
       "    }\n",
       "\n",
       "    .dataframe tbody tr th {\n",
       "        vertical-align: top;\n",
       "    }\n",
       "\n",
       "    .dataframe thead th {\n",
       "        text-align: right;\n",
       "    }\n",
       "</style>\n",
       "<table border=\"1\" class=\"dataframe\">\n",
       "  <thead>\n",
       "    <tr style=\"text-align: right;\">\n",
       "      <th></th>\n",
       "      <th>Instruction</th>\n",
       "      <th>Input</th>\n",
       "      <th>Output</th>\n",
       "      <th>materi</th>\n",
       "      <th>question_id</th>\n",
       "      <th>Template</th>\n",
       "      <th>correct_answer</th>\n",
       "    </tr>\n",
       "  </thead>\n",
       "  <tbody>\n",
       "    <tr>\n",
       "      <th>0</th>\n",
       "      <td>Create a for-loop in Python and use it to find...</td>\n",
       "      <td>[1, 4, 9, 16, 25]</td>\n",
       "      <td>total = 0\\r\\nfor num in [1, 4, 9, 16, 25]:\\r\\n...</td>\n",
       "      <td>Operator</td>\n",
       "      <td>60</td>\n",
       "      <td>total = ___\\r\\nfor num in [1, 4, 9, 16, 25]:\\r...</td>\n",
       "      <td>0</td>\n",
       "    </tr>\n",
       "    <tr>\n",
       "      <th>2</th>\n",
       "      <td>Write a Python code to generate the Fibonacci ...</td>\n",
       "      <td>7</td>\n",
       "      <td>def fibonacciSequence(n): \\r\\n    fibSequence ...</td>\n",
       "      <td>Operator</td>\n",
       "      <td>104</td>\n",
       "      <td>def fibonacciSequence(n): \\r\\n    fibSequence ...</td>\n",
       "      <td>0</td>\n",
       "    </tr>\n",
       "    <tr>\n",
       "      <th>3</th>\n",
       "      <td>Create a function to calculate the midpoint be...</td>\n",
       "      <td>point1 = [35.0, 43.0, 81.0]\\r\\npoint2 = [82.0,...</td>\n",
       "      <td>def midpoint3D(point1, point2): \\r\\n    x_mid ...</td>\n",
       "      <td>Operator</td>\n",
       "      <td>115</td>\n",
       "      <td>def midpoint3D(point1, point2): \\r\\n    x_mid ...</td>\n",
       "      <td>point2</td>\n",
       "    </tr>\n",
       "    <tr>\n",
       "      <th>4</th>\n",
       "      <td>Edit the given Python code to reverse the orde...</td>\n",
       "      <td>string = \"Hello World!\"</td>\n",
       "      <td>def reverse_string(string):\\r\\n    reversed_st...</td>\n",
       "      <td>Operator</td>\n",
       "      <td>127</td>\n",
       "      <td>def reverse_string(string):\\r\\n    reversed_st...</td>\n",
       "      <td>1</td>\n",
       "    </tr>\n",
       "    <tr>\n",
       "      <th>5</th>\n",
       "      <td>Write a Python program to convert a timestamp ...</td>\n",
       "      <td>timestamp: 1591123259</td>\n",
       "      <td>import datetime\\r\\n\\r\\n# Function to convert t...</td>\n",
       "      <td>Operator</td>\n",
       "      <td>137</td>\n",
       "      <td>import datetime\\r\\n\\r\\n# Function to convert t...</td>\n",
       "      <td>1591123259</td>\n",
       "    </tr>\n",
       "  </tbody>\n",
       "</table>\n",
       "</div>"
      ],
      "text/plain": [
       "                                         Instruction  \\\n",
       "0  Create a for-loop in Python and use it to find...   \n",
       "2  Write a Python code to generate the Fibonacci ...   \n",
       "3  Create a function to calculate the midpoint be...   \n",
       "4  Edit the given Python code to reverse the orde...   \n",
       "5  Write a Python program to convert a timestamp ...   \n",
       "\n",
       "                                               Input  \\\n",
       "0                                  [1, 4, 9, 16, 25]   \n",
       "2                                                  7   \n",
       "3  point1 = [35.0, 43.0, 81.0]\\r\\npoint2 = [82.0,...   \n",
       "4                            string = \"Hello World!\"   \n",
       "5                              timestamp: 1591123259   \n",
       "\n",
       "                                              Output    materi  question_id  \\\n",
       "0  total = 0\\r\\nfor num in [1, 4, 9, 16, 25]:\\r\\n...  Operator           60   \n",
       "2  def fibonacciSequence(n): \\r\\n    fibSequence ...  Operator          104   \n",
       "3  def midpoint3D(point1, point2): \\r\\n    x_mid ...  Operator          115   \n",
       "4  def reverse_string(string):\\r\\n    reversed_st...  Operator          127   \n",
       "5  import datetime\\r\\n\\r\\n# Function to convert t...  Operator          137   \n",
       "\n",
       "                                            Template correct_answer  \n",
       "0  total = ___\\r\\nfor num in [1, 4, 9, 16, 25]:\\r...              0  \n",
       "2  def fibonacciSequence(n): \\r\\n    fibSequence ...              0  \n",
       "3  def midpoint3D(point1, point2): \\r\\n    x_mid ...         point2  \n",
       "4  def reverse_string(string):\\r\\n    reversed_st...              1  \n",
       "5  import datetime\\r\\n\\r\\n# Function to convert t...     1591123259  "
      ]
     },
     "execution_count": 25,
     "metadata": {},
     "output_type": "execute_result"
    }
   ],
   "source": [
    "data.head()"
   ]
  },
  {
   "cell_type": "code",
   "execution_count": null,
   "metadata": {},
   "outputs": [],
   "source": []
  }
 ],
 "metadata": {
  "kernelspec": {
   "display_name": "Python 3",
   "language": "python",
   "name": "python3"
  },
  "language_info": {
   "codemirror_mode": {
    "name": "ipython",
    "version": 3
   },
   "file_extension": ".py",
   "mimetype": "text/x-python",
   "name": "python",
   "nbconvert_exporter": "python",
   "pygments_lexer": "ipython3",
   "version": "3.11.0"
  }
 },
 "nbformat": 4,
 "nbformat_minor": 2
}
