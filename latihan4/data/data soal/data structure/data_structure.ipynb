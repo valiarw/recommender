{
 "cells": [
  {
   "cell_type": "markdown",
   "metadata": {},
   "source": [
    "## Import Library"
   ]
  },
  {
   "cell_type": "code",
   "execution_count": 13,
   "metadata": {},
   "outputs": [],
   "source": [
    "import pandas as pd\n",
    "import re"
   ]
  },
  {
   "cell_type": "markdown",
   "metadata": {},
   "source": [
    "## Load data"
   ]
  },
  {
   "cell_type": "code",
   "execution_count": 14,
   "metadata": {},
   "outputs": [
    {
     "data": {
      "text/html": [
       "<div>\n",
       "<style scoped>\n",
       "    .dataframe tbody tr th:only-of-type {\n",
       "        vertical-align: middle;\n",
       "    }\n",
       "\n",
       "    .dataframe tbody tr th {\n",
       "        vertical-align: top;\n",
       "    }\n",
       "\n",
       "    .dataframe thead th {\n",
       "        text-align: right;\n",
       "    }\n",
       "</style>\n",
       "<table border=\"1\" class=\"dataframe\">\n",
       "  <thead>\n",
       "    <tr style=\"text-align: right;\">\n",
       "      <th></th>\n",
       "      <th>Instruction</th>\n",
       "      <th>Input</th>\n",
       "      <th>Output</th>\n",
       "      <th>materi</th>\n",
       "      <th>question_id</th>\n",
       "    </tr>\n",
       "  </thead>\n",
       "  <tbody>\n",
       "    <tr>\n",
       "      <th>0</th>\n",
       "      <td>Create a function in Python which takes a list...</td>\n",
       "      <td>[3, 4, 5]</td>\n",
       "      <td>def sum_squares(nums):\\r\\n    result = 0\\r\\n  ...</td>\n",
       "      <td>Data Structure</td>\n",
       "      <td>0</td>\n",
       "    </tr>\n",
       "    <tr>\n",
       "      <th>1</th>\n",
       "      <td>Design a function in Python that sorts a list ...</td>\n",
       "      <td>['red', 'green', 'orange']</td>\n",
       "      <td>def sort_list_alphabetically(input_list): \\r\\n...</td>\n",
       "      <td>Data Structure</td>\n",
       "      <td>1</td>\n",
       "    </tr>\n",
       "    <tr>\n",
       "      <th>2</th>\n",
       "      <td>Create a Python algorithm to calculate the tar...</td>\n",
       "      <td>subtrahend: 10\\r\\nlist: [4, 3, 8, 6, 5]</td>\n",
       "      <td>def target_sum(subtrahend, lst):\\r\\n    target...</td>\n",
       "      <td>Data Structure</td>\n",
       "      <td>4</td>\n",
       "    </tr>\n",
       "    <tr>\n",
       "      <th>3</th>\n",
       "      <td>Create a Python program to sort a list of tupl...</td>\n",
       "      <td>[(21, \"ABC\", 33), (9, \"XYZ\", 88), (67, \"MNO\", ...</td>\n",
       "      <td>def sort_tuple_list(tuple_list):\\r\\n    sorted...</td>\n",
       "      <td>Data Structure</td>\n",
       "      <td>7</td>\n",
       "    </tr>\n",
       "    <tr>\n",
       "      <th>4</th>\n",
       "      <td>Please generate a Python script that calculate...</td>\n",
       "      <td>[4, 9, 3, 5]</td>\n",
       "      <td>def calculateMean(array):\\r\\n    # sum up all ...</td>\n",
       "      <td>Data Structure</td>\n",
       "      <td>8</td>\n",
       "    </tr>\n",
       "  </tbody>\n",
       "</table>\n",
       "</div>"
      ],
      "text/plain": [
       "                                         Instruction  \\\n",
       "0  Create a function in Python which takes a list...   \n",
       "1  Design a function in Python that sorts a list ...   \n",
       "2  Create a Python algorithm to calculate the tar...   \n",
       "3  Create a Python program to sort a list of tupl...   \n",
       "4  Please generate a Python script that calculate...   \n",
       "\n",
       "                                               Input  \\\n",
       "0                                          [3, 4, 5]   \n",
       "1                         ['red', 'green', 'orange']   \n",
       "2            subtrahend: 10\\r\\nlist: [4, 3, 8, 6, 5]   \n",
       "3  [(21, \"ABC\", 33), (9, \"XYZ\", 88), (67, \"MNO\", ...   \n",
       "4                                       [4, 9, 3, 5]   \n",
       "\n",
       "                                              Output          materi  \\\n",
       "0  def sum_squares(nums):\\r\\n    result = 0\\r\\n  ...  Data Structure   \n",
       "1  def sort_list_alphabetically(input_list): \\r\\n...  Data Structure   \n",
       "2  def target_sum(subtrahend, lst):\\r\\n    target...  Data Structure   \n",
       "3  def sort_tuple_list(tuple_list):\\r\\n    sorted...  Data Structure   \n",
       "4  def calculateMean(array):\\r\\n    # sum up all ...  Data Structure   \n",
       "\n",
       "   question_id  \n",
       "0            0  \n",
       "1            1  \n",
       "2            4  \n",
       "3            7  \n",
       "4            8  "
      ]
     },
     "execution_count": 14,
     "metadata": {},
     "output_type": "execute_result"
    }
   ],
   "source": [
    "file_path = r'C:\\Users\\user\\CAPSTONE-PROJEK---CODEY\\Machine Learning\\kategori soal\\data_structure.csv'\n",
    "\n",
    "data = pd.read_csv(file_path)\n",
    "\n",
    "data.head()"
   ]
  },
  {
   "cell_type": "code",
   "execution_count": 15,
   "metadata": {},
   "outputs": [],
   "source": [
    "def add_placeholder(code):\n",
    "    \"\"\"\n",
    "    Gantikan kata setelah kata kunci seperti list, tuple, dict, set, dll., dengan placeholder '___'.\n",
    "    Hanya satu kali mengganti di seluruh kode setelah menemukan kecocokan pertama.\n",
    "    \"\"\"\n",
    "    # Pola regex untuk mencari kata kunci dan mengganti kata setelahnya dengan placeholder\n",
    "    patterns = [\n",
    "         r'\\b(list|tuple|dict|set|array|append|pop|insert|remove|copy|del)\\s+(\\w+)\\b'\n",
    "    ]\n",
    "    \n",
    "    # Cari kecocokan pertama dalam seluruh kode\n",
    "    for pattern in patterns:\n",
    "        match = re.search(pattern, code)\n",
    "        if match:\n",
    "            # Ganti kata setelah kata kunci dengan placeholder '___' pada kecocokan pertama\n",
    "            code = re.sub(pattern, r'\\1 ___', code, count=1)  # Hanya mengganti kecocokan pertama\n",
    "    \n",
    "    return code\n"
   ]
  },
  {
   "cell_type": "markdown",
   "metadata": {},
   "source": [
    "Menambah kolom Template untuk soal "
   ]
  },
  {
   "cell_type": "code",
   "execution_count": 16,
   "metadata": {},
   "outputs": [
    {
     "name": "stdout",
     "output_type": "stream",
     "text": [
      "def removeSpecifiedIndex(list, index): \n",
      "  # using list ___ \n",
      "  new_list = [list[i] for i in range(len(list)) if i != index]  \n",
      "\n",
      "  return new_list \n",
      "\n",
      "list = ['Apple', 'Orange', 'Banana', 'Mango']  \n",
      "index = 2\n",
      "\n",
      "print(removeSpecifiedIndex(list, index))\n",
      "def removeSpecifiedIndex(list, index): \n",
      "  # using list comprehension \n",
      "  new_list = [list[i] for i in range(len(list)) if i != index]  \n",
      "\n",
      "  return new_list \n",
      "\n",
      "list = ['Apple', 'Orange', 'Banana', 'Mango']  \n",
      "index = 2\n",
      "\n",
      "print(removeSpecifiedIndex(list, index))\n",
      "Write a Python program to remove an item from a list whose index is specified.\n"
     ]
    }
   ],
   "source": [
    "# Terapkan fungsi pada kolom 'Full Code'\n",
    "data['Template'] = data['Output'].apply(add_placeholder)\n",
    "print(data['Template'][9])\n",
    "print(data['Output'][9])\n",
    "print(data['Instruction'][9])\n"
   ]
  },
  {
   "cell_type": "markdown",
   "metadata": {},
   "source": [
    "Membuat fungsi untuk mengecek data soal memiliki placeholder"
   ]
  },
  {
   "cell_type": "code",
   "execution_count": 17,
   "metadata": {},
   "outputs": [],
   "source": [
    "def check_placeholder_in_column(df, column_name, placeholder=\"___\"):\n",
    "    \"\"\"\n",
    "    Cek apakah kolom tertentu dalam DataFrame mengandung placeholder.\n",
    "    \n",
    "    Args:\n",
    "        df (pd.DataFrame): DataFrame yang akan dicek.\n",
    "        column_name (str): Nama kolom yang akan diperiksa.\n",
    "        placeholder (str): Placeholder yang dicari (default: \"___\").\n",
    "    \n",
    "    Returns:\n",
    "        pd.Series: Kolom boolean (True jika ada placeholder, False jika tidak).\n",
    "    \"\"\"\n",
    "    return df[column_name].str.contains(placeholder, na=False)\n"
   ]
  },
  {
   "cell_type": "code",
   "execution_count": 18,
   "metadata": {},
   "outputs": [
    {
     "name": "stdout",
     "output_type": "stream",
     "text": [
      "has_placeholder\n",
      "False    2245\n",
      "True      336\n",
      "Name: count, dtype: int64\n"
     ]
    }
   ],
   "source": [
    "data[\"has_placeholder\"] = check_placeholder_in_column(data, \"Template\")\n",
    "\n",
    "print(data[\"has_placeholder\"].value_counts())"
   ]
  },
  {
   "cell_type": "code",
   "execution_count": 19,
   "metadata": {},
   "outputs": [
    {
     "name": "stdout",
     "output_type": "stream",
     "text": [
      "has_placeholder\n",
      "True    336\n",
      "Name: count, dtype: int64\n"
     ]
    }
   ],
   "source": [
    "# Hapus baris dengan nilai False\n",
    "data = data[data[\"has_placeholder\"]]\n",
    "\n",
    "print(data[\"has_placeholder\"].value_counts())\n",
    "\n",
    "# Hapus kolom 'has_placeholder' jika tidak diperlukan lagi\n",
    "data = data.drop(columns=[\"has_placeholder\"])\n"
   ]
  },
  {
   "cell_type": "code",
   "execution_count": 20,
   "metadata": {},
   "outputs": [],
   "source": [
    "def extract_keyword_variable(code):\n",
    "    \"\"\"\n",
    "    Mengambil kata setelah kata kunci seperti list, tuple, dict, set, dll., dan mengembalikannya.\n",
    "    \"\"\"\n",
    "    # Pola regex untuk mencari kata kunci dan mengekstrak kata setelahnya\n",
    "    pattern = r'\\b(list|tuple|dict|set|array|append|pop|insert|remove|copy|del)\\s+(\\w+)\\b'\n",
    "    \n",
    "    match = re.search(pattern, code)\n",
    "    \n",
    "    # Jika ada kecocokan, ambil kata setelah kata kunci (hasil kedua dalam tuple)\n",
    "    if match:\n",
    "        return match[2]  # Kata setelah kata kunci\n",
    "    \n",
    "    return None\n",
    "\n",
    "# Terapkan fungsi untuk membuat kolom baru\n",
    "data['correct_answer'] = data['Output'].apply(extract_keyword_variable)\n"
   ]
  },
  {
   "cell_type": "markdown",
   "metadata": {},
   "source": [
    "## Save Data"
   ]
  },
  {
   "cell_type": "code",
   "execution_count": 21,
   "metadata": {},
   "outputs": [],
   "source": [
    "# Simpan dataset yang telah diproses\n",
    "data.to_csv('data_structure_with_placeholders.csv', index=False)"
   ]
  },
  {
   "cell_type": "code",
   "execution_count": 22,
   "metadata": {},
   "outputs": [
    {
     "name": "stdout",
     "output_type": "stream",
     "text": [
      "File JSON berhasil disimpan: questions_data_structure.json\n"
     ]
    }
   ],
   "source": [
    "import json\n",
    "\n",
    "# Membuat struktur JSON\n",
    "json_data = {\"quiz\": []}\n",
    "\n",
    "for _, row in data.iterrows():\n",
    "    question_id = row['question_id']\n",
    "    material = row['materi']\n",
    "    instruction = row['Instruction']\n",
    "    question = row['Template']\n",
    "    attempts = '1'\n",
    "    duration = '20'\n",
    "    \n",
    "    # Menggunakan regex untuk mencari placeholder '___' dan menggantinya dengan 'if'\n",
    "    if '___' in question:\n",
    "        correct_answer = row['correct_answer'] # Hanya menampilkan pengganti dari placeholder\n",
    "    else:\n",
    "        correct_answer = \"\"  # Jika tidak ada placeholder ___\n",
    "\n",
    "    # Menambahkan ke struktur JSON\n",
    "    question_entry = {\n",
    "        \"question_id\": question_id,\n",
    "        \"material\": material,\n",
    "        \"instruction\": instruction,\n",
    "        \"question\": question,\n",
    "        \"correct_answer\": correct_answer,\n",
    "        \"attempts\": attempts,\n",
    "        \"duration\": duration\n",
    "    }\n",
    "    json_data[\"quiz\"].append(question_entry)\n",
    "\n",
    "# Menyimpan ke file JSON\n",
    "output_json_path = 'questions_data_structure.json'\n",
    "with open(output_json_path, 'w') as json_file:\n",
    "    json.dump(json_data, json_file, indent=4)\n",
    "\n",
    "print(f\"File JSON berhasil disimpan: {output_json_path}\")\n"
   ]
  },
  {
   "cell_type": "code",
   "execution_count": 23,
   "metadata": {},
   "outputs": [
    {
     "data": {
      "text/html": [
       "<div>\n",
       "<style scoped>\n",
       "    .dataframe tbody tr th:only-of-type {\n",
       "        vertical-align: middle;\n",
       "    }\n",
       "\n",
       "    .dataframe tbody tr th {\n",
       "        vertical-align: top;\n",
       "    }\n",
       "\n",
       "    .dataframe thead th {\n",
       "        text-align: right;\n",
       "    }\n",
       "</style>\n",
       "<table border=\"1\" class=\"dataframe\">\n",
       "  <thead>\n",
       "    <tr style=\"text-align: right;\">\n",
       "      <th></th>\n",
       "      <th>Instruction</th>\n",
       "      <th>Input</th>\n",
       "      <th>Output</th>\n",
       "      <th>materi</th>\n",
       "      <th>question_id</th>\n",
       "      <th>Template</th>\n",
       "      <th>correct_answer</th>\n",
       "    </tr>\n",
       "  </thead>\n",
       "  <tbody>\n",
       "    <tr>\n",
       "      <th>4</th>\n",
       "      <td>Please generate a Python script that calculate...</td>\n",
       "      <td>[4, 9, 3, 5]</td>\n",
       "      <td>def calculateMean(array):\\r\\n    # sum up all ...</td>\n",
       "      <td>Data Structure</td>\n",
       "      <td>8</td>\n",
       "      <td>def calculateMean(array):\\r\\n    # sum up all ...</td>\n",
       "      <td>mean</td>\n",
       "    </tr>\n",
       "    <tr>\n",
       "      <th>6</th>\n",
       "      <td>Suggest a way to randomize the order of the fo...</td>\n",
       "      <td>array = [1, 2, 3, 4, 5, 6]</td>\n",
       "      <td>import random\\r\\narray = [1, 2, 3, 4, 5, 6]\\r\\...</td>\n",
       "      <td>Data Structure</td>\n",
       "      <td>15</td>\n",
       "      <td>import random\\r\\narray = [1, 2, 3, 4, 5, 6]\\r\\...</td>\n",
       "      <td>in</td>\n",
       "    </tr>\n",
       "    <tr>\n",
       "      <th>9</th>\n",
       "      <td>Write a Python program to remove an item from ...</td>\n",
       "      <td>list = ['Apple', 'Orange', 'Banana', 'Mango']</td>\n",
       "      <td>def removeSpecifiedIndex(list, index): \\r\\n  #...</td>\n",
       "      <td>Data Structure</td>\n",
       "      <td>19</td>\n",
       "      <td>def removeSpecifiedIndex(list, index): \\r\\n  #...</td>\n",
       "      <td>comprehension</td>\n",
       "    </tr>\n",
       "    <tr>\n",
       "      <th>11</th>\n",
       "      <td>Write a function in Python that takes an array...</td>\n",
       "      <td>arr = [1, 6, 8, 4, 9, 6, 10]\\r\\nn = len(arr)</td>\n",
       "      <td>def findMax(arr, n):\\r\\n # Initializing max wi...</td>\n",
       "      <td>Data Structure</td>\n",
       "      <td>28</td>\n",
       "      <td>def findMax(arr, n):\\r\\n # Initializing max wi...</td>\n",
       "      <td>max</td>\n",
       "    </tr>\n",
       "    <tr>\n",
       "      <th>19</th>\n",
       "      <td>Create an algorithm using Python to find the l...</td>\n",
       "      <td>[8, 5, 10, 3]</td>\n",
       "      <td>def find_largest_number(numbers):\\r\\n    # Fin...</td>\n",
       "      <td>Data Structure</td>\n",
       "      <td>44</td>\n",
       "      <td>def find_largest_number(numbers):\\r\\n    # Fin...</td>\n",
       "      <td>largest</td>\n",
       "    </tr>\n",
       "  </tbody>\n",
       "</table>\n",
       "</div>"
      ],
      "text/plain": [
       "                                          Instruction  \\\n",
       "4   Please generate a Python script that calculate...   \n",
       "6   Suggest a way to randomize the order of the fo...   \n",
       "9   Write a Python program to remove an item from ...   \n",
       "11  Write a function in Python that takes an array...   \n",
       "19  Create an algorithm using Python to find the l...   \n",
       "\n",
       "                                            Input  \\\n",
       "4                                    [4, 9, 3, 5]   \n",
       "6                      array = [1, 2, 3, 4, 5, 6]   \n",
       "9   list = ['Apple', 'Orange', 'Banana', 'Mango']   \n",
       "11   arr = [1, 6, 8, 4, 9, 6, 10]\\r\\nn = len(arr)   \n",
       "19                                  [8, 5, 10, 3]   \n",
       "\n",
       "                                               Output          materi  \\\n",
       "4   def calculateMean(array):\\r\\n    # sum up all ...  Data Structure   \n",
       "6   import random\\r\\narray = [1, 2, 3, 4, 5, 6]\\r\\...  Data Structure   \n",
       "9   def removeSpecifiedIndex(list, index): \\r\\n  #...  Data Structure   \n",
       "11  def findMax(arr, n):\\r\\n # Initializing max wi...  Data Structure   \n",
       "19  def find_largest_number(numbers):\\r\\n    # Fin...  Data Structure   \n",
       "\n",
       "    question_id                                           Template  \\\n",
       "4             8  def calculateMean(array):\\r\\n    # sum up all ...   \n",
       "6            15  import random\\r\\narray = [1, 2, 3, 4, 5, 6]\\r\\...   \n",
       "9            19  def removeSpecifiedIndex(list, index): \\r\\n  #...   \n",
       "11           28  def findMax(arr, n):\\r\\n # Initializing max wi...   \n",
       "19           44  def find_largest_number(numbers):\\r\\n    # Fin...   \n",
       "\n",
       "   correct_answer  \n",
       "4            mean  \n",
       "6              in  \n",
       "9   comprehension  \n",
       "11            max  \n",
       "19        largest  "
      ]
     },
     "execution_count": 23,
     "metadata": {},
     "output_type": "execute_result"
    }
   ],
   "source": [
    "data.head()"
   ]
  },
  {
   "cell_type": "code",
   "execution_count": null,
   "metadata": {},
   "outputs": [],
   "source": []
  }
 ],
 "metadata": {
  "kernelspec": {
   "display_name": "Python 3",
   "language": "python",
   "name": "python3"
  },
  "language_info": {
   "codemirror_mode": {
    "name": "ipython",
    "version": 3
   },
   "file_extension": ".py",
   "mimetype": "text/x-python",
   "name": "python",
   "nbconvert_exporter": "python",
   "pygments_lexer": "ipython3",
   "version": "3.11.0"
  }
 },
 "nbformat": 4,
 "nbformat_minor": 2
}
