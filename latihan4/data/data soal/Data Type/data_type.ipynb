{
 "cells": [
  {
   "cell_type": "markdown",
   "metadata": {},
   "source": [
    "## Import Library"
   ]
  },
  {
   "cell_type": "code",
   "execution_count": 1,
   "metadata": {},
   "outputs": [],
   "source": [
    "import pandas as pd\n",
    "import re"
   ]
  },
  {
   "cell_type": "markdown",
   "metadata": {},
   "source": [
    "## Load data"
   ]
  },
  {
   "cell_type": "code",
   "execution_count": 2,
   "metadata": {},
   "outputs": [
    {
     "data": {
      "text/html": [
       "<div>\n",
       "<style scoped>\n",
       "    .dataframe tbody tr th:only-of-type {\n",
       "        vertical-align: middle;\n",
       "    }\n",
       "\n",
       "    .dataframe tbody tr th {\n",
       "        vertical-align: top;\n",
       "    }\n",
       "\n",
       "    .dataframe thead th {\n",
       "        text-align: right;\n",
       "    }\n",
       "</style>\n",
       "<table border=\"1\" class=\"dataframe\">\n",
       "  <thead>\n",
       "    <tr style=\"text-align: right;\">\n",
       "      <th></th>\n",
       "      <th>Instruction</th>\n",
       "      <th>Input</th>\n",
       "      <th>Output</th>\n",
       "      <th>materi</th>\n",
       "      <th>question_id</th>\n",
       "    </tr>\n",
       "  </thead>\n",
       "  <tbody>\n",
       "    <tr>\n",
       "      <th>0</th>\n",
       "      <td>Write a Python function which takes in an argu...</td>\n",
       "      <td>Given an argument of 1,2 or 3</td>\n",
       "      <td>def get_string(arg):\\r\\n    \"\"\"\\r\\n    This fu...</td>\n",
       "      <td>Data Type</td>\n",
       "      <td>10</td>\n",
       "    </tr>\n",
       "    <tr>\n",
       "      <th>1</th>\n",
       "      <td>Build a Python script to remove all punctuatio...</td>\n",
       "      <td>\"This is a cool string!\"</td>\n",
       "      <td>import string\\r\\n\\r\\ninput_str = \"This is a co...</td>\n",
       "      <td>Data Type</td>\n",
       "      <td>22</td>\n",
       "    </tr>\n",
       "    <tr>\n",
       "      <th>2</th>\n",
       "      <td>Create a program in Python to split a string i...</td>\n",
       "      <td>String: Hello,World\\r\\nDelimiter: ,</td>\n",
       "      <td>def split_string(s, delimiter): \\r\\n return s....</td>\n",
       "      <td>Data Type</td>\n",
       "      <td>24</td>\n",
       "    </tr>\n",
       "    <tr>\n",
       "      <th>3</th>\n",
       "      <td>Create a Python script to transform a list of ...</td>\n",
       "      <td>[\"Hello\", \"World\", \"Goodbye\"]</td>\n",
       "      <td>def string_to_length(list_strings):\\r\\n    ret...</td>\n",
       "      <td>Data Type</td>\n",
       "      <td>37</td>\n",
       "    </tr>\n",
       "    <tr>\n",
       "      <th>4</th>\n",
       "      <td>Use an existing Python function to find the lo...</td>\n",
       "      <td>arr = [\"cat\", \"dog\", \"elephant\", \"squirrel\", \"...</td>\n",
       "      <td>max(arr, key=len) # returns \"elephant\"</td>\n",
       "      <td>Data Type</td>\n",
       "      <td>42</td>\n",
       "    </tr>\n",
       "  </tbody>\n",
       "</table>\n",
       "</div>"
      ],
      "text/plain": [
       "                                         Instruction  \\\n",
       "0  Write a Python function which takes in an argu...   \n",
       "1  Build a Python script to remove all punctuatio...   \n",
       "2  Create a program in Python to split a string i...   \n",
       "3  Create a Python script to transform a list of ...   \n",
       "4  Use an existing Python function to find the lo...   \n",
       "\n",
       "                                               Input  \\\n",
       "0                      Given an argument of 1,2 or 3   \n",
       "1                           \"This is a cool string!\"   \n",
       "2                String: Hello,World\\r\\nDelimiter: ,   \n",
       "3                      [\"Hello\", \"World\", \"Goodbye\"]   \n",
       "4  arr = [\"cat\", \"dog\", \"elephant\", \"squirrel\", \"...   \n",
       "\n",
       "                                              Output     materi  question_id  \n",
       "0  def get_string(arg):\\r\\n    \"\"\"\\r\\n    This fu...  Data Type           10  \n",
       "1  import string\\r\\n\\r\\ninput_str = \"This is a co...  Data Type           22  \n",
       "2  def split_string(s, delimiter): \\r\\n return s....  Data Type           24  \n",
       "3  def string_to_length(list_strings):\\r\\n    ret...  Data Type           37  \n",
       "4             max(arr, key=len) # returns \"elephant\"  Data Type           42  "
      ]
     },
     "execution_count": 2,
     "metadata": {},
     "output_type": "execute_result"
    }
   ],
   "source": [
    "file_path = r'C:\\Users\\user\\CAPSTONE-PROJEK---CODEY\\Machine Learning\\kategori soal\\data_type.csv'\n",
    "\n",
    "data = pd.read_csv(file_path)\n",
    "\n",
    "data.head()"
   ]
  },
  {
   "cell_type": "code",
   "execution_count": 3,
   "metadata": {},
   "outputs": [],
   "source": [
    "def add_placeholder(code):\n",
    "    \"\"\"\n",
    "    Gantikan bagian tertentu dalam kode dengan placeholder '___'\n",
    "    \"\"\"\n",
    "    # Pola regex untuk mencari kata kunci dan mengganti kata setelahnya dengan placeholder\n",
    "    patterns = [\n",
    "         r'\\b(int|float|bool|type|str|True|False)\\s+(\\w+)\\b',\n",
    "    ]\n",
    "    \n",
    "    # Cari kecocokan pertama dalam seluruh kode\n",
    "    for pattern in patterns:\n",
    "        match = re.search(pattern, code)\n",
    "        if match:\n",
    "            # Ganti kata setelah kata kunci dengan placeholder '___' pada kecocokan pertama\n",
    "            code = re.sub(pattern, r'\\1 ___', code, count=1)  # Hanya mengganti kecocokan pertama\n",
    "    \n",
    "    return code\n"
   ]
  },
  {
   "cell_type": "markdown",
   "metadata": {},
   "source": [
    "Menambah kolom Template untuk soal "
   ]
  },
  {
   "cell_type": "code",
   "execution_count": 4,
   "metadata": {},
   "outputs": [
    {
     "name": "stdout",
     "output_type": "stream",
     "text": [
      "class Palindrome:\n",
      "\n",
      "def __init__(self, str):\n",
      "    self.str = str ___ is_palindrome(self):\n",
      "    return self.str == self.str[::-1]\n",
      "\n",
      "palindrome = Palindrome(\"level\")\n",
      "if palindrome.is_palindrome():\n",
      "    print(\"The string is a palindrome\")\n",
      "else:\n",
      "    print(\"The string is not a palindrome\")\n",
      "class Palindrome:\n",
      "\n",
      "def __init__(self, str):\n",
      "    self.str = str\n",
      "\n",
      "def is_palindrome(self):\n",
      "    return self.str == self.str[::-1]\n",
      "\n",
      "palindrome = Palindrome(\"level\")\n",
      "if palindrome.is_palindrome():\n",
      "    print(\"The string is a palindrome\")\n",
      "else:\n",
      "    print(\"The string is not a palindrome\")\n"
     ]
    }
   ],
   "source": [
    "# Terapkan fungsi pada kolom 'Output'\n",
    "data['Template'] = data['Output'].apply(add_placeholder)\n",
    "print(data['Template'][20])\n",
    "print(data['Output'][20])\n"
   ]
  },
  {
   "cell_type": "markdown",
   "metadata": {},
   "source": [
    "Membuat fungsi untuk mengecek data soal memiliki placeholder"
   ]
  },
  {
   "cell_type": "code",
   "execution_count": 5,
   "metadata": {},
   "outputs": [],
   "source": [
    "def check_placeholder_in_column(df, column_name, placeholder=\"___\"):\n",
    "    \"\"\"\n",
    "    Cek apakah kolom tertentu dalam DataFrame mengandung placeholder.\n",
    "    \n",
    "    Args:\n",
    "        df (pd.DataFrame): DataFrame yang akan dicek.\n",
    "        column_name (str): Nama kolom yang akan diperiksa.\n",
    "        placeholder (str): Placeholder yang dicari (default: \"___\").\n",
    "    \n",
    "    Returns:\n",
    "        pd.Series: Kolom boolean (True jika ada placeholder, False jika tidak).\n",
    "    \"\"\"\n",
    "    return df[column_name].str.contains(placeholder, na=False)\n"
   ]
  },
  {
   "cell_type": "code",
   "execution_count": 6,
   "metadata": {},
   "outputs": [
    {
     "name": "stdout",
     "output_type": "stream",
     "text": [
      "has_placeholder\n",
      "False    932\n",
      "True      84\n",
      "Name: count, dtype: int64\n"
     ]
    }
   ],
   "source": [
    "data[\"has_placeholder\"] = check_placeholder_in_column(data, \"Template\")\n",
    "\n",
    "print(data[\"has_placeholder\"].value_counts())"
   ]
  },
  {
   "cell_type": "code",
   "execution_count": 7,
   "metadata": {},
   "outputs": [
    {
     "name": "stdout",
     "output_type": "stream",
     "text": [
      "has_placeholder\n",
      "True    84\n",
      "Name: count, dtype: int64\n"
     ]
    }
   ],
   "source": [
    "# Hapus baris dengan nilai False\n",
    "data = data[data[\"has_placeholder\"]]\n",
    "\n",
    "print(data[\"has_placeholder\"].value_counts())\n",
    "\n",
    "# Hapus kolom 'has_placeholder' jika tidak diperlukan lagi\n",
    "data = data.drop(columns=[\"has_placeholder\"])\n"
   ]
  },
  {
   "cell_type": "code",
   "execution_count": 8,
   "metadata": {},
   "outputs": [],
   "source": [
    "def extract_keyword_variable(code):\n",
    "    \"\"\"\n",
    "    Mengambil kata setelah kata kunci seperti int, float, bool dll dan mengembalikannya.\n",
    "    \"\"\"\n",
    "    # Pola regex untuk mencari kata kunci dan mengekstrak kata setelahnya\n",
    "    pattern = r'\\b(int|float|bool|type|str|True|False)\\s+(\\w+)\\b'\n",
    "    \n",
    "    match = re.search(pattern, code)\n",
    "    \n",
    "    # Jika ada kecocokan, ambil kata setelah kata kunci (hasil kedua dalam tuple)\n",
    "    if match:\n",
    "        return match[2]  # Kata setelah kata kunci\n",
    "    \n",
    "    return None\n",
    "\n",
    "# Terapkan fungsi untuk membuat kolom baru\n",
    "data['correct_answer'] = data['Output'].apply(extract_keyword_variable)\n",
    "\n"
   ]
  },
  {
   "cell_type": "markdown",
   "metadata": {},
   "source": [
    "## Save Data"
   ]
  },
  {
   "cell_type": "code",
   "execution_count": 9,
   "metadata": {},
   "outputs": [],
   "source": [
    "# Simpan dataset yang telah diproses\n",
    "data.to_csv('data_type_with_placeholders.csv', index=False)"
   ]
  },
  {
   "cell_type": "code",
   "execution_count": 13,
   "metadata": {},
   "outputs": [
    {
     "name": "stdout",
     "output_type": "stream",
     "text": [
      "File JSON berhasil disimpan: questions_data_type.json\n"
     ]
    }
   ],
   "source": [
    "import json\n",
    "\n",
    "# Membuat struktur JSON\n",
    "json_data = {\"quiz\": []}\n",
    "\n",
    "for _, row in data.iterrows():\n",
    "    question_id = row['question_id']\n",
    "    material = row['materi']\n",
    "    instruction = row['Instruction']\n",
    "    question = row['Template']\n",
    "    attempts = '1'\n",
    "    duration = '20'\n",
    "    \n",
    "    # Menggunakan regex untuk mencari placeholder '___' dan menggantinya dengan 'if'\n",
    "    if '___' in question:\n",
    "        correct_answer = row['correct_answer'] # Hanya menampilkan pengganti dari placeholder\n",
    "    else:\n",
    "        correct_answer = \"\"  # Jika tidak ada placeholder ___\n",
    "\n",
    "    # Menambahkan ke struktur JSON\n",
    "    question_entry = {\n",
    "        \"question_id\": question_id,\n",
    "        \"material\": material,\n",
    "        \"instruction\": instruction,\n",
    "        \"question\": question,\n",
    "        \"correct_answer\": correct_answer,\n",
    "        \"attempts\": attempts,\n",
    "        \"duration\": duration\n",
    "    }\n",
    "    json_data[\"quiz\"].append(question_entry)\n",
    "\n",
    "# Menyimpan ke file JSON\n",
    "output_json_path = 'questions_data_type.json'\n",
    "with open(output_json_path, 'w') as json_file:\n",
    "    json.dump(json_data, json_file, indent=4)\n",
    "\n",
    "print(f\"File JSON berhasil disimpan: {output_json_path}\")\n"
   ]
  },
  {
   "cell_type": "code",
   "execution_count": 11,
   "metadata": {},
   "outputs": [
    {
     "data": {
      "text/html": [
       "<div>\n",
       "<style scoped>\n",
       "    .dataframe tbody tr th:only-of-type {\n",
       "        vertical-align: middle;\n",
       "    }\n",
       "\n",
       "    .dataframe tbody tr th {\n",
       "        vertical-align: top;\n",
       "    }\n",
       "\n",
       "    .dataframe thead th {\n",
       "        text-align: right;\n",
       "    }\n",
       "</style>\n",
       "<table border=\"1\" class=\"dataframe\">\n",
       "  <thead>\n",
       "    <tr style=\"text-align: right;\">\n",
       "      <th></th>\n",
       "      <th>Instruction</th>\n",
       "      <th>Input</th>\n",
       "      <th>Output</th>\n",
       "      <th>materi</th>\n",
       "      <th>question_id</th>\n",
       "      <th>Template</th>\n",
       "      <th>correct_answer</th>\n",
       "    </tr>\n",
       "  </thead>\n",
       "  <tbody>\n",
       "    <tr>\n",
       "      <th>20</th>\n",
       "      <td>Build a mini classifier model in Python to pre...</td>\n",
       "      <td>'level'</td>\n",
       "      <td>class Palindrome:\\r\\n\\r\\ndef __init__(self, st...</td>\n",
       "      <td>Data Type</td>\n",
       "      <td>189</td>\n",
       "      <td>class Palindrome:\\r\\n\\r\\ndef __init__(self, st...</td>\n",
       "      <td>def</td>\n",
       "    </tr>\n",
       "    <tr>\n",
       "      <th>27</th>\n",
       "      <td>Write a code to detect any pattern in a given ...</td>\n",
       "      <td>my_string = \"aabccba\"</td>\n",
       "      <td>def detect_pattern(my_string):\\r\\n    for i in...</td>\n",
       "      <td>Data Type</td>\n",
       "      <td>236</td>\n",
       "      <td>def detect_pattern(my_string):\\r\\n    for i in...</td>\n",
       "      <td>return</td>\n",
       "    </tr>\n",
       "    <tr>\n",
       "      <th>41</th>\n",
       "      <td>Write a Python program to determine whether or...</td>\n",
       "      <td>\"racecar\"</td>\n",
       "      <td>def isPalindrome(s):\\r\\n\\r\\n # remove whitespa...</td>\n",
       "      <td>Data Type</td>\n",
       "      <td>313</td>\n",
       "      <td>def isPalindrome(s):\\r\\n\\r\\n # remove whitespa...</td>\n",
       "      <td>return</td>\n",
       "    </tr>\n",
       "    <tr>\n",
       "      <th>53</th>\n",
       "      <td>Write a python function which will check if in...</td>\n",
       "      <td>input_string = \"racecar\"</td>\n",
       "      <td>def is_palindrome(input_string):\\r\\n    if inp...</td>\n",
       "      <td>Data Type</td>\n",
       "      <td>412</td>\n",
       "      <td>def is_palindrome(input_string):\\r\\n    if inp...</td>\n",
       "      <td>else</td>\n",
       "    </tr>\n",
       "    <tr>\n",
       "      <th>83</th>\n",
       "      <td>Create a Python program to convert a list of c...</td>\n",
       "      <td>Convert this array ['a', 'b', 'c'] into a string</td>\n",
       "      <td>def list_to_str(arr):\\r\\n    str = \"\"\\r\\n    f...</td>\n",
       "      <td>Data Type</td>\n",
       "      <td>602</td>\n",
       "      <td>def list_to_str(arr):\\r\\n    str = \"\"\\r\\n    f...</td>\n",
       "      <td>arr</td>\n",
       "    </tr>\n",
       "  </tbody>\n",
       "</table>\n",
       "</div>"
      ],
      "text/plain": [
       "                                          Instruction  \\\n",
       "20  Build a mini classifier model in Python to pre...   \n",
       "27  Write a code to detect any pattern in a given ...   \n",
       "41  Write a Python program to determine whether or...   \n",
       "53  Write a python function which will check if in...   \n",
       "83  Create a Python program to convert a list of c...   \n",
       "\n",
       "                                               Input  \\\n",
       "20                                           'level'   \n",
       "27                             my_string = \"aabccba\"   \n",
       "41                                         \"racecar\"   \n",
       "53                          input_string = \"racecar\"   \n",
       "83  Convert this array ['a', 'b', 'c'] into a string   \n",
       "\n",
       "                                               Output     materi  question_id  \\\n",
       "20  class Palindrome:\\r\\n\\r\\ndef __init__(self, st...  Data Type          189   \n",
       "27  def detect_pattern(my_string):\\r\\n    for i in...  Data Type          236   \n",
       "41  def isPalindrome(s):\\r\\n\\r\\n # remove whitespa...  Data Type          313   \n",
       "53  def is_palindrome(input_string):\\r\\n    if inp...  Data Type          412   \n",
       "83  def list_to_str(arr):\\r\\n    str = \"\"\\r\\n    f...  Data Type          602   \n",
       "\n",
       "                                             Template correct_answer  \n",
       "20  class Palindrome:\\r\\n\\r\\ndef __init__(self, st...            def  \n",
       "27  def detect_pattern(my_string):\\r\\n    for i in...         return  \n",
       "41  def isPalindrome(s):\\r\\n\\r\\n # remove whitespa...         return  \n",
       "53  def is_palindrome(input_string):\\r\\n    if inp...           else  \n",
       "83  def list_to_str(arr):\\r\\n    str = \"\"\\r\\n    f...            arr  "
      ]
     },
     "execution_count": 11,
     "metadata": {},
     "output_type": "execute_result"
    }
   ],
   "source": [
    "data.head()"
   ]
  },
  {
   "cell_type": "code",
   "execution_count": null,
   "metadata": {},
   "outputs": [],
   "source": []
  }
 ],
 "metadata": {
  "kernelspec": {
   "display_name": "Python 3",
   "language": "python",
   "name": "python3"
  },
  "language_info": {
   "codemirror_mode": {
    "name": "ipython",
    "version": 3
   },
   "file_extension": ".py",
   "mimetype": "text/x-python",
   "name": "python",
   "nbconvert_exporter": "python",
   "pygments_lexer": "ipython3",
   "version": "3.11.0"
  }
 },
 "nbformat": 4,
 "nbformat_minor": 2
}
