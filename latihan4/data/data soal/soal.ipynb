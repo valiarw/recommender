{
 "cells": [
  {
   "cell_type": "code",
   "execution_count": 12,
   "metadata": {},
   "outputs": [],
   "source": [
    "# import json\n",
    "# import pandas as pd\n",
    "# # Membaca file CSV\n",
    "# file_path = r'C:\\Users\\user\\CAPSTONE-PROJEK---CODEY\\Machine Learning\\data soal\\questions.csv'\n",
    "# data = pd.read_csv(file_path)\n",
    "\n",
    "# data['attempts'] = '1'\n",
    "# data['duration'] = '20'\n",
    "\n",
    "# # Membuat struktur JSON\n",
    "# json_data = {\"quiz\": []}\n",
    "\n",
    "# for _, row in data.iterrows():\n",
    "#     question_id = row['question_id']\n",
    "#     material = row['materi']\n",
    "#     instruction = row['Instruction']\n",
    "#     question = row['Template']\n",
    "#     attempts = row['attempts']\n",
    "#     duration = row['duration']\n",
    "    \n",
    "#     # Menggunakan regex untuk mencari placeholder '___' dan menggantinya dengan 'if'\n",
    "#     if '___' in question:\n",
    "#         correct_answer = row['correct_answer'] # Hanya menampilkan pengganti dari placeholder\n",
    "#     else:\n",
    "#         correct_answer = \"\"  # Jika tidak ada placeholder ___\n",
    "\n",
    "#     # Menambahkan ke struktur JSON\n",
    "#     question_entry = {\n",
    "#         \"question_id\": question_id,\n",
    "#         \"material\": material,\n",
    "#         \"instruction\": instruction,\n",
    "#         \"question\": question,\n",
    "#         \"correct_answer\": correct_answer,\n",
    "#         \"attempts\": attempts,\n",
    "#         \"duration\": duration\n",
    "#     }\n",
    "#     json_data[\"quiz\"].append(question_entry)\n",
    "\n",
    "# # Menyimpan ke file JSON\n",
    "# output_json_path = 'questions.json'\n",
    "# with open(output_json_path, 'w') as json_file:\n",
    "#     json.dump(json_data, json_file, indent=4)\n",
    "\n",
    "# print(f\"File JSON berhasil disimpan: {output_json_path}\")\n"
   ]
  },
  {
   "cell_type": "code",
   "execution_count": null,
   "metadata": {},
   "outputs": [
    {
     "name": "stdout",
     "output_type": "stream",
     "text": [
      "File CSV berhasil disimpan: questions.csv\n"
     ]
    }
   ],
   "source": [
    "import pandas as pd\n",
    "import csv\n",
    "\n",
    "# Mendefinisikan header untuk file CSV\n",
    "csv_headers = [\n",
    "    \"question_id\", \"material\", \"instruction\", \"question\", \n",
    "    \"correct_answer\", \"attempts\", \"duration\"\n",
    "]\n",
    "\n",
    "# Membuka file CSV untuk ditulis\n",
    "output_csv_path = 'questions.csv'\n",
    "with open(output_csv_path, mode='w', newline='', encoding='utf-8') as csv_file:\n",
    "    csv_writer = csv.DictWriter(csv_file, fieldnames=csv_headers)\n",
    "    \n",
    "    # Menulis header\n",
    "    csv_writer.writeheader()\n",
    "\n",
    "    # Mengisi data dari DataFrame\n",
    "    for _, row in data.iterrows():\n",
    "        question_id = row['question_id']\n",
    "        material = row['materi']\n",
    "        instruction = row['Instruction']\n",
    "        question = row['Template']\n",
    "        attempts = '1'\n",
    "        duration = '20'\n",
    "        \n",
    "        # Menggunakan regex untuk mencari placeholder '___' dan menggantinya dengan 'if'\n",
    "        if '___' in question:\n",
    "            correct_answer = row['correct_answer']  # Hanya menampilkan pengganti dari placeholder\n",
    "        else:\n",
    "            correct_answer = \"\"  # Jika tidak ada placeholder ___\n",
    "\n",
    "        # Menulis baris data ke file CSV\n",
    "        csv_writer.writerow({\n",
    "            \"question_id\": question_id,\n",
    "            \"material\": material,\n",
    "            \"instruction\": instruction,\n",
    "            \"question\": question,\n",
    "            \"correct_answer\": correct_answer,\n",
    "            \"attempts\": attempts,\n",
    "            \"duration\": duration\n",
    "        })\n",
    "\n",
    "print(f\"File CSV berhasil disimpan: {output_csv_path}\")\n"
   ]
  },
  {
   "cell_type": "code",
   "execution_count": null,
   "metadata": {},
   "outputs": [],
   "source": []
  }
 ],
 "metadata": {
  "kernelspec": {
   "display_name": "Python 3",
   "language": "python",
   "name": "python3"
  },
  "language_info": {
   "codemirror_mode": {
    "name": "ipython",
    "version": 3
   },
   "file_extension": ".py",
   "mimetype": "text/x-python",
   "name": "python",
   "nbconvert_exporter": "python",
   "pygments_lexer": "ipython3",
   "version": "3.11.0"
  }
 },
 "nbformat": 4,
 "nbformat_minor": 2
}
