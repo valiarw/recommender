{
 "cells": [
  {
   "cell_type": "markdown",
   "metadata": {},
   "source": [
    "## Import Library"
   ]
  },
  {
   "cell_type": "code",
   "execution_count": 1,
   "metadata": {},
   "outputs": [],
   "source": [
    "import pandas as pd\n",
    "import re"
   ]
  },
  {
   "cell_type": "markdown",
   "metadata": {},
   "source": [
    "## Load Data"
   ]
  },
  {
   "cell_type": "code",
   "execution_count": 2,
   "metadata": {},
   "outputs": [
    {
     "data": {
      "text/html": [
       "<div>\n",
       "<style scoped>\n",
       "    .dataframe tbody tr th:only-of-type {\n",
       "        vertical-align: middle;\n",
       "    }\n",
       "\n",
       "    .dataframe tbody tr th {\n",
       "        vertical-align: top;\n",
       "    }\n",
       "\n",
       "    .dataframe thead th {\n",
       "        text-align: right;\n",
       "    }\n",
       "</style>\n",
       "<table border=\"1\" class=\"dataframe\">\n",
       "  <thead>\n",
       "    <tr style=\"text-align: right;\">\n",
       "      <th></th>\n",
       "      <th>Instruction</th>\n",
       "      <th>Input</th>\n",
       "      <th>Output</th>\n",
       "      <th>materi</th>\n",
       "      <th>question_id</th>\n",
       "    </tr>\n",
       "  </thead>\n",
       "  <tbody>\n",
       "    <tr>\n",
       "      <th>0</th>\n",
       "      <td>Edit the following Python code such that it wi...</td>\n",
       "      <td>days = [\"Monday\", \"Thuesday\", \"Wednesday\", \"Th...</td>\n",
       "      <td>days = [\"Monday\", \"Tuesday\", \"Wednesday\", \"Thu...</td>\n",
       "      <td>Introduction Python</td>\n",
       "      <td>2</td>\n",
       "    </tr>\n",
       "    <tr>\n",
       "      <th>1</th>\n",
       "      <td>Generate a code snippet to print a pattern of ...</td>\n",
       "      <td>rows = 5</td>\n",
       "      <td># Use two for loops to print pattern\\nfor i in...</td>\n",
       "      <td>Introduction Python</td>\n",
       "      <td>11</td>\n",
       "    </tr>\n",
       "    <tr>\n",
       "      <th>2</th>\n",
       "      <td>Create a Python program to loop through a give...</td>\n",
       "      <td>my_list = [\"apples\", \"oranges\", \"bananas\"]</td>\n",
       "      <td>for item in my_list:\\n    print(item)</td>\n",
       "      <td>Introduction Python</td>\n",
       "      <td>58</td>\n",
       "    </tr>\n",
       "    <tr>\n",
       "      <th>3</th>\n",
       "      <td>Write a Python program to print the 3 most com...</td>\n",
       "      <td>Input = [2, 5, 3, 7, 8, 5, 10, 19, 20]</td>\n",
       "      <td>from collections import Counter\\n\\nInput = [2,...</td>\n",
       "      <td>Introduction Python</td>\n",
       "      <td>72</td>\n",
       "    </tr>\n",
       "    <tr>\n",
       "      <th>4</th>\n",
       "      <td>Design a Python program to read in a list of l...</td>\n",
       "      <td>[['b', 'a', 'd'], ['c', 'a', 'd'], ['a', 'f', ...</td>\n",
       "      <td>def removeduplicates(list_of_string):\\n    res...</td>\n",
       "      <td>Introduction Python</td>\n",
       "      <td>76</td>\n",
       "    </tr>\n",
       "  </tbody>\n",
       "</table>\n",
       "</div>"
      ],
      "text/plain": [
       "                                         Instruction  \\\n",
       "0  Edit the following Python code such that it wi...   \n",
       "1  Generate a code snippet to print a pattern of ...   \n",
       "2  Create a Python program to loop through a give...   \n",
       "3  Write a Python program to print the 3 most com...   \n",
       "4  Design a Python program to read in a list of l...   \n",
       "\n",
       "                                               Input  \\\n",
       "0  days = [\"Monday\", \"Thuesday\", \"Wednesday\", \"Th...   \n",
       "1                                           rows = 5   \n",
       "2         my_list = [\"apples\", \"oranges\", \"bananas\"]   \n",
       "3             Input = [2, 5, 3, 7, 8, 5, 10, 19, 20]   \n",
       "4  [['b', 'a', 'd'], ['c', 'a', 'd'], ['a', 'f', ...   \n",
       "\n",
       "                                              Output               materi  \\\n",
       "0  days = [\"Monday\", \"Tuesday\", \"Wednesday\", \"Thu...  Introduction Python   \n",
       "1  # Use two for loops to print pattern\\nfor i in...  Introduction Python   \n",
       "2              for item in my_list:\\n    print(item)  Introduction Python   \n",
       "3  from collections import Counter\\n\\nInput = [2,...  Introduction Python   \n",
       "4  def removeduplicates(list_of_string):\\n    res...  Introduction Python   \n",
       "\n",
       "   question_id  \n",
       "0            2  \n",
       "1           11  \n",
       "2           58  \n",
       "3           72  \n",
       "4           76  "
      ]
     },
     "execution_count": 2,
     "metadata": {},
     "output_type": "execute_result"
    }
   ],
   "source": [
    "\n",
    "file_path = 'https://raw.githubusercontent.com/valiarw/recommender/69ae8b2bae858e3d1b78322f865ff2c4c0a2ff8f/latihan4/data/kategori%20soal/introduction_python.csv'\n",
    "data = pd.read_csv(file_path)\n",
    "data.head()\n"
   ]
  },
  {
   "cell_type": "code",
   "execution_count": 3,
   "metadata": {},
   "outputs": [],
   "source": [
    "def add_placeholder(code):\n",
    "    \"\"\"\n",
    "    Gantikan kata setelah kata kunci 'print' dengan placeholder '___'.\n",
    "    Hanya satu kali mengganti di seluruh kode setelah menemukan kecocokan pertama.\n",
    "    \"\"\"\n",
    "    # Pola regex untuk mencari kata setelah 'print' dan menggantinya\n",
    "    pattern = r'\\bprint\\s*\\((.{1,6})\\)'  # Mencocokkan kata print dan teks di dalam kurung\n",
    "    \n",
    "    # Cari kecocokan pertama dan ganti teks setelah print dengan '___'\n",
    "    match = re.search(pattern, code)\n",
    "    if match:\n",
    "        # Ganti semua yang ada setelah print dengan placeholder '___'\n",
    "        code = re.sub(pattern, r'print(___)', code, count=1)  # Hanya mengganti kecocokan pertama\n",
    "    \n",
    "    return code"
   ]
  },
  {
   "cell_type": "markdown",
   "metadata": {},
   "source": [
    "Menambahkan kolom template untuk soal"
   ]
  },
  {
   "cell_type": "code",
   "execution_count": 4,
   "metadata": {},
   "outputs": [
    {
     "name": "stdout",
     "output_type": "stream",
     "text": [
      "Generate a code snippet to print a pattern of stars in Python.\n",
      "# Use two for loops to print pattern\n",
      "for i in range(0, rows):\n",
      "    for j in range(0, i + 1):\n",
      "        print(\"* \", end=\"\")\n",
      "    print(___)\n",
      "# Use two for loops to print pattern\n",
      "for i in range(0, rows):\n",
      "    for j in range(0, i + 1):\n",
      "        print(\"* \", end=\"\")\n",
      "    print(\"\\r\")\n"
     ]
    }
   ],
   "source": [
    "# Terapkan fungsi pada kolom 'Full Code'\n",
    "data['Template'] = data['Output'].apply(add_placeholder)\n",
    "print(data['Instruction'][1])\n",
    "print(data['Template'][1])\n",
    "print(data['Output'][1])\n"
   ]
  },
  {
   "cell_type": "markdown",
   "metadata": {},
   "source": [
    "Membuat fungsi untuk mengecek data soal memiliki placeholder"
   ]
  },
  {
   "cell_type": "code",
   "execution_count": 5,
   "metadata": {},
   "outputs": [],
   "source": [
    "def check_placeholder_in_column(df, column_name, placeholder=\"___\"):\n",
    "    \"\"\"\n",
    "    Cek apakah kolom tertentu dalam DataFrame mengandung placeholder.\n",
    "    \n",
    "    Args:\n",
    "        df (pd.DataFrame): DataFrame yang akan dicek.\n",
    "        column_name (str): Nama kolom yang akan diperiksa.\n",
    "        placeholder (str): Placeholder yang dicari (default: \"___\").\n",
    "    \n",
    "    Returns:\n",
    "        pd.Series: Kolom boolean (True jika ada placeholder, False jika tidak).\n",
    "    \"\"\"\n",
    "    return df[column_name].str.contains(placeholder, na=False)\n"
   ]
  },
  {
   "cell_type": "code",
   "execution_count": 6,
   "metadata": {},
   "outputs": [
    {
     "name": "stdout",
     "output_type": "stream",
     "text": [
      "has_placeholder\n",
      "False    289\n",
      "True     164\n",
      "Name: count, dtype: int64\n"
     ]
    }
   ],
   "source": [
    "data[\"has_placeholder\"] = check_placeholder_in_column(data, \"Template\")\n",
    "\n",
    "print(data[\"has_placeholder\"].value_counts())"
   ]
  },
  {
   "cell_type": "code",
   "execution_count": 7,
   "metadata": {},
   "outputs": [],
   "source": [
    "# Hapus baris dengan nilai False\n",
    "data = data[data[\"has_placeholder\"]]\n"
   ]
  },
  {
   "cell_type": "code",
   "execution_count": 8,
   "metadata": {},
   "outputs": [
    {
     "name": "stdout",
     "output_type": "stream",
     "text": [
      "has_placeholder\n",
      "True    164\n",
      "Name: count, dtype: int64\n"
     ]
    }
   ],
   "source": [
    "print(data[\"has_placeholder\"].value_counts())\n",
    "\n",
    "# Hapus kolom 'has_placeholder' jika tidak diperlukan lagi\n",
    "data = data.drop(columns=[\"has_placeholder\"])\n"
   ]
  },
  {
   "cell_type": "code",
   "execution_count": 9,
   "metadata": {},
   "outputs": [],
   "source": [
    "def extract_keyword_variable(code):\n",
    "    \"\"\"\n",
    "    Mengambil kata setelah kata kunci dan mengembalikannya.\n",
    "    \"\"\"\n",
    "    # Pola regex untuk mencari kata kunci dan mengekstrak kata setelahnya\n",
    "    pattern = r'\\bprint\\s*\\((.{1,6})\\)'\n",
    "\n",
    "\n",
    "    match = re.search(pattern, code)\n",
    "    \n",
    "    # Jika ada kecocokan, ambil kata setelah kata kunci (hasil kedua dalam tuple)\n",
    "    if match:\n",
    "        return match[1]  # Kata setelah kata kunci\n",
    "    \n",
    "    return None\n",
    "\n"
   ]
  },
  {
   "cell_type": "code",
   "execution_count": 10,
   "metadata": {},
   "outputs": [],
   "source": [
    "data['correct_answer'] = data['Output'].apply(extract_keyword_variable)\n",
    "data['material'] = data['materi']\n",
    "data['instruction'] = data['Instruction']\n",
    "data['template'] = data['Template']\n",
    "data['input'] = data['Input']\n",
    "data['attempts'] = '1'\n",
    "data['duration'] = '20'\n",
    "\n",
    "data = data[['question_id', 'material','instruction', 'template', 'input', 'correct_answer', 'attempts', 'duration']]"
   ]
  },
  {
   "cell_type": "markdown",
   "metadata": {},
   "source": [
    "## Save Data ke dalam csv"
   ]
  },
  {
   "cell_type": "code",
   "execution_count": 11,
   "metadata": {},
   "outputs": [],
   "source": [
    "# Simpan dataset yang telah diproses\n",
    "data.to_csv('Introduction_Python_with_placeholders.csv', index=False)"
   ]
  },
  {
   "cell_type": "code",
   "execution_count": 12,
   "metadata": {},
   "outputs": [],
   "source": [
    "# import json\n",
    "\n",
    "# # Membuat struktur JSON\n",
    "# json_data = {\"quiz\": []}\n",
    "\n",
    "# for _, row in data.iterrows():\n",
    "#     question_id = row['question_id']\n",
    "#     material = row['materi']\n",
    "#     instruction = row['Instruction']\n",
    "#     question = row['Template']\n",
    "#     attempts = '1'\n",
    "#     duration = '20'\n",
    "    \n",
    "#     # Menggunakan regex untuk mencari placeholder '___' dan menggantinya dengan 'if'\n",
    "#     if '___' in question:\n",
    "#         correct_answer = row['correct_answer'] # Hanya menampilkan pengganti dari placeholder\n",
    "#     else:\n",
    "#         correct_answer = \"\"  # Jika tidak ada placeholder ___\n",
    "\n",
    "#     # Menambahkan ke struktur JSON\n",
    "#     question_entry = {\n",
    "#         \"question_id\": question_id,\n",
    "#         \"material\": material,\n",
    "#         \"instruction\": instruction,\n",
    "#         \"question\": question,\n",
    "#         \"correct_answer\": correct_answer,\n",
    "#         \"attempts\": attempts,\n",
    "#         \"duration\": duration\n",
    "#     }\n",
    "#     json_data[\"quiz\"].append(question_entry)\n",
    "\n",
    "# # Menyimpan ke file JSON\n",
    "# output_json_path = 'questions_introduction_Python.json'\n",
    "# with open(output_json_path, 'w') as json_file:\n",
    "#     json.dump(json_data, json_file, indent=4)\n",
    "\n",
    "# print(f\"File JSON berhasil disimpan: {output_json_path}\")\n"
   ]
  },
  {
   "cell_type": "code",
   "execution_count": 13,
   "metadata": {},
   "outputs": [
    {
     "data": {
      "text/html": [
       "<div>\n",
       "<style scoped>\n",
       "    .dataframe tbody tr th:only-of-type {\n",
       "        vertical-align: middle;\n",
       "    }\n",
       "\n",
       "    .dataframe tbody tr th {\n",
       "        vertical-align: top;\n",
       "    }\n",
       "\n",
       "    .dataframe thead th {\n",
       "        text-align: right;\n",
       "    }\n",
       "</style>\n",
       "<table border=\"1\" class=\"dataframe\">\n",
       "  <thead>\n",
       "    <tr style=\"text-align: right;\">\n",
       "      <th></th>\n",
       "      <th>question_id</th>\n",
       "      <th>material</th>\n",
       "      <th>instruction</th>\n",
       "      <th>template</th>\n",
       "      <th>input</th>\n",
       "      <th>correct_answer</th>\n",
       "      <th>attempts</th>\n",
       "      <th>duration</th>\n",
       "    </tr>\n",
       "  </thead>\n",
       "  <tbody>\n",
       "    <tr>\n",
       "      <th>0</th>\n",
       "      <td>2</td>\n",
       "      <td>Introduction Python</td>\n",
       "      <td>Edit the following Python code such that it wi...</td>\n",
       "      <td>days = [\"Monday\", \"Tuesday\", \"Wednesday\", \"Thu...</td>\n",
       "      <td>days = [\"Monday\", \"Thuesday\", \"Wednesday\", \"Th...</td>\n",
       "      <td>day</td>\n",
       "      <td>1</td>\n",
       "      <td>20</td>\n",
       "    </tr>\n",
       "    <tr>\n",
       "      <th>1</th>\n",
       "      <td>11</td>\n",
       "      <td>Introduction Python</td>\n",
       "      <td>Generate a code snippet to print a pattern of ...</td>\n",
       "      <td># Use two for loops to print pattern\\nfor i in...</td>\n",
       "      <td>rows = 5</td>\n",
       "      <td>\"\\r\"</td>\n",
       "      <td>1</td>\n",
       "      <td>20</td>\n",
       "    </tr>\n",
       "    <tr>\n",
       "      <th>2</th>\n",
       "      <td>58</td>\n",
       "      <td>Introduction Python</td>\n",
       "      <td>Create a Python program to loop through a give...</td>\n",
       "      <td>for item in my_list:\\n    print(___)</td>\n",
       "      <td>my_list = [\"apples\", \"oranges\", \"bananas\"]</td>\n",
       "      <td>item</td>\n",
       "      <td>1</td>\n",
       "      <td>20</td>\n",
       "    </tr>\n",
       "    <tr>\n",
       "      <th>6</th>\n",
       "      <td>96</td>\n",
       "      <td>Introduction Python</td>\n",
       "      <td>Find the most efficient Python code to print a...</td>\n",
       "      <td># Python Program to find the factors of a numb...</td>\n",
       "      <td>input = 28</td>\n",
       "      <td>i</td>\n",
       "      <td>1</td>\n",
       "      <td>20</td>\n",
       "    </tr>\n",
       "    <tr>\n",
       "      <th>8</th>\n",
       "      <td>126</td>\n",
       "      <td>Introduction Python</td>\n",
       "      <td>Edit this python code to make the output print...</td>\n",
       "      <td>my_list = [10,2,5,1,20]\\n\\nfor x in my_list:\\n...</td>\n",
       "      <td>my_list = [10,2,5,1,20]\\n\\nfor x in my_list:\\n...</td>\n",
       "      <td>x</td>\n",
       "      <td>1</td>\n",
       "      <td>20</td>\n",
       "    </tr>\n",
       "  </tbody>\n",
       "</table>\n",
       "</div>"
      ],
      "text/plain": [
       "   question_id             material  \\\n",
       "0            2  Introduction Python   \n",
       "1           11  Introduction Python   \n",
       "2           58  Introduction Python   \n",
       "6           96  Introduction Python   \n",
       "8          126  Introduction Python   \n",
       "\n",
       "                                         instruction  \\\n",
       "0  Edit the following Python code such that it wi...   \n",
       "1  Generate a code snippet to print a pattern of ...   \n",
       "2  Create a Python program to loop through a give...   \n",
       "6  Find the most efficient Python code to print a...   \n",
       "8  Edit this python code to make the output print...   \n",
       "\n",
       "                                            template  \\\n",
       "0  days = [\"Monday\", \"Tuesday\", \"Wednesday\", \"Thu...   \n",
       "1  # Use two for loops to print pattern\\nfor i in...   \n",
       "2               for item in my_list:\\n    print(___)   \n",
       "6  # Python Program to find the factors of a numb...   \n",
       "8  my_list = [10,2,5,1,20]\\n\\nfor x in my_list:\\n...   \n",
       "\n",
       "                                               input correct_answer attempts  \\\n",
       "0  days = [\"Monday\", \"Thuesday\", \"Wednesday\", \"Th...            day        1   \n",
       "1                                           rows = 5           \"\\r\"        1   \n",
       "2         my_list = [\"apples\", \"oranges\", \"bananas\"]           item        1   \n",
       "6                                         input = 28              i        1   \n",
       "8  my_list = [10,2,5,1,20]\\n\\nfor x in my_list:\\n...              x        1   \n",
       "\n",
       "  duration  \n",
       "0       20  \n",
       "1       20  \n",
       "2       20  \n",
       "6       20  \n",
       "8       20  "
      ]
     },
     "execution_count": 13,
     "metadata": {},
     "output_type": "execute_result"
    }
   ],
   "source": [
    "data.head()"
   ]
  },
  {
   "cell_type": "code",
   "execution_count": null,
   "metadata": {},
   "outputs": [],
   "source": []
  },
  {
   "cell_type": "code",
   "execution_count": null,
   "metadata": {},
   "outputs": [],
   "source": []
  }
 ],
 "metadata": {
  "kernelspec": {
   "display_name": "Python 3",
   "language": "python",
   "name": "python3"
  },
  "language_info": {
   "codemirror_mode": {
    "name": "ipython",
    "version": 3
   },
   "file_extension": ".py",
   "mimetype": "text/x-python",
   "name": "python",
   "nbconvert_exporter": "python",
   "pygments_lexer": "ipython3",
   "version": "3.11.0"
  }
 },
 "nbformat": 4,
 "nbformat_minor": 2
}
