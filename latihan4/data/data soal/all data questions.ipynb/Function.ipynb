{
 "cells": [
  {
   "cell_type": "markdown",
   "metadata": {},
   "source": [
    "## Import Library"
   ]
  },
  {
   "cell_type": "code",
   "execution_count": 121,
   "metadata": {},
   "outputs": [],
   "source": [
    "import pandas as pd\n",
    "import re"
   ]
  },
  {
   "cell_type": "markdown",
   "metadata": {},
   "source": [
    "## Load data"
   ]
  },
  {
   "cell_type": "code",
   "execution_count": 122,
   "metadata": {},
   "outputs": [
    {
     "data": {
      "text/html": [
       "<div>\n",
       "<style scoped>\n",
       "    .dataframe tbody tr th:only-of-type {\n",
       "        vertical-align: middle;\n",
       "    }\n",
       "\n",
       "    .dataframe tbody tr th {\n",
       "        vertical-align: top;\n",
       "    }\n",
       "\n",
       "    .dataframe thead th {\n",
       "        text-align: right;\n",
       "    }\n",
       "</style>\n",
       "<table border=\"1\" class=\"dataframe\">\n",
       "  <thead>\n",
       "    <tr style=\"text-align: right;\">\n",
       "      <th></th>\n",
       "      <th>Instruction</th>\n",
       "      <th>Input</th>\n",
       "      <th>Output</th>\n",
       "      <th>materi</th>\n",
       "      <th>question_id</th>\n",
       "    </tr>\n",
       "  </thead>\n",
       "  <tbody>\n",
       "    <tr>\n",
       "      <th>0</th>\n",
       "      <td>Generate a function in Python to convert a giv...</td>\n",
       "      <td>17</td>\n",
       "      <td>def convertToBinary(n): \\r\\n  \\r\\n    if n &gt; 1...</td>\n",
       "      <td>Function</td>\n",
       "      <td>14</td>\n",
       "    </tr>\n",
       "    <tr>\n",
       "      <th>1</th>\n",
       "      <td>Create a function in Python to compute a Fibon...</td>\n",
       "      <td>10</td>\n",
       "      <td>def fibonacci(n): \\r\\n if n &lt; 0: \\r\\n  print(\"...</td>\n",
       "      <td>Function</td>\n",
       "      <td>18</td>\n",
       "    </tr>\n",
       "    <tr>\n",
       "      <th>2</th>\n",
       "      <td>Construct a function that will find the value ...</td>\n",
       "      <td>dictionary = {'key1':1, 'key2':2, 'key3':3}\\r\\...</td>\n",
       "      <td>def find_value(dictionary, key):\\r\\n    value ...</td>\n",
       "      <td>Function</td>\n",
       "      <td>21</td>\n",
       "    </tr>\n",
       "    <tr>\n",
       "      <th>3</th>\n",
       "      <td>Design a Python function that converts strings...</td>\n",
       "      <td>This is an example sentence</td>\n",
       "      <td>def convertToCapitalize(sentence)\\r\\n    words...</td>\n",
       "      <td>Function</td>\n",
       "      <td>25</td>\n",
       "    </tr>\n",
       "    <tr>\n",
       "      <th>4</th>\n",
       "      <td>Create an AWS Lambda function in Python that a...</td>\n",
       "      <td>{\\r\\n \"x\": 10,\\r\\n \"y\": 20\\r\\n}</td>\n",
       "      <td>import json\\r\\n\\r\\ndef handler(event, context)...</td>\n",
       "      <td>Function</td>\n",
       "      <td>52</td>\n",
       "    </tr>\n",
       "  </tbody>\n",
       "</table>\n",
       "</div>"
      ],
      "text/plain": [
       "                                         Instruction  \\\n",
       "0  Generate a function in Python to convert a giv...   \n",
       "1  Create a function in Python to compute a Fibon...   \n",
       "2  Construct a function that will find the value ...   \n",
       "3  Design a Python function that converts strings...   \n",
       "4  Create an AWS Lambda function in Python that a...   \n",
       "\n",
       "                                               Input  \\\n",
       "0                                                 17   \n",
       "1                                                 10   \n",
       "2  dictionary = {'key1':1, 'key2':2, 'key3':3}\\r\\...   \n",
       "3                        This is an example sentence   \n",
       "4                    {\\r\\n \"x\": 10,\\r\\n \"y\": 20\\r\\n}   \n",
       "\n",
       "                                              Output    materi  question_id  \n",
       "0  def convertToBinary(n): \\r\\n  \\r\\n    if n > 1...  Function           14  \n",
       "1  def fibonacci(n): \\r\\n if n < 0: \\r\\n  print(\"...  Function           18  \n",
       "2  def find_value(dictionary, key):\\r\\n    value ...  Function           21  \n",
       "3  def convertToCapitalize(sentence)\\r\\n    words...  Function           25  \n",
       "4  import json\\r\\n\\r\\ndef handler(event, context)...  Function           52  "
      ]
     },
     "execution_count": 122,
     "metadata": {},
     "output_type": "execute_result"
    }
   ],
   "source": [
    "file_path = r'C:\\Users\\user\\CAPSTONE-PROJEK---CODEY\\Machine Learning\\kategori soal\\function.csv'\n",
    "\n",
    "data = pd.read_csv(file_path)\n",
    "\n",
    "data.head()"
   ]
  },
  {
   "cell_type": "code",
   "execution_count": 123,
   "metadata": {},
   "outputs": [],
   "source": [
    "def add_placeholder(code):\n",
    "    \"\"\"\n",
    "    Gantikan bagian tertentu dalam kode dengan placeholder '___'\n",
    "    \"\"\"\n",
    "    # Pola regex untuk mencari kata kunci dan mengganti kata setelahnya dengan placeholder\n",
    "    patterns = [\n",
    "         r'\\b(def|function|return)\\s+(\\w+)\\b\\b'\n",
    "    ]\n",
    "    \n",
    "    # Cari kecocokan pertama dalam seluruh kode\n",
    "    for pattern in patterns:\n",
    "        match = re.search(pattern, code)\n",
    "        if match:\n",
    "            # Ganti kata setelah kata kunci dengan placeholder '___' pada kecocokan pertama\n",
    "            code = re.sub(pattern, r'\\1 ___', code, count=1)  # Hanya mengganti kecocokan pertama\n",
    "    \n",
    "    return code\n"
   ]
  },
  {
   "cell_type": "markdown",
   "metadata": {},
   "source": [
    "Menambah kolom Template untuk soal "
   ]
  },
  {
   "cell_type": "code",
   "execution_count": 124,
   "metadata": {},
   "outputs": [
    {
     "name": "stdout",
     "output_type": "stream",
     "text": [
      "def ___(n): \n",
      "  \n",
      "    if n > 1: \n",
      "        convertToBinary(n//2) \n",
      "  \n",
      "    print(n % 2,end = '') \n",
      "  \n",
      "\n",
      "# driver code \n",
      "num = 17\n",
      "convertToBinary(num)\n",
      "def convertToBinary(n): \n",
      "  \n",
      "    if n > 1: \n",
      "        convertToBinary(n//2) \n",
      "  \n",
      "    print(n % 2,end = '') \n",
      "  \n",
      "\n",
      "# driver code \n",
      "num = 17\n",
      "convertToBinary(num)\n",
      "17\n"
     ]
    }
   ],
   "source": [
    "# Terapkan fungsi pada kolom 'Full Code'\n",
    "data['Template'] = data['Output'].apply(add_placeholder)\n",
    "print(data['Template'][0])\n",
    "print(data['Output'][0])\n",
    "print(data['Input'][0])"
   ]
  },
  {
   "cell_type": "markdown",
   "metadata": {},
   "source": [
    "Membuat fungsi untuk mengecek data soal memiliki placeholder"
   ]
  },
  {
   "cell_type": "code",
   "execution_count": 125,
   "metadata": {},
   "outputs": [],
   "source": [
    "def check_placeholder_in_column(df, column_name, placeholder=\"___\"):\n",
    "    \"\"\"\n",
    "    Cek apakah kolom tertentu dalam DataFrame mengandung placeholder.\n",
    "    \n",
    "    Args:\n",
    "        df (pd.DataFrame): DataFrame yang akan dicek.\n",
    "        column_name (str): Nama kolom yang akan diperiksa.\n",
    "        placeholder (str): Placeholder yang dicari (default: \"___\").\n",
    "    \n",
    "    Returns:\n",
    "        pd.Series: Kolom boolean (True jika ada placeholder, False jika tidak).\n",
    "    \"\"\"\n",
    "    return df[column_name].str.contains(placeholder, na=False)\n"
   ]
  },
  {
   "cell_type": "code",
   "execution_count": 126,
   "metadata": {},
   "outputs": [
    {
     "name": "stdout",
     "output_type": "stream",
     "text": [
      "has_placeholder\n",
      "True     495\n",
      "False     17\n",
      "Name: count, dtype: int64\n"
     ]
    }
   ],
   "source": [
    "data[\"has_placeholder\"] = check_placeholder_in_column(data, \"Template\")\n",
    "\n",
    "print(data[\"has_placeholder\"].value_counts())"
   ]
  },
  {
   "cell_type": "code",
   "execution_count": 127,
   "metadata": {},
   "outputs": [
    {
     "name": "stdout",
     "output_type": "stream",
     "text": [
      "has_placeholder\n",
      "True    495\n",
      "Name: count, dtype: int64\n"
     ]
    }
   ],
   "source": [
    "# Hapus baris dengan nilai False\n",
    "data = data[data[\"has_placeholder\"]]\n",
    "\n",
    "print(data[\"has_placeholder\"].value_counts())\n",
    "\n",
    "# Hapus kolom 'has_placeholder' jika tidak diperlukan lagi\n",
    "data = data.drop(columns=[\"has_placeholder\"])\n"
   ]
  },
  {
   "cell_type": "code",
   "execution_count": 128,
   "metadata": {},
   "outputs": [],
   "source": [
    "def extract_keyword_variable(code):\n",
    "    \"\"\"\n",
    "    Mengambil kata setelah kata kunci seperti def, function, dll dan mengembalikannya.\n",
    "    \"\"\"\n",
    "    # Pola regex untuk mencari kata kunci dan mengekstrak kata setelahnya\n",
    "    pattern = r'\\b(def|function|return)\\s+(\\w+)\\b\\b'\n",
    "    \n",
    "    match = re.search(pattern, code)\n",
    "    \n",
    "    # Jika ada kecocokan, ambil kata setelah kata kunci (hasil kedua dalam tuple)\n",
    "    if match:\n",
    "        return match[2]  # Kata setelah kata kunci\n",
    "    \n",
    "    return None\n",
    "\n"
   ]
  },
  {
   "cell_type": "code",
   "execution_count": 129,
   "metadata": {},
   "outputs": [],
   "source": [
    "data['correct_answer'] = data['Output'].apply(extract_keyword_variable)\n",
    "data['material'] = data['materi']\n",
    "data['instruction'] = data['Instruction']\n",
    "data['template'] = data['Template']\n",
    "data['input'] = data['Input']\n",
    "data['attempts'] = '1'\n",
    "data['duration'] = '20'\n",
    "\n",
    "data = data[['question_id', 'material','instruction', 'template', 'input', 'correct_answer', 'attempts', 'duration']]"
   ]
  },
  {
   "cell_type": "code",
   "execution_count": 130,
   "metadata": {},
   "outputs": [
    {
     "data": {
      "text/html": [
       "<div>\n",
       "<style scoped>\n",
       "    .dataframe tbody tr th:only-of-type {\n",
       "        vertical-align: middle;\n",
       "    }\n",
       "\n",
       "    .dataframe tbody tr th {\n",
       "        vertical-align: top;\n",
       "    }\n",
       "\n",
       "    .dataframe thead th {\n",
       "        text-align: right;\n",
       "    }\n",
       "</style>\n",
       "<table border=\"1\" class=\"dataframe\">\n",
       "  <thead>\n",
       "    <tr style=\"text-align: right;\">\n",
       "      <th></th>\n",
       "      <th>question_id</th>\n",
       "      <th>material</th>\n",
       "      <th>instruction</th>\n",
       "      <th>template</th>\n",
       "      <th>input</th>\n",
       "      <th>correct_answer</th>\n",
       "      <th>attempts</th>\n",
       "      <th>duration</th>\n",
       "    </tr>\n",
       "  </thead>\n",
       "  <tbody>\n",
       "    <tr>\n",
       "      <th>0</th>\n",
       "      <td>14</td>\n",
       "      <td>Function</td>\n",
       "      <td>Generate a function in Python to convert a giv...</td>\n",
       "      <td>def ___(n): \\r\\n  \\r\\n    if n &gt; 1: \\r\\n      ...</td>\n",
       "      <td>17</td>\n",
       "      <td>convertToBinary</td>\n",
       "      <td>1</td>\n",
       "      <td>20</td>\n",
       "    </tr>\n",
       "    <tr>\n",
       "      <th>1</th>\n",
       "      <td>18</td>\n",
       "      <td>Function</td>\n",
       "      <td>Create a function in Python to compute a Fibon...</td>\n",
       "      <td>def ___(n): \\r\\n if n &lt; 0: \\r\\n  print(\"Incorr...</td>\n",
       "      <td>10</td>\n",
       "      <td>fibonacci</td>\n",
       "      <td>1</td>\n",
       "      <td>20</td>\n",
       "    </tr>\n",
       "    <tr>\n",
       "      <th>2</th>\n",
       "      <td>21</td>\n",
       "      <td>Function</td>\n",
       "      <td>Construct a function that will find the value ...</td>\n",
       "      <td>def ___(dictionary, key):\\r\\n    value = dicti...</td>\n",
       "      <td>dictionary = {'key1':1, 'key2':2, 'key3':3}\\r\\...</td>\n",
       "      <td>find_value</td>\n",
       "      <td>1</td>\n",
       "      <td>20</td>\n",
       "    </tr>\n",
       "    <tr>\n",
       "      <th>3</th>\n",
       "      <td>25</td>\n",
       "      <td>Function</td>\n",
       "      <td>Design a Python function that converts strings...</td>\n",
       "      <td>def ___(sentence)\\r\\n    words = sentence.spli...</td>\n",
       "      <td>This is an example sentence</td>\n",
       "      <td>convertToCapitalize</td>\n",
       "      <td>1</td>\n",
       "      <td>20</td>\n",
       "    </tr>\n",
       "    <tr>\n",
       "      <th>4</th>\n",
       "      <td>52</td>\n",
       "      <td>Function</td>\n",
       "      <td>Create an AWS Lambda function in Python that a...</td>\n",
       "      <td>import json\\r\\n\\r\\ndef ___(event, context):\\r\\...</td>\n",
       "      <td>{\\r\\n \"x\": 10,\\r\\n \"y\": 20\\r\\n}</td>\n",
       "      <td>handler</td>\n",
       "      <td>1</td>\n",
       "      <td>20</td>\n",
       "    </tr>\n",
       "  </tbody>\n",
       "</table>\n",
       "</div>"
      ],
      "text/plain": [
       "   question_id  material                                        instruction  \\\n",
       "0           14  Function  Generate a function in Python to convert a giv...   \n",
       "1           18  Function  Create a function in Python to compute a Fibon...   \n",
       "2           21  Function  Construct a function that will find the value ...   \n",
       "3           25  Function  Design a Python function that converts strings...   \n",
       "4           52  Function  Create an AWS Lambda function in Python that a...   \n",
       "\n",
       "                                            template  \\\n",
       "0  def ___(n): \\r\\n  \\r\\n    if n > 1: \\r\\n      ...   \n",
       "1  def ___(n): \\r\\n if n < 0: \\r\\n  print(\"Incorr...   \n",
       "2  def ___(dictionary, key):\\r\\n    value = dicti...   \n",
       "3  def ___(sentence)\\r\\n    words = sentence.spli...   \n",
       "4  import json\\r\\n\\r\\ndef ___(event, context):\\r\\...   \n",
       "\n",
       "                                               input       correct_answer  \\\n",
       "0                                                 17      convertToBinary   \n",
       "1                                                 10            fibonacci   \n",
       "2  dictionary = {'key1':1, 'key2':2, 'key3':3}\\r\\...           find_value   \n",
       "3                        This is an example sentence  convertToCapitalize   \n",
       "4                    {\\r\\n \"x\": 10,\\r\\n \"y\": 20\\r\\n}              handler   \n",
       "\n",
       "  attempts duration  \n",
       "0        1       20  \n",
       "1        1       20  \n",
       "2        1       20  \n",
       "3        1       20  \n",
       "4        1       20  "
      ]
     },
     "execution_count": 130,
     "metadata": {},
     "output_type": "execute_result"
    }
   ],
   "source": [
    "data.head()"
   ]
  },
  {
   "cell_type": "markdown",
   "metadata": {},
   "source": [
    "## Save Data"
   ]
  },
  {
   "cell_type": "code",
   "execution_count": 131,
   "metadata": {},
   "outputs": [],
   "source": [
    "# Simpan dataset yang telah diproses\n",
    "data.to_csv('function_with_placeholders.csv', index=False)"
   ]
  },
  {
   "cell_type": "code",
   "execution_count": 132,
   "metadata": {},
   "outputs": [],
   "source": [
    "# import json\n",
    "\n",
    "# # Membuat struktur JSON\n",
    "# json_data = {\"quiz\": []}\n",
    "\n",
    "# for _, row in data.iterrows():\n",
    "#     question_id = row['question_id']\n",
    "#     material = row['materi']\n",
    "#     instruction = row['Instruction']\n",
    "#     question = row['Template']\n",
    "#     attempts = '1'\n",
    "#     duration = '20'\n",
    "    \n",
    "#     # Menggunakan regex untuk mencari placeholder '___' dan menggantinya dengan 'if'\n",
    "#     if '___' in question:\n",
    "#         correct_answer = row['correct_answer'] # Hanya menampilkan pengganti dari placeholder\n",
    "#     else:\n",
    "#         correct_answer = \"\"  # Jika tidak ada placeholder ___\n",
    "\n",
    "#     # Menambahkan ke struktur JSON\n",
    "#     question_entry = {\n",
    "#         \"question_id\": question_id,\n",
    "#         \"material\": material,\n",
    "#         \"instruction\": instruction,\n",
    "#         \"question\": question,\n",
    "#         \"correct_answer\": correct_answer,\n",
    "#         \"attempts\": attempts,\n",
    "#         \"duration\": duration\n",
    "#     }\n",
    "#     json_data[\"quiz\"].append(question_entry)\n",
    "\n",
    "# # Menyimpan ke file JSON\n",
    "# output_json_path = 'questions_function.json'\n",
    "# with open(output_json_path, 'w') as json_file:\n",
    "#     json.dump(json_data, json_file, indent=4)\n",
    "\n",
    "# print(f\"File JSON berhasil disimpan: {output_json_path}\")\n"
   ]
  }
 ],
 "metadata": {
  "kernelspec": {
   "display_name": "Python 3",
   "language": "python",
   "name": "python3"
  },
  "language_info": {
   "codemirror_mode": {
    "name": "ipython",
    "version": 3
   },
   "file_extension": ".py",
   "mimetype": "text/x-python",
   "name": "python",
   "nbconvert_exporter": "python",
   "pygments_lexer": "ipython3",
   "version": "3.11.0"
  }
 },
 "nbformat": 4,
 "nbformat_minor": 2
}
