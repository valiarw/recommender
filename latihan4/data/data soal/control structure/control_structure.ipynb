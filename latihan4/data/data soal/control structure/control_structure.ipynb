{
 "cells": [
  {
   "cell_type": "markdown",
   "metadata": {},
   "source": [
    "## Import Library"
   ]
  },
  {
   "cell_type": "code",
   "execution_count": 1,
   "metadata": {},
   "outputs": [],
   "source": [
    "import pandas as pd\n",
    "import re"
   ]
  },
  {
   "cell_type": "markdown",
   "metadata": {},
   "source": [
    "## Load data"
   ]
  },
  {
   "cell_type": "code",
   "execution_count": 2,
   "metadata": {},
   "outputs": [
    {
     "data": {
      "text/html": [
       "<div>\n",
       "<style scoped>\n",
       "    .dataframe tbody tr th:only-of-type {\n",
       "        vertical-align: middle;\n",
       "    }\n",
       "\n",
       "    .dataframe tbody tr th {\n",
       "        vertical-align: top;\n",
       "    }\n",
       "\n",
       "    .dataframe thead th {\n",
       "        text-align: right;\n",
       "    }\n",
       "</style>\n",
       "<table border=\"1\" class=\"dataframe\">\n",
       "  <thead>\n",
       "    <tr style=\"text-align: right;\">\n",
       "      <th></th>\n",
       "      <th>Instruction</th>\n",
       "      <th>Input</th>\n",
       "      <th>Output</th>\n",
       "      <th>materi</th>\n",
       "      <th>question_id</th>\n",
       "    </tr>\n",
       "  </thead>\n",
       "  <tbody>\n",
       "    <tr>\n",
       "      <th>0</th>\n",
       "      <td>Create a Python program to check if an integer...</td>\n",
       "      <td>Integer : 10</td>\n",
       "      <td>def is_divisible_by_5(number):\\r\\n    if (numb...</td>\n",
       "      <td>Control Structure</td>\n",
       "      <td>3</td>\n",
       "    </tr>\n",
       "    <tr>\n",
       "      <th>1</th>\n",
       "      <td>Write a python program to check if two sequenc...</td>\n",
       "      <td>[1,2,3], [1,2,3]</td>\n",
       "      <td>def check_seq(seq1, seq2):\\r\\n    if len (seq1...</td>\n",
       "      <td>Control Structure</td>\n",
       "      <td>32</td>\n",
       "    </tr>\n",
       "    <tr>\n",
       "      <th>2</th>\n",
       "      <td>Write a Python program to take user input and ...</td>\n",
       "      <td>racecar</td>\n",
       "      <td>def isPalindrome(inp):\\r\\n inp = inp.lower()\\r...</td>\n",
       "      <td>Control Structure</td>\n",
       "      <td>47</td>\n",
       "    </tr>\n",
       "    <tr>\n",
       "      <th>3</th>\n",
       "      <td>Create a _JSON serializer_ for a given Python ...</td>\n",
       "      <td>data = {\\r\\n 'name': 'Alice',\\r\\n 'age': 22,\\r...</td>\n",
       "      <td>import json\\r\\n\\r\\ndata = {\\r\\n 'name': 'Alice...</td>\n",
       "      <td>Control Structure</td>\n",
       "      <td>54</td>\n",
       "    </tr>\n",
       "    <tr>\n",
       "      <th>4</th>\n",
       "      <td>Write a Python script that uses recursion to c...</td>\n",
       "      <td>6</td>\n",
       "      <td>def Fibonacci(n): \\r\\n   if n&lt;0: \\r\\n      pri...</td>\n",
       "      <td>Control Structure</td>\n",
       "      <td>63</td>\n",
       "    </tr>\n",
       "  </tbody>\n",
       "</table>\n",
       "</div>"
      ],
      "text/plain": [
       "                                         Instruction  \\\n",
       "0  Create a Python program to check if an integer...   \n",
       "1  Write a python program to check if two sequenc...   \n",
       "2  Write a Python program to take user input and ...   \n",
       "3  Create a _JSON serializer_ for a given Python ...   \n",
       "4  Write a Python script that uses recursion to c...   \n",
       "\n",
       "                                               Input  \\\n",
       "0                                       Integer : 10   \n",
       "1                                   [1,2,3], [1,2,3]   \n",
       "2                                            racecar   \n",
       "3  data = {\\r\\n 'name': 'Alice',\\r\\n 'age': 22,\\r...   \n",
       "4                                                  6   \n",
       "\n",
       "                                              Output             materi  \\\n",
       "0  def is_divisible_by_5(number):\\r\\n    if (numb...  Control Structure   \n",
       "1  def check_seq(seq1, seq2):\\r\\n    if len (seq1...  Control Structure   \n",
       "2  def isPalindrome(inp):\\r\\n inp = inp.lower()\\r...  Control Structure   \n",
       "3  import json\\r\\n\\r\\ndata = {\\r\\n 'name': 'Alice...  Control Structure   \n",
       "4  def Fibonacci(n): \\r\\n   if n<0: \\r\\n      pri...  Control Structure   \n",
       "\n",
       "   question_id  \n",
       "0            3  \n",
       "1           32  \n",
       "2           47  \n",
       "3           54  \n",
       "4           63  "
      ]
     },
     "execution_count": 2,
     "metadata": {},
     "output_type": "execute_result"
    }
   ],
   "source": [
    "file_path = r'C:\\Users\\user\\CAPSTONE-PROJEK---CODEY\\Machine Learning\\kategori soal\\control_structure.csv'\n",
    "\n",
    "data = pd.read_csv(file_path)\n",
    "\n",
    "data.head()"
   ]
  },
  {
   "cell_type": "code",
   "execution_count": 3,
   "metadata": {},
   "outputs": [],
   "source": [
    "def add_placeholder(code):\n",
    "    \"\"\"\n",
    "    Gantikan kata setelah kata kunci dengan placeholder '___'.\n",
    "    Hanya satu kali mengganti di seluruh kode setelah menemukan kecocokan pertama.\n",
    "    \"\"\"\n",
    "    # Pola regex untuk mencari kata kunci dan mengganti kata setelahnya dengan placeholder\n",
    "    patterns = [\n",
    "         r'\\b(if|else|while|for|break|continue)\\s+(\\w+)\\b'\n",
    "    ]\n",
    "    \n",
    "    # Cari kecocokan pertama dalam seluruh kode\n",
    "    for pattern in patterns:\n",
    "        match = re.search(pattern, code)\n",
    "        if match:\n",
    "            # Ganti kata setelah kata kunci dengan placeholder '___' pada kecocokan pertama\n",
    "            code = re.sub(pattern, r'\\1 ___', code, count=1)  # Hanya mengganti kecocokan pertama\n",
    "    \n",
    "    return code\n"
   ]
  },
  {
   "cell_type": "markdown",
   "metadata": {},
   "source": [
    "Menambah kolom Template untuk soal "
   ]
  },
  {
   "cell_type": "code",
   "execution_count": 12,
   "metadata": {},
   "outputs": [
    {
     "name": "stdout",
     "output_type": "stream",
     "text": [
      "def check_input(arg1, arg2):\n",
      "   if ___(arg1) is not int or type(arg2) is not int:\n",
      "      return \"The input must be a number!\"\n",
      "   else:\n",
      "      return \"The input is valid!\"\n"
     ]
    }
   ],
   "source": [
    "# Terapkan fungsi pada kolom 'Output'\n",
    "data['Template'] = data['Output'].apply(add_placeholder)\n",
    "print(data['Template'][12])\n"
   ]
  },
  {
   "cell_type": "code",
   "execution_count": 16,
   "metadata": {},
   "outputs": [
    {
     "name": "stdout",
     "output_type": "stream",
     "text": [
      "Create a method in Python that takes two arguments and returns a specified error message if one of the two conditions is not met.\n",
      "def check_input(arg1, arg2):\n",
      "   if type(arg1) is not int or type(arg2) is not int:\n",
      "      return \"The input must be a number!\"\n",
      "   else:\n",
      "      return \"The input is valid!\"\n",
      "error_message = \"The input must be a number!\"\n"
     ]
    }
   ],
   "source": [
    "\n",
    "print(data['Instruction'][12])\n",
    "print(data['Output'][12])\n",
    "print(data['Input'][12])"
   ]
  },
  {
   "cell_type": "markdown",
   "metadata": {},
   "source": [
    "Membuat fungsi untuk mengecek data soal memiliki placeholder"
   ]
  },
  {
   "cell_type": "code",
   "execution_count": 5,
   "metadata": {},
   "outputs": [],
   "source": [
    "def check_placeholder_in_column(df, column_name, placeholder=\"___\"):\n",
    "    \"\"\"\n",
    "    Cek apakah kolom tertentu dalam DataFrame mengandung placeholder.\n",
    "    \n",
    "    Args:\n",
    "        df (pd.DataFrame): DataFrame yang akan dicek.\n",
    "        column_name (str): Nama kolom yang akan diperiksa.\n",
    "        placeholder (str): Placeholder yang dicari (default: \"___\").\n",
    "    \n",
    "    Returns:\n",
    "        pd.Series: Kolom boolean (True jika ada placeholder, False jika tidak).\n",
    "    \"\"\"\n",
    "    return df[column_name].str.contains(placeholder, na=False)\n"
   ]
  },
  {
   "cell_type": "code",
   "execution_count": 6,
   "metadata": {},
   "outputs": [
    {
     "name": "stdout",
     "output_type": "stream",
     "text": [
      "has_placeholder\n",
      "True     288\n",
      "False    148\n",
      "Name: count, dtype: int64\n"
     ]
    }
   ],
   "source": [
    "data[\"has_placeholder\"] = check_placeholder_in_column(data, \"Template\")\n",
    "\n",
    "print(data[\"has_placeholder\"].value_counts())"
   ]
  },
  {
   "cell_type": "code",
   "execution_count": 7,
   "metadata": {},
   "outputs": [
    {
     "name": "stdout",
     "output_type": "stream",
     "text": [
      "has_placeholder\n",
      "True    288\n",
      "Name: count, dtype: int64\n"
     ]
    }
   ],
   "source": [
    "# Hapus baris dengan nilai False\n",
    "data = data[data[\"has_placeholder\"]]\n",
    "\n",
    "print(data[\"has_placeholder\"].value_counts())\n",
    "\n",
    "# Hapus kolom 'has_placeholder' jika tidak diperlukan lagi\n",
    "data = data.drop(columns=[\"has_placeholder\"])\n"
   ]
  },
  {
   "cell_type": "code",
   "execution_count": 8,
   "metadata": {},
   "outputs": [],
   "source": [
    "def extract_keyword_variable(code):\n",
    "    \"\"\"\n",
    "    Mengambil kata setelah kata kunci dan mengembalikannya.\n",
    "    \"\"\"\n",
    "    # Pola regex untuk mencari kata kunci dan mengekstrak kata setelahnya\n",
    "    pattern = r'\\b(if|else|while|for|break|continue)\\s+(\\w+)\\b'\n",
    "    \n",
    "    match = re.search(pattern, code)\n",
    "    \n",
    "    # Jika ada kecocokan, ambil kata setelah kata kunci (hasil kedua dalam tuple)\n",
    "    if match:\n",
    "        return match[2]  # Kata setelah kata kunci\n",
    "    \n",
    "    return None\n",
    "\n",
    "# Terapkan fungsi untuk membuat kolom baru\n",
    "data['correct_answer'] = data['Output'].apply(extract_keyword_variable)\n"
   ]
  },
  {
   "cell_type": "markdown",
   "metadata": {},
   "source": [
    "## Save Data"
   ]
  },
  {
   "cell_type": "code",
   "execution_count": 9,
   "metadata": {},
   "outputs": [],
   "source": [
    "# Simpan dataset yang telah diproses\n",
    "data.to_csv('control_structure_with_placeholders.csv', index=False)"
   ]
  },
  {
   "cell_type": "code",
   "execution_count": 10,
   "metadata": {},
   "outputs": [],
   "source": [
    "# import json\n",
    "# import pandas as pd\n",
    "# # Membaca file CSV\n",
    "# file_path = r'C:\\Users\\user\\CAPSTONE-PROJEK---CODEY\\Machine Learning\\data soal\\questions.csv'\n",
    "# data = pd.read_csv(file_path)\n",
    "\n",
    "# data['attempts'] = '1'\n",
    "# data['duration'] = '20'\n",
    "\n",
    "# # Membuat struktur JSON\n",
    "# json_data = {\"quiz\": []}\n",
    "\n",
    "# for _, row in data.iterrows():\n",
    "#     question_id = row['question_id']\n",
    "#     material = row['materi']\n",
    "#     instruction = row['Instruction']\n",
    "#     question = row['Template']\n",
    "#     attempts = row['attempts']\n",
    "#     duration = row['duration']\n",
    "    \n",
    "#     # Menggunakan regex untuk mencari placeholder '___' dan menggantinya dengan 'if'\n",
    "#     if '___' in question:\n",
    "#         correct_answer = row['correct_answer'] # Hanya menampilkan pengganti dari placeholder\n",
    "#     else:\n",
    "#         correct_answer = \"\"  # Jika tidak ada placeholder ___\n",
    "\n",
    "#     # Menambahkan ke struktur JSON\n",
    "#     question_entry = {\n",
    "#         \"question_id\": question_id,\n",
    "#         \"material\": material,\n",
    "#         \"instruction\": instruction,\n",
    "#         \"question\": question,\n",
    "#         \"correct_answer\": correct_answer,\n",
    "#         \"attempts\": attempts,\n",
    "#         \"duration\": duration\n",
    "#     }\n",
    "#     json_data[\"quiz\"].append(question_entry)\n",
    "\n",
    "# # Menyimpan ke file JSON\n",
    "# output_json_path = 'questions_control_structure.json'\n",
    "# with open(output_json_path, 'w') as json_file:\n",
    "#     json.dump(json_data, json_file, indent=4)\n",
    "\n",
    "# print(f\"File JSON berhasil disimpan: {output_json_path}\")\n"
   ]
  },
  {
   "cell_type": "code",
   "execution_count": 11,
   "metadata": {},
   "outputs": [
    {
     "data": {
      "text/html": [
       "<div>\n",
       "<style scoped>\n",
       "    .dataframe tbody tr th:only-of-type {\n",
       "        vertical-align: middle;\n",
       "    }\n",
       "\n",
       "    .dataframe tbody tr th {\n",
       "        vertical-align: top;\n",
       "    }\n",
       "\n",
       "    .dataframe thead th {\n",
       "        text-align: right;\n",
       "    }\n",
       "</style>\n",
       "<table border=\"1\" class=\"dataframe\">\n",
       "  <thead>\n",
       "    <tr style=\"text-align: right;\">\n",
       "      <th></th>\n",
       "      <th>Instruction</th>\n",
       "      <th>Input</th>\n",
       "      <th>Output</th>\n",
       "      <th>materi</th>\n",
       "      <th>question_id</th>\n",
       "      <th>Template</th>\n",
       "      <th>correct_answer</th>\n",
       "    </tr>\n",
       "  </thead>\n",
       "  <tbody>\n",
       "    <tr>\n",
       "      <th>1</th>\n",
       "      <td>Write a python program to check if two sequenc...</td>\n",
       "      <td>[1,2,3], [1,2,3]</td>\n",
       "      <td>def check_seq(seq1, seq2):\\r\\n    if len (seq1...</td>\n",
       "      <td>Control Structure</td>\n",
       "      <td>32</td>\n",
       "      <td>def check_seq(seq1, seq2):\\r\\n    if ___ (seq1...</td>\n",
       "      <td>len</td>\n",
       "    </tr>\n",
       "    <tr>\n",
       "      <th>2</th>\n",
       "      <td>Write a Python program to take user input and ...</td>\n",
       "      <td>racecar</td>\n",
       "      <td>def isPalindrome(inp):\\r\\n inp = inp.lower()\\r...</td>\n",
       "      <td>Control Structure</td>\n",
       "      <td>47</td>\n",
       "      <td>def isPalindrome(inp):\\r\\n inp = inp.lower()\\r...</td>\n",
       "      <td>isPalindrome</td>\n",
       "    </tr>\n",
       "    <tr>\n",
       "      <th>4</th>\n",
       "      <td>Write a Python script that uses recursion to c...</td>\n",
       "      <td>6</td>\n",
       "      <td>def Fibonacci(n): \\r\\n   if n&lt;0: \\r\\n      pri...</td>\n",
       "      <td>Control Structure</td>\n",
       "      <td>63</td>\n",
       "      <td>def Fibonacci(n): \\r\\n   if ___&lt;0: \\r\\n      p...</td>\n",
       "      <td>n</td>\n",
       "    </tr>\n",
       "    <tr>\n",
       "      <th>5</th>\n",
       "      <td>Create an API wrapper in Python for the follow...</td>\n",
       "      <td>\"https://example.com/api/users/list\"</td>\n",
       "      <td>import requests \\r\\n\\r\\n# API wrapper for the ...</td>\n",
       "      <td>Control Structure</td>\n",
       "      <td>77</td>\n",
       "      <td>import requests \\r\\n\\r\\n# API wrapper for ___ ...</td>\n",
       "      <td>the</td>\n",
       "    </tr>\n",
       "    <tr>\n",
       "      <th>7</th>\n",
       "      <td>Design a function in Python to determine if a ...</td>\n",
       "      <td>37</td>\n",
       "      <td>def is_prime(n):\\r\\n    if n &lt;= 1: \\r\\n       ...</td>\n",
       "      <td>Control Structure</td>\n",
       "      <td>94</td>\n",
       "      <td>def is_prime(n):\\r\\n    if ___ &lt;= 1: \\r\\n     ...</td>\n",
       "      <td>n</td>\n",
       "    </tr>\n",
       "  </tbody>\n",
       "</table>\n",
       "</div>"
      ],
      "text/plain": [
       "                                         Instruction  \\\n",
       "1  Write a python program to check if two sequenc...   \n",
       "2  Write a Python program to take user input and ...   \n",
       "4  Write a Python script that uses recursion to c...   \n",
       "5  Create an API wrapper in Python for the follow...   \n",
       "7  Design a function in Python to determine if a ...   \n",
       "\n",
       "                                  Input  \\\n",
       "1                      [1,2,3], [1,2,3]   \n",
       "2                               racecar   \n",
       "4                                     6   \n",
       "5  \"https://example.com/api/users/list\"   \n",
       "7                                    37   \n",
       "\n",
       "                                              Output             materi  \\\n",
       "1  def check_seq(seq1, seq2):\\r\\n    if len (seq1...  Control Structure   \n",
       "2  def isPalindrome(inp):\\r\\n inp = inp.lower()\\r...  Control Structure   \n",
       "4  def Fibonacci(n): \\r\\n   if n<0: \\r\\n      pri...  Control Structure   \n",
       "5  import requests \\r\\n\\r\\n# API wrapper for the ...  Control Structure   \n",
       "7  def is_prime(n):\\r\\n    if n <= 1: \\r\\n       ...  Control Structure   \n",
       "\n",
       "   question_id                                           Template  \\\n",
       "1           32  def check_seq(seq1, seq2):\\r\\n    if ___ (seq1...   \n",
       "2           47  def isPalindrome(inp):\\r\\n inp = inp.lower()\\r...   \n",
       "4           63  def Fibonacci(n): \\r\\n   if ___<0: \\r\\n      p...   \n",
       "5           77  import requests \\r\\n\\r\\n# API wrapper for ___ ...   \n",
       "7           94  def is_prime(n):\\r\\n    if ___ <= 1: \\r\\n     ...   \n",
       "\n",
       "  correct_answer  \n",
       "1            len  \n",
       "2   isPalindrome  \n",
       "4              n  \n",
       "5            the  \n",
       "7              n  "
      ]
     },
     "execution_count": 11,
     "metadata": {},
     "output_type": "execute_result"
    }
   ],
   "source": [
    "data.head()"
   ]
  },
  {
   "cell_type": "markdown",
   "metadata": {},
   "source": []
  }
 ],
 "metadata": {
  "kernelspec": {
   "display_name": "Python 3",
   "language": "python",
   "name": "python3"
  },
  "language_info": {
   "codemirror_mode": {
    "name": "ipython",
    "version": 3
   },
   "file_extension": ".py",
   "mimetype": "text/x-python",
   "name": "python",
   "nbconvert_exporter": "python",
   "pygments_lexer": "ipython3",
   "version": "3.11.0"
  }
 },
 "nbformat": 4,
 "nbformat_minor": 2
}
