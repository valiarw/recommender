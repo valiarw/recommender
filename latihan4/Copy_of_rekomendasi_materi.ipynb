{
 "cells": [
  {
   "cell_type": "markdown",
   "id": "a3dd04f3-76f5-41e2-b7cf-5efb130f7622",
   "metadata": {
    "id": "a3dd04f3-76f5-41e2-b7cf-5efb130f7622"
   },
   "source": [
    "# REKOMENDASI MATERI BERDASARKAN BANYAKNYA KESALAHAN USER SAAT MENJAWAB SOAL"
   ]
  },
  {
   "cell_type": "markdown",
   "id": "5e6fb8c2-0df4-40e3-acb6-87dfde1ba53c",
   "metadata": {
    "id": "5e6fb8c2-0df4-40e3-acb6-87dfde1ba53c"
   },
   "source": [
    "### IMPORT LIBRARY"
   ]
  },
  {
   "cell_type": "code",
   "execution_count": 13,
   "id": "320cf3d7-0508-4269-8a1a-bf4b5ee7db96",
   "metadata": {
    "id": "320cf3d7-0508-4269-8a1a-bf4b5ee7db96"
   },
   "outputs": [],
   "source": [
    "import pandas as pd\n",
    "import numpy as np\n",
    "import re\n",
    "from sklearn.feature_extraction.text import TfidfVectorizer\n",
    "from sklearn.model_selection import train_test_split\n",
    "from sklearn.preprocessing import MinMaxScaler\n",
    "import tensorflow as tf\n",
    "from tensorflow.keras.models import Sequential\n",
    "from tensorflow.keras.layers import Input, Dense, Dropout, BatchNormalization\n",
    "from tensorflow.keras.regularizers import l2\n",
    "from tensorflow.keras.callbacks import EarlyStopping, ReduceLROnPlateau, ModelCheckpoint\n",
    "import keras_tuner as kt"
   ]
  },
  {
   "cell_type": "markdown",
   "id": "796d50c0-a6e3-49db-8d2a-d87bf01a0621",
   "metadata": {
    "id": "796d50c0-a6e3-49db-8d2a-d87bf01a0621"
   },
   "source": [
    "### LOAD DATASET"
   ]
  },
  {
   "cell_type": "code",
   "execution_count": 14,
   "id": "674353ef",
   "metadata": {},
   "outputs": [],
   "source": [
    "data = pd.read_csv('../latihan4/data/Python_Programming_Questions_Dataset_bersih.csv')  "
   ]
  },
  {
   "cell_type": "code",
   "execution_count": 15,
   "id": "f83e2d47",
   "metadata": {},
   "outputs": [],
   "source": [
    "# Tukar Input dan Output\n",
    "data['Corrected_Input'] = data['Output']\n",
    "data['Corrected_Output'] = data['Input']\n",
    "data['text'] = data['Instruction'] + \" \" + data['Corrected_Input'] + \" \" + data['Corrected_Output']"
   ]
  },
  {
   "cell_type": "code",
   "execution_count": 16,
   "id": "09c57dc6",
   "metadata": {},
   "outputs": [],
   "source": [
    "# Menambah kolom materi\n",
    "def categorize_question(Instruction):\n",
    "    if re.search(r'\\b(print|hello world|basic)\\b', Instruction, re.IGNORECASE):\n",
    "        return 'Introduction Python'\n",
    "    elif re.search(r'\\b(\\+|\\-|\\*|\\/|\\%|\\*\\*|==|!=|<|>|<=|>=|=)\\b', Instruction):\n",
    "        return 'Operator'\n",
    "    elif re.search(r'\\b(int|float|string|bool|type)\\b', Instruction, re.IGNORECASE):\n",
    "        return 'Data Type'\n",
    "    elif re.search(r'\\b(list|tuple|dict|set|array)\\b', Instruction, re.IGNORECASE):\n",
    "        return 'Data Structure'\n",
    "    elif re.search(r'\\b(if|else|while|for|break|continue)\\b', Instruction, re.IGNORECASE):\n",
    "        return 'Control Structure'\n",
    "    elif re.search(r'\\b(def|function|return)\\b', Instruction, re.IGNORECASE):\n",
    "        return 'Function'\n",
    "    elif re.search(r'\\b(class|object|inheritance|method|self)\\b', Instruction, re.IGNORECASE):\n",
    "        return 'OOP'\n",
    "    else:\n",
    "        return 'Lainnya'"
   ]
  },
  {
   "cell_type": "code",
   "execution_count": 17,
   "id": "4fa716f6",
   "metadata": {},
   "outputs": [
    {
     "data": {
      "text/html": [
       "<div>\n",
       "<style scoped>\n",
       "    .dataframe tbody tr th:only-of-type {\n",
       "        vertical-align: middle;\n",
       "    }\n",
       "\n",
       "    .dataframe tbody tr th {\n",
       "        vertical-align: top;\n",
       "    }\n",
       "\n",
       "    .dataframe thead th {\n",
       "        text-align: right;\n",
       "    }\n",
       "</style>\n",
       "<table border=\"1\" class=\"dataframe\">\n",
       "  <thead>\n",
       "    <tr style=\"text-align: right;\">\n",
       "      <th></th>\n",
       "      <th>Instruction</th>\n",
       "      <th>Input</th>\n",
       "      <th>Output</th>\n",
       "      <th>Corrected_Input</th>\n",
       "      <th>Corrected_Output</th>\n",
       "      <th>text</th>\n",
       "      <th>materi</th>\n",
       "      <th>question_id</th>\n",
       "    </tr>\n",
       "  </thead>\n",
       "  <tbody>\n",
       "    <tr>\n",
       "      <th>0</th>\n",
       "      <td>Create a function in Python which takes a list...</td>\n",
       "      <td>[3, 4, 5]</td>\n",
       "      <td>def sum_squares(nums):\\r\\n    result = 0\\r\\n  ...</td>\n",
       "      <td>def sum_squares(nums):\\r\\n    result = 0\\r\\n  ...</td>\n",
       "      <td>[3, 4, 5]</td>\n",
       "      <td>Create a function in Python which takes a list...</td>\n",
       "      <td>Data Structure</td>\n",
       "      <td>0</td>\n",
       "    </tr>\n",
       "    <tr>\n",
       "      <th>1</th>\n",
       "      <td>Design a function in Python that sorts a list ...</td>\n",
       "      <td>['red', 'green', 'orange']</td>\n",
       "      <td>def sort_list_alphabetically(input_list): \\r\\n...</td>\n",
       "      <td>def sort_list_alphabetically(input_list): \\r\\n...</td>\n",
       "      <td>['red', 'green', 'orange']</td>\n",
       "      <td>Design a function in Python that sorts a list ...</td>\n",
       "      <td>Data Structure</td>\n",
       "      <td>1</td>\n",
       "    </tr>\n",
       "    <tr>\n",
       "      <th>2</th>\n",
       "      <td>Edit the following Python code such that it wi...</td>\n",
       "      <td>days = [\"Monday\", \"Thuesday\", \"Wednesday\", \"Th...</td>\n",
       "      <td>days = [\"Monday\", \"Tuesday\", \"Wednesday\", \"Thu...</td>\n",
       "      <td>days = [\"Monday\", \"Tuesday\", \"Wednesday\", \"Thu...</td>\n",
       "      <td>days = [\"Monday\", \"Thuesday\", \"Wednesday\", \"Th...</td>\n",
       "      <td>Edit the following Python code such that it wi...</td>\n",
       "      <td>Introduction Python</td>\n",
       "      <td>2</td>\n",
       "    </tr>\n",
       "    <tr>\n",
       "      <th>3</th>\n",
       "      <td>Create a Python program to check if an integer...</td>\n",
       "      <td>Integer : 10</td>\n",
       "      <td>def is_divisible_by_5(number):\\r\\n    if (numb...</td>\n",
       "      <td>def is_divisible_by_5(number):\\r\\n    if (numb...</td>\n",
       "      <td>Integer : 10</td>\n",
       "      <td>Create a Python program to check if an integer...</td>\n",
       "      <td>Control Structure</td>\n",
       "      <td>3</td>\n",
       "    </tr>\n",
       "    <tr>\n",
       "      <th>4</th>\n",
       "      <td>Create a Python algorithm to calculate the tar...</td>\n",
       "      <td>subtrahend: 10\\r\\nlist: [4, 3, 8, 6, 5]</td>\n",
       "      <td>def target_sum(subtrahend, lst):\\r\\n    target...</td>\n",
       "      <td>def target_sum(subtrahend, lst):\\r\\n    target...</td>\n",
       "      <td>subtrahend: 10\\r\\nlist: [4, 3, 8, 6, 5]</td>\n",
       "      <td>Create a Python algorithm to calculate the tar...</td>\n",
       "      <td>Data Structure</td>\n",
       "      <td>4</td>\n",
       "    </tr>\n",
       "  </tbody>\n",
       "</table>\n",
       "</div>"
      ],
      "text/plain": [
       "                                         Instruction  \\\n",
       "0  Create a function in Python which takes a list...   \n",
       "1  Design a function in Python that sorts a list ...   \n",
       "2  Edit the following Python code such that it wi...   \n",
       "3  Create a Python program to check if an integer...   \n",
       "4  Create a Python algorithm to calculate the tar...   \n",
       "\n",
       "                                               Input  \\\n",
       "0                                          [3, 4, 5]   \n",
       "1                         ['red', 'green', 'orange']   \n",
       "2  days = [\"Monday\", \"Thuesday\", \"Wednesday\", \"Th...   \n",
       "3                                       Integer : 10   \n",
       "4            subtrahend: 10\\r\\nlist: [4, 3, 8, 6, 5]   \n",
       "\n",
       "                                              Output  \\\n",
       "0  def sum_squares(nums):\\r\\n    result = 0\\r\\n  ...   \n",
       "1  def sort_list_alphabetically(input_list): \\r\\n...   \n",
       "2  days = [\"Monday\", \"Tuesday\", \"Wednesday\", \"Thu...   \n",
       "3  def is_divisible_by_5(number):\\r\\n    if (numb...   \n",
       "4  def target_sum(subtrahend, lst):\\r\\n    target...   \n",
       "\n",
       "                                     Corrected_Input  \\\n",
       "0  def sum_squares(nums):\\r\\n    result = 0\\r\\n  ...   \n",
       "1  def sort_list_alphabetically(input_list): \\r\\n...   \n",
       "2  days = [\"Monday\", \"Tuesday\", \"Wednesday\", \"Thu...   \n",
       "3  def is_divisible_by_5(number):\\r\\n    if (numb...   \n",
       "4  def target_sum(subtrahend, lst):\\r\\n    target...   \n",
       "\n",
       "                                    Corrected_Output  \\\n",
       "0                                          [3, 4, 5]   \n",
       "1                         ['red', 'green', 'orange']   \n",
       "2  days = [\"Monday\", \"Thuesday\", \"Wednesday\", \"Th...   \n",
       "3                                       Integer : 10   \n",
       "4            subtrahend: 10\\r\\nlist: [4, 3, 8, 6, 5]   \n",
       "\n",
       "                                                text               materi  \\\n",
       "0  Create a function in Python which takes a list...       Data Structure   \n",
       "1  Design a function in Python that sorts a list ...       Data Structure   \n",
       "2  Edit the following Python code such that it wi...  Introduction Python   \n",
       "3  Create a Python program to check if an integer...    Control Structure   \n",
       "4  Create a Python algorithm to calculate the tar...       Data Structure   \n",
       "\n",
       "   question_id  \n",
       "0            0  \n",
       "1            1  \n",
       "2            2  \n",
       "3            3  \n",
       "4            4  "
      ]
     },
     "execution_count": 17,
     "metadata": {},
     "output_type": "execute_result"
    }
   ],
   "source": [
    "# Menerapkan pada dataset\n",
    "data['materi'] = data['Instruction'].apply(categorize_question)\n",
    "\n",
    "# Menambahkan kolom ID soal\n",
    "data['question_id'] = data.index \n",
    "data.head()"
   ]
  },
  {
   "cell_type": "code",
   "execution_count": 18,
   "id": "445c4957",
   "metadata": {},
   "outputs": [
    {
     "name": "stdout",
     "output_type": "stream",
     "text": [
      "0       False\n",
      "1       False\n",
      "2       False\n",
      "3       False\n",
      "4       False\n",
      "        ...  \n",
      "7555    False\n",
      "7556    False\n",
      "7557    False\n",
      "7558    False\n",
      "7559    False\n",
      "Length: 7560, dtype: bool\n",
      "Total missing value: 0\n"
     ]
    }
   ],
   "source": [
    "df = pd.DataFrame(data)\n",
    "print(df.duplicated())\n",
    "# Melihat total missing value\n",
    "total_missing = df.isnull().sum().sum()\n",
    "print(f'Total missing value: {total_missing}')\n"
   ]
  },
  {
   "cell_type": "code",
   "execution_count": 19,
   "id": "fb4eee13-cbc6-49ba-a836-b40993dd40a8",
   "metadata": {
    "colab": {
     "base_uri": "https://localhost:8080/",
     "height": 547
    },
    "id": "fb4eee13-cbc6-49ba-a836-b40993dd40a8",
    "outputId": "79c4e1d7-1c4e-4013-b81e-4d0d64401806"
   },
   "outputs": [],
   "source": [
    "# Dataset dummy interaksi user\n",
    "interaction_data = {\n",
    "    'user_id': [1, 1, 2, 2, 3, 3, 3],\n",
    "    'question_id': [0, 1, 1, 2, 2, 3, 4],\n",
    "    'attempts': [3, 2, 4, 1, 3, 2, 1],\n",
    "    'correct': [1, 0, 1, 1, 1, 0, 1],\n",
    "    'duration': [30, 45, 60, 35, 50, 20, 25]\n",
    "}\n",
    "interaction_df = pd.DataFrame(interaction_data)\n",
    "\n",
    "# Menggabungkan interaksi dengan soal\n",
    "interaction_df = interaction_df.merge(data[['question_id', 'materi']], on='question_id', how='left')"
   ]
  },
  {
   "cell_type": "markdown",
   "id": "70c329ee-5ed2-442d-8160-44838a3ea285",
   "metadata": {
    "id": "70c329ee-5ed2-442d-8160-44838a3ea285"
   },
   "source": [
    "### PREPROCESSING DATA"
   ]
  },
  {
   "cell_type": "code",
   "execution_count": 20,
   "id": "354ce67c-67d8-47f9-bae5-dec56a6116f4",
   "metadata": {
    "id": "354ce67c-67d8-47f9-bae5-dec56a6116f4",
    "scrolled": true
   },
   "outputs": [
    {
     "name": "stdout",
     "output_type": "stream",
     "text": [
      "   question_id  attempts  correct  duration  avg_error_rate\n",
      "0            0       3.0      1.0      30.0             0.0\n",
      "1            1       3.0      0.5      52.5             0.5\n",
      "2            2       2.0      1.0      42.5             0.0\n",
      "3            3       2.0      0.0      20.0             1.0\n",
      "4            4       1.0      1.0      25.0             0.0\n"
     ]
    }
   ],
   "source": [
    "# Fitur interaksi user\n",
    "error_data = interaction_df.groupby('question_id').agg({\n",
    "    'attempts': 'mean',\n",
    "    'correct': 'mean',\n",
    "    'duration': 'mean'\n",
    "}).reset_index()\n",
    "\n",
    "# Hitung kesalahan per materi\n",
    "error_data['avg_error_rate'] = 1 - error_data['correct']\n",
    "print(error_data)\n",
    "\n",
    "# Representasi TF-IDF untuk teks\n",
    "tfidf = TfidfVectorizer(max_features=2000)\n",
    "tfidf_matrix = tfidf.fit_transform(data['text']).toarray()\n",
    "\n",
    "# Mendapatkan materi dengan kesalahan tertinggi\n",
    "top_error_materis = error_data.sort_values(by='avg_error_rate', ascending=False).head(5)\n",
    "\n",
    "# Menggabungkan fitur TF-IDF dengan kolom materi\n",
    "features = pd.DataFrame(tfidf_matrix)\n",
    "\n",
    "# Menambahkan kolom 'materi' ke dalam fitur\n",
    "features['materi'] = data['materi']\n",
    "\n",
    "# Encode target materi\n",
    "data['target'] = data['materi'].astype('category').cat.codes\n",
    "num_classes = len(data['target'].unique())\n",
    "\n",
    "# Split data menjadi train dan test\n",
    "X_train, X_test, y_train, y_test = train_test_split(features.drop('materi', axis=1), data['target'], test_size=0.2, random_state=42)\n",
    "\n",
    "# One-hot encoding untuk target\n",
    "y_train = tf.keras.utils.to_categorical(y_train, num_classes=num_classes)\n",
    "y_test = tf.keras.utils.to_categorical(y_test, num_classes=num_classes)"
   ]
  },
  {
   "cell_type": "markdown",
   "id": "2a990c72-53f6-4499-81cc-7fb1a8dcc32c",
   "metadata": {
    "id": "2a990c72-53f6-4499-81cc-7fb1a8dcc32c"
   },
   "source": [
    "\n",
    "### MEMBANGUN MODEL\n"
   ]
  },
  {
   "cell_type": "code",
   "execution_count": 21,
   "id": "0fa54690-32f0-4fbf-9c97-05d8fa80e860",
   "metadata": {
    "id": "0fa54690-32f0-4fbf-9c97-05d8fa80e860"
   },
   "outputs": [],
   "source": [
    "def build_model(hp):\n",
    "    model = tf.keras.Sequential()\n",
    "    model.add(Input(shape=(X_train.shape[1],)))\n",
    "    model.add(Dense(128, activation='relu', kernel_regularizer=l2(0.01)))\n",
    "    model.add(Dropout(0.6))\n",
    "    model.add(BatchNormalization())\n",
    "    model.add(Dense(128, activation='relu', kernel_regularizer=l2(0.01)))\n",
    "    model.add(Dropout(0.7))\n",
    "    model.add(BatchNormalization())\n",
    "    model.add(Dense(64, activation='relu', kernel_regularizer=l2(0.01)))\n",
    "    model.add(Dropout(0.6))\n",
    "    model.add(BatchNormalization())\n",
    "    model.add(Dense(y_train.shape[1], activation='softmax'))\n",
    "\n",
    "    model.compile(\n",
    "        optimizer=tf.keras.optimizers.Adam(\n",
    "            learning_rate=hp.Choice('learning_rate', values=[1e-2, 1e-4, 1e-6])\n",
    "        ),\n",
    "        loss='categorical_crossentropy',\n",
    "        metrics=['accuracy']\n",
    "    )\n",
    "    return model"
   ]
  },
  {
   "cell_type": "code",
   "execution_count": 22,
   "id": "0b4e685e-52eb-48a6-9131-8691938994c6",
   "metadata": {
    "id": "0b4e685e-52eb-48a6-9131-8691938994c6"
   },
   "outputs": [
    {
     "name": "stdout",
     "output_type": "stream",
     "text": [
      "Reloading Tuner from model_tuning\\CodeyApp_recommendation_system\\tuner0.json\n"
     ]
    }
   ],
   "source": [
    "# Hyperparameter tuning\n",
    "tuner = kt.RandomSearch(\n",
    "    build_model,\n",
    "    objective='val_accuracy',\n",
    "    max_trials=10,\n",
    "    executions_per_trial=2,\n",
    "    directory='model_tuning',\n",
    "    project_name='CodeyApp_recommendation_system'\n",
    ")\n",
    "\n",
    "\n",
    "# pencarian hyperparameter\n",
    "tuner.search(X_train, y_train, epochs=20, validation_data=(X_test, y_test),\n",
    "             callbacks=[EarlyStopping(monitor='val_loss', patience=3)])\n",
    "\n",
    "# Mendapatkan hyperparameter yang bagus\n",
    "best_hps = tuner.get_best_hyperparameters(num_trials=1)[0]\n",
    "model = tuner.hypermodel.build(best_hps)"
   ]
  },
  {
   "cell_type": "markdown",
   "id": "bc7995b1-6748-40a7-914b-07c80df10934",
   "metadata": {
    "id": "bc7995b1-6748-40a7-914b-07c80df10934"
   },
   "source": [
    "### TRAIN MODEL"
   ]
  },
  {
   "cell_type": "code",
   "execution_count": 23,
   "id": "5766b47e-91fb-4f78-bc69-a67f43428877",
   "metadata": {
    "id": "5766b47e-91fb-4f78-bc69-a67f43428877"
   },
   "outputs": [
    {
     "name": "stdout",
     "output_type": "stream",
     "text": [
      "Epoch 1/50\n",
      "\u001b[1m189/189\u001b[0m \u001b[32m━━━━━━━━━━━━━━━━━━━━\u001b[0m\u001b[37m\u001b[0m \u001b[1m0s\u001b[0m 24ms/step - accuracy: 0.1777 - loss: 5.3708\n",
      "Epoch 1: val_loss improved from inf to 3.78027, saving model to best_model.keras\n",
      "\u001b[1m189/189\u001b[0m \u001b[32m━━━━━━━━━━━━━━━━━━━━\u001b[0m\u001b[37m\u001b[0m \u001b[1m15s\u001b[0m 31ms/step - accuracy: 0.1780 - loss: 5.3673 - val_accuracy: 0.4458 - val_loss: 3.7803 - learning_rate: 0.0010\n",
      "Epoch 2/50\n",
      "\u001b[1m189/189\u001b[0m \u001b[32m━━━━━━━━━━━━━━━━━━━━\u001b[0m\u001b[37m\u001b[0m \u001b[1m0s\u001b[0m 25ms/step - accuracy: 0.3790 - loss: 3.7265\n",
      "Epoch 2: val_loss improved from 3.78027 to 3.15794, saving model to best_model.keras\n",
      "\u001b[1m189/189\u001b[0m \u001b[32m━━━━━━━━━━━━━━━━━━━━\u001b[0m\u001b[37m\u001b[0m \u001b[1m11s\u001b[0m 32ms/step - accuracy: 0.3793 - loss: 3.7255 - val_accuracy: 0.5384 - val_loss: 3.1579 - learning_rate: 0.0010\n",
      "Epoch 3/50\n",
      "\u001b[1m188/189\u001b[0m \u001b[32m━━━━━━━━━━━━━━━━━━━\u001b[0m\u001b[37m━\u001b[0m \u001b[1m0s\u001b[0m 32ms/step - accuracy: 0.5240 - loss: 3.0072\n",
      "Epoch 3: val_loss improved from 3.15794 to 2.54585, saving model to best_model.keras\n",
      "\u001b[1m189/189\u001b[0m \u001b[32m━━━━━━━━━━━━━━━━━━━━\u001b[0m\u001b[37m\u001b[0m \u001b[1m12s\u001b[0m 37ms/step - accuracy: 0.5242 - loss: 3.0059 - val_accuracy: 0.6184 - val_loss: 2.5458 - learning_rate: 0.0010\n",
      "Epoch 4/50\n",
      "\u001b[1m188/189\u001b[0m \u001b[32m━━━━━━━━━━━━━━━━━━━\u001b[0m\u001b[37m━\u001b[0m \u001b[1m0s\u001b[0m 25ms/step - accuracy: 0.5788 - loss: 2.5152\n",
      "Epoch 4: val_loss improved from 2.54585 to 2.11038, saving model to best_model.keras\n",
      "\u001b[1m189/189\u001b[0m \u001b[32m━━━━━━━━━━━━━━━━━━━━\u001b[0m\u001b[37m\u001b[0m \u001b[1m9s\u001b[0m 29ms/step - accuracy: 0.5789 - loss: 2.5141 - val_accuracy: 0.6561 - val_loss: 2.1104 - learning_rate: 0.0010\n",
      "Epoch 5/50\n",
      "\u001b[1m186/189\u001b[0m \u001b[32m━━━━━━━━━━━━━━━━━━━\u001b[0m\u001b[37m━\u001b[0m \u001b[1m0s\u001b[0m 18ms/step - accuracy: 0.6177 - loss: 2.1442\n",
      "Epoch 5: val_loss improved from 2.11038 to 1.85401, saving model to best_model.keras\n",
      "\u001b[1m189/189\u001b[0m \u001b[32m━━━━━━━━━━━━━━━━━━━━\u001b[0m\u001b[37m\u001b[0m \u001b[1m5s\u001b[0m 25ms/step - accuracy: 0.6179 - loss: 2.1425 - val_accuracy: 0.6700 - val_loss: 1.8540 - learning_rate: 0.0010\n",
      "Epoch 6/50\n",
      "\u001b[1m187/189\u001b[0m \u001b[32m━━━━━━━━━━━━━━━━━━━\u001b[0m\u001b[37m━\u001b[0m \u001b[1m0s\u001b[0m 26ms/step - accuracy: 0.6366 - loss: 1.9072\n",
      "Epoch 6: val_loss improved from 1.85401 to 1.68211, saving model to best_model.keras\n",
      "\u001b[1m189/189\u001b[0m \u001b[32m━━━━━━━━━━━━━━━━━━━━\u001b[0m\u001b[37m\u001b[0m \u001b[1m7s\u001b[0m 32ms/step - accuracy: 0.6366 - loss: 1.9064 - val_accuracy: 0.6759 - val_loss: 1.6821 - learning_rate: 0.0010\n",
      "Epoch 7/50\n",
      "\u001b[1m184/189\u001b[0m \u001b[32m━━━━━━━━━━━━━━━━━━━\u001b[0m\u001b[37m━\u001b[0m \u001b[1m0s\u001b[0m 15ms/step - accuracy: 0.6502 - loss: 1.7162\n",
      "Epoch 7: val_loss improved from 1.68211 to 1.56451, saving model to best_model.keras\n",
      "\u001b[1m189/189\u001b[0m \u001b[32m━━━━━━━━━━━━━━━━━━━━\u001b[0m\u001b[37m\u001b[0m \u001b[1m4s\u001b[0m 21ms/step - accuracy: 0.6502 - loss: 1.7152 - val_accuracy: 0.6885 - val_loss: 1.5645 - learning_rate: 0.0010\n",
      "Epoch 8/50\n",
      "\u001b[1m188/189\u001b[0m \u001b[32m━━━━━━━━━━━━━━━━━━━\u001b[0m\u001b[37m━\u001b[0m \u001b[1m0s\u001b[0m 13ms/step - accuracy: 0.6664 - loss: 1.5802\n",
      "Epoch 8: val_loss improved from 1.56451 to 1.50738, saving model to best_model.keras\n",
      "\u001b[1m189/189\u001b[0m \u001b[32m━━━━━━━━━━━━━━━━━━━━\u001b[0m\u001b[37m\u001b[0m \u001b[1m4s\u001b[0m 18ms/step - accuracy: 0.6663 - loss: 1.5803 - val_accuracy: 0.6739 - val_loss: 1.5074 - learning_rate: 0.0010\n",
      "Epoch 9/50\n",
      "\u001b[1m187/189\u001b[0m \u001b[32m━━━━━━━━━━━━━━━━━━━\u001b[0m\u001b[37m━\u001b[0m \u001b[1m0s\u001b[0m 22ms/step - accuracy: 0.6552 - loss: 1.5526\n",
      "Epoch 9: val_loss improved from 1.50738 to 1.46652, saving model to best_model.keras\n",
      "\u001b[1m189/189\u001b[0m \u001b[32m━━━━━━━━━━━━━━━━━━━━\u001b[0m\u001b[37m\u001b[0m \u001b[1m7s\u001b[0m 28ms/step - accuracy: 0.6553 - loss: 1.5524 - val_accuracy: 0.6892 - val_loss: 1.4665 - learning_rate: 0.0010\n",
      "Epoch 10/50\n",
      "\u001b[1m186/189\u001b[0m \u001b[32m━━━━━━━━━━━━━━━━━━━\u001b[0m\u001b[37m━\u001b[0m \u001b[1m0s\u001b[0m 17ms/step - accuracy: 0.6627 - loss: 1.5110\n",
      "Epoch 10: val_loss improved from 1.46652 to 1.45326, saving model to best_model.keras\n",
      "\u001b[1m189/189\u001b[0m \u001b[32m━━━━━━━━━━━━━━━━━━━━\u001b[0m\u001b[37m\u001b[0m \u001b[1m4s\u001b[0m 20ms/step - accuracy: 0.6627 - loss: 1.5110 - val_accuracy: 0.6878 - val_loss: 1.4533 - learning_rate: 0.0010\n",
      "Epoch 11/50\n",
      "\u001b[1m185/189\u001b[0m \u001b[32m━━━━━━━━━━━━━━━━━━━\u001b[0m\u001b[37m━\u001b[0m \u001b[1m0s\u001b[0m 19ms/step - accuracy: 0.6779 - loss: 1.4679\n",
      "Epoch 11: val_loss improved from 1.45326 to 1.41756, saving model to best_model.keras\n",
      "\u001b[1m189/189\u001b[0m \u001b[32m━━━━━━━━━━━━━━━━━━━━\u001b[0m\u001b[37m\u001b[0m \u001b[1m5s\u001b[0m 24ms/step - accuracy: 0.6777 - loss: 1.4682 - val_accuracy: 0.6944 - val_loss: 1.4176 - learning_rate: 0.0010\n",
      "Epoch 12/50\n",
      "\u001b[1m189/189\u001b[0m \u001b[32m━━━━━━━━━━━━━━━━━━━━\u001b[0m\u001b[37m\u001b[0m \u001b[1m0s\u001b[0m 20ms/step - accuracy: 0.6820 - loss: 1.4454\n",
      "Epoch 12: val_loss did not improve from 1.41756\n",
      "\u001b[1m189/189\u001b[0m \u001b[32m━━━━━━━━━━━━━━━━━━━━\u001b[0m\u001b[37m\u001b[0m \u001b[1m6s\u001b[0m 22ms/step - accuracy: 0.6819 - loss: 1.4455 - val_accuracy: 0.6978 - val_loss: 1.4414 - learning_rate: 0.0010\n",
      "Epoch 13/50\n",
      "\u001b[1m188/189\u001b[0m \u001b[32m━━━━━━━━━━━━━━━━━━━\u001b[0m\u001b[37m━\u001b[0m \u001b[1m0s\u001b[0m 20ms/step - accuracy: 0.6817 - loss: 1.4697\n",
      "Epoch 13: val_loss did not improve from 1.41756\n",
      "\u001b[1m189/189\u001b[0m \u001b[32m━━━━━━━━━━━━━━━━━━━━\u001b[0m\u001b[37m\u001b[0m \u001b[1m4s\u001b[0m 23ms/step - accuracy: 0.6816 - loss: 1.4698 - val_accuracy: 0.6951 - val_loss: 1.4349 - learning_rate: 0.0010\n",
      "Epoch 14/50\n",
      "\u001b[1m187/189\u001b[0m \u001b[32m━━━━━━━━━━━━━━━━━━━\u001b[0m\u001b[37m━\u001b[0m \u001b[1m0s\u001b[0m 15ms/step - accuracy: 0.6869 - loss: 1.4729\n",
      "Epoch 14: ReduceLROnPlateau reducing learning rate to 0.0005000000237487257.\n",
      "\n",
      "Epoch 14: val_loss did not improve from 1.41756\n",
      "\u001b[1m189/189\u001b[0m \u001b[32m━━━━━━━━━━━━━━━━━━━━\u001b[0m\u001b[37m\u001b[0m \u001b[1m5s\u001b[0m 17ms/step - accuracy: 0.6867 - loss: 1.4733 - val_accuracy: 0.7090 - val_loss: 1.4214 - learning_rate: 0.0010\n",
      "Epoch 15/50\n",
      "\u001b[1m185/189\u001b[0m \u001b[32m━━━━━━━━━━━━━━━━━━━\u001b[0m\u001b[37m━\u001b[0m \u001b[1m0s\u001b[0m 15ms/step - accuracy: 0.6988 - loss: 1.4556\n",
      "Epoch 15: val_loss improved from 1.41756 to 1.36487, saving model to best_model.keras\n",
      "\u001b[1m189/189\u001b[0m \u001b[32m━━━━━━━━━━━━━━━━━━━━\u001b[0m\u001b[37m\u001b[0m \u001b[1m5s\u001b[0m 17ms/step - accuracy: 0.6988 - loss: 1.4548 - val_accuracy: 0.7103 - val_loss: 1.3649 - learning_rate: 5.0000e-04\n",
      "Epoch 16/50\n",
      "\u001b[1m186/189\u001b[0m \u001b[32m━━━━━━━━━━━━━━━━━━━\u001b[0m\u001b[37m━\u001b[0m \u001b[1m0s\u001b[0m 16ms/step - accuracy: 0.7218 - loss: 1.3400\n",
      "Epoch 16: val_loss improved from 1.36487 to 1.31951, saving model to best_model.keras\n",
      "\u001b[1m189/189\u001b[0m \u001b[32m━━━━━━━━━━━━━━━━━━━━\u001b[0m\u001b[37m\u001b[0m \u001b[1m6s\u001b[0m 21ms/step - accuracy: 0.7216 - loss: 1.3398 - val_accuracy: 0.7037 - val_loss: 1.3195 - learning_rate: 5.0000e-04\n",
      "Epoch 17/50\n",
      "\u001b[1m189/189\u001b[0m \u001b[32m━━━━━━━━━━━━━━━━━━━━\u001b[0m\u001b[37m\u001b[0m \u001b[1m0s\u001b[0m 19ms/step - accuracy: 0.7328 - loss: 1.2388\n",
      "Epoch 17: val_loss improved from 1.31951 to 1.26408, saving model to best_model.keras\n",
      "\u001b[1m189/189\u001b[0m \u001b[32m━━━━━━━━━━━━━━━━━━━━\u001b[0m\u001b[37m\u001b[0m \u001b[1m6s\u001b[0m 24ms/step - accuracy: 0.7327 - loss: 1.2390 - val_accuracy: 0.7196 - val_loss: 1.2641 - learning_rate: 5.0000e-04\n",
      "Epoch 18/50\n",
      "\u001b[1m189/189\u001b[0m \u001b[32m━━━━━━━━━━━━━━━━━━━━\u001b[0m\u001b[37m\u001b[0m \u001b[1m0s\u001b[0m 17ms/step - accuracy: 0.7177 - loss: 1.2550\n",
      "Epoch 18: val_loss improved from 1.26408 to 1.23828, saving model to best_model.keras\n",
      "\u001b[1m189/189\u001b[0m \u001b[32m━━━━━━━━━━━━━━━━━━━━\u001b[0m\u001b[37m\u001b[0m \u001b[1m4s\u001b[0m 21ms/step - accuracy: 0.7177 - loss: 1.2549 - val_accuracy: 0.7341 - val_loss: 1.2383 - learning_rate: 5.0000e-04\n",
      "Epoch 19/50\n",
      "\u001b[1m188/189\u001b[0m \u001b[32m━━━━━━━━━━━━━━━━━━━\u001b[0m\u001b[37m━\u001b[0m \u001b[1m0s\u001b[0m 20ms/step - accuracy: 0.7323 - loss: 1.1950\n",
      "Epoch 19: val_loss improved from 1.23828 to 1.22136, saving model to best_model.keras\n",
      "\u001b[1m189/189\u001b[0m \u001b[32m━━━━━━━━━━━━━━━━━━━━\u001b[0m\u001b[37m\u001b[0m \u001b[1m6s\u001b[0m 23ms/step - accuracy: 0.7322 - loss: 1.1951 - val_accuracy: 0.7269 - val_loss: 1.2214 - learning_rate: 5.0000e-04\n",
      "Epoch 20/50\n",
      "\u001b[1m188/189\u001b[0m \u001b[32m━━━━━━━━━━━━━━━━━━━\u001b[0m\u001b[37m━\u001b[0m \u001b[1m0s\u001b[0m 17ms/step - accuracy: 0.7339 - loss: 1.1949\n",
      "Epoch 20: val_loss improved from 1.22136 to 1.20724, saving model to best_model.keras\n",
      "\u001b[1m189/189\u001b[0m \u001b[32m━━━━━━━━━━━━━━━━━━━━\u001b[0m\u001b[37m\u001b[0m \u001b[1m4s\u001b[0m 22ms/step - accuracy: 0.7339 - loss: 1.1949 - val_accuracy: 0.7315 - val_loss: 1.2072 - learning_rate: 5.0000e-04\n",
      "Epoch 21/50\n",
      "\u001b[1m186/189\u001b[0m \u001b[32m━━━━━━━━━━━━━━━━━━━\u001b[0m\u001b[37m━\u001b[0m \u001b[1m0s\u001b[0m 21ms/step - accuracy: 0.7396 - loss: 1.1844\n",
      "Epoch 21: val_loss did not improve from 1.20724\n",
      "\u001b[1m189/189\u001b[0m \u001b[32m━━━━━━━━━━━━━━━━━━━━\u001b[0m\u001b[37m\u001b[0m \u001b[1m4s\u001b[0m 22ms/step - accuracy: 0.7396 - loss: 1.1846 - val_accuracy: 0.7315 - val_loss: 1.2211 - learning_rate: 5.0000e-04\n",
      "Epoch 22/50\n",
      "\u001b[1m188/189\u001b[0m \u001b[32m━━━━━━━━━━━━━━━━━━━\u001b[0m\u001b[37m━\u001b[0m \u001b[1m0s\u001b[0m 15ms/step - accuracy: 0.7498 - loss: 1.1437\n",
      "Epoch 22: val_loss improved from 1.20724 to 1.19313, saving model to best_model.keras\n",
      "\u001b[1m189/189\u001b[0m \u001b[32m━━━━━━━━━━━━━━━━━━━━\u001b[0m\u001b[37m\u001b[0m \u001b[1m5s\u001b[0m 18ms/step - accuracy: 0.7497 - loss: 1.1439 - val_accuracy: 0.7348 - val_loss: 1.1931 - learning_rate: 5.0000e-04\n",
      "Epoch 23/50\n",
      "\u001b[1m189/189\u001b[0m \u001b[32m━━━━━━━━━━━━━━━━━━━━\u001b[0m\u001b[37m\u001b[0m \u001b[1m0s\u001b[0m 13ms/step - accuracy: 0.7395 - loss: 1.1651\n",
      "Epoch 23: val_loss did not improve from 1.19313\n",
      "\u001b[1m189/189\u001b[0m \u001b[32m━━━━━━━━━━━━━━━━━━━━\u001b[0m\u001b[37m\u001b[0m \u001b[1m5s\u001b[0m 16ms/step - accuracy: 0.7395 - loss: 1.1651 - val_accuracy: 0.7335 - val_loss: 1.2016 - learning_rate: 5.0000e-04\n",
      "Epoch 24/50\n",
      "\u001b[1m186/189\u001b[0m \u001b[32m━━━━━━━━━━━━━━━━━━━\u001b[0m\u001b[37m━\u001b[0m \u001b[1m0s\u001b[0m 11ms/step - accuracy: 0.7515 - loss: 1.1509\n",
      "Epoch 24: val_loss did not improve from 1.19313\n",
      "\u001b[1m189/189\u001b[0m \u001b[32m━━━━━━━━━━━━━━━━━━━━\u001b[0m\u001b[37m\u001b[0m \u001b[1m5s\u001b[0m 13ms/step - accuracy: 0.7515 - loss: 1.1510 - val_accuracy: 0.7361 - val_loss: 1.2034 - learning_rate: 5.0000e-04\n",
      "Epoch 25/50\n",
      "\u001b[1m185/189\u001b[0m \u001b[32m━━━━━━━━━━━━━━━━━━━\u001b[0m\u001b[37m━\u001b[0m \u001b[1m0s\u001b[0m 19ms/step - accuracy: 0.7432 - loss: 1.1669\n",
      "Epoch 25: ReduceLROnPlateau reducing learning rate to 0.0002500000118743628.\n",
      "\n",
      "Epoch 25: val_loss did not improve from 1.19313\n",
      "\u001b[1m189/189\u001b[0m \u001b[32m━━━━━━━━━━━━━━━━━━━━\u001b[0m\u001b[37m\u001b[0m \u001b[1m4s\u001b[0m 21ms/step - accuracy: 0.7433 - loss: 1.1668 - val_accuracy: 0.7407 - val_loss: 1.2069 - learning_rate: 5.0000e-04\n",
      "Epoch 26/50\n",
      "\u001b[1m187/189\u001b[0m \u001b[32m━━━━━━━━━━━━━━━━━━━\u001b[0m\u001b[37m━\u001b[0m \u001b[1m0s\u001b[0m 16ms/step - accuracy: 0.7589 - loss: 1.1188\n",
      "Epoch 26: val_loss improved from 1.19313 to 1.18630, saving model to best_model.keras\n",
      "\u001b[1m189/189\u001b[0m \u001b[32m━━━━━━━━━━━━━━━━━━━━\u001b[0m\u001b[37m\u001b[0m \u001b[1m3s\u001b[0m 18ms/step - accuracy: 0.7588 - loss: 1.1187 - val_accuracy: 0.7427 - val_loss: 1.1863 - learning_rate: 2.5000e-04\n",
      "Epoch 27/50\n",
      "\u001b[1m189/189\u001b[0m \u001b[32m━━━━━━━━━━━━━━━━━━━━\u001b[0m\u001b[37m\u001b[0m \u001b[1m0s\u001b[0m 15ms/step - accuracy: 0.7742 - loss: 1.0564\n",
      "Epoch 27: val_loss improved from 1.18630 to 1.17924, saving model to best_model.keras\n",
      "\u001b[1m189/189\u001b[0m \u001b[32m━━━━━━━━━━━━━━━━━━━━\u001b[0m\u001b[37m\u001b[0m \u001b[1m6s\u001b[0m 19ms/step - accuracy: 0.7742 - loss: 1.0564 - val_accuracy: 0.7335 - val_loss: 1.1792 - learning_rate: 2.5000e-04\n",
      "Epoch 28/50\n",
      "\u001b[1m185/189\u001b[0m \u001b[32m━━━━━━━━━━━━━━━━━━━\u001b[0m\u001b[37m━\u001b[0m \u001b[1m0s\u001b[0m 12ms/step - accuracy: 0.7901 - loss: 0.9913\n",
      "Epoch 28: val_loss improved from 1.17924 to 1.15189, saving model to best_model.keras\n",
      "\u001b[1m189/189\u001b[0m \u001b[32m━━━━━━━━━━━━━━━━━━━━\u001b[0m\u001b[37m\u001b[0m \u001b[1m5s\u001b[0m 14ms/step - accuracy: 0.7898 - loss: 0.9917 - val_accuracy: 0.7440 - val_loss: 1.1519 - learning_rate: 2.5000e-04\n",
      "Epoch 29/50\n",
      "\u001b[1m189/189\u001b[0m \u001b[32m━━━━━━━━━━━━━━━━━━━━\u001b[0m\u001b[37m\u001b[0m \u001b[1m0s\u001b[0m 17ms/step - accuracy: 0.7854 - loss: 1.0033\n",
      "Epoch 29: val_loss improved from 1.15189 to 1.14886, saving model to best_model.keras\n",
      "\u001b[1m189/189\u001b[0m \u001b[32m━━━━━━━━━━━━━━━━━━━━\u001b[0m\u001b[37m\u001b[0m \u001b[1m6s\u001b[0m 21ms/step - accuracy: 0.7854 - loss: 1.0033 - val_accuracy: 0.7381 - val_loss: 1.1489 - learning_rate: 2.5000e-04\n",
      "Epoch 30/50\n",
      "\u001b[1m187/189\u001b[0m \u001b[32m━━━━━━━━━━━━━━━━━━━\u001b[0m\u001b[37m━\u001b[0m \u001b[1m0s\u001b[0m 13ms/step - accuracy: 0.7872 - loss: 0.9779\n",
      "Epoch 30: val_loss improved from 1.14886 to 1.12946, saving model to best_model.keras\n",
      "\u001b[1m189/189\u001b[0m \u001b[32m━━━━━━━━━━━━━━━━━━━━\u001b[0m\u001b[37m\u001b[0m \u001b[1m3s\u001b[0m 15ms/step - accuracy: 0.7872 - loss: 0.9780 - val_accuracy: 0.7421 - val_loss: 1.1295 - learning_rate: 2.5000e-04\n",
      "Epoch 31/50\n",
      "\u001b[1m189/189\u001b[0m \u001b[32m━━━━━━━━━━━━━━━━━━━━\u001b[0m\u001b[37m\u001b[0m \u001b[1m0s\u001b[0m 17ms/step - accuracy: 0.7941 - loss: 0.9338\n",
      "Epoch 31: val_loss did not improve from 1.12946\n",
      "\u001b[1m189/189\u001b[0m \u001b[32m━━━━━━━━━━━━━━━━━━━━\u001b[0m\u001b[37m\u001b[0m \u001b[1m4s\u001b[0m 19ms/step - accuracy: 0.7941 - loss: 0.9339 - val_accuracy: 0.7401 - val_loss: 1.1339 - learning_rate: 2.5000e-04\n",
      "Epoch 32/50\n",
      "\u001b[1m188/189\u001b[0m \u001b[32m━━━━━━━━━━━━━━━━━━━\u001b[0m\u001b[37m━\u001b[0m \u001b[1m0s\u001b[0m 20ms/step - accuracy: 0.7936 - loss: 0.9499\n",
      "Epoch 32: val_loss did not improve from 1.12946\n",
      "\u001b[1m189/189\u001b[0m \u001b[32m━━━━━━━━━━━━━━━━━━━━\u001b[0m\u001b[37m\u001b[0m \u001b[1m7s\u001b[0m 25ms/step - accuracy: 0.7935 - loss: 0.9499 - val_accuracy: 0.7421 - val_loss: 1.1338 - learning_rate: 2.5000e-04\n",
      "Epoch 33/50\n",
      "\u001b[1m188/189\u001b[0m \u001b[32m━━━━━━━━━━━━━━━━━━━\u001b[0m\u001b[37m━\u001b[0m \u001b[1m0s\u001b[0m 11ms/step - accuracy: 0.8023 - loss: 0.9168\n",
      "Epoch 33: ReduceLROnPlateau reducing learning rate to 0.0001250000059371814.\n",
      "\n",
      "Epoch 33: val_loss did not improve from 1.12946\n",
      "\u001b[1m189/189\u001b[0m \u001b[32m━━━━━━━━━━━━━━━━━━━━\u001b[0m\u001b[37m\u001b[0m \u001b[1m2s\u001b[0m 12ms/step - accuracy: 0.8022 - loss: 0.9169 - val_accuracy: 0.7394 - val_loss: 1.1319 - learning_rate: 2.5000e-04\n",
      "Epoch 34/50\n",
      "\u001b[1m187/189\u001b[0m \u001b[32m━━━━━━━━━━━━━━━━━━━\u001b[0m\u001b[37m━\u001b[0m \u001b[1m0s\u001b[0m 15ms/step - accuracy: 0.8059 - loss: 0.8980\n",
      "Epoch 34: val_loss improved from 1.12946 to 1.11164, saving model to best_model.keras\n",
      "\u001b[1m189/189\u001b[0m \u001b[32m━━━━━━━━━━━━━━━━━━━━\u001b[0m\u001b[37m\u001b[0m \u001b[1m4s\u001b[0m 19ms/step - accuracy: 0.8058 - loss: 0.8980 - val_accuracy: 0.7500 - val_loss: 1.1116 - learning_rate: 1.2500e-04\n",
      "Epoch 35/50\n",
      "\u001b[1m186/189\u001b[0m \u001b[32m━━━━━━━━━━━━━━━━━━━\u001b[0m\u001b[37m━\u001b[0m \u001b[1m0s\u001b[0m 14ms/step - accuracy: 0.8143 - loss: 0.8624\n",
      "Epoch 35: val_loss improved from 1.11164 to 1.10974, saving model to best_model.keras\n",
      "\u001b[1m189/189\u001b[0m \u001b[32m━━━━━━━━━━━━━━━━━━━━\u001b[0m\u001b[37m\u001b[0m \u001b[1m3s\u001b[0m 16ms/step - accuracy: 0.8141 - loss: 0.8625 - val_accuracy: 0.7487 - val_loss: 1.1097 - learning_rate: 1.2500e-04\n",
      "Epoch 36/50\n",
      "\u001b[1m188/189\u001b[0m \u001b[32m━━━━━━━━━━━━━━━━━━━\u001b[0m\u001b[37m━\u001b[0m \u001b[1m0s\u001b[0m 12ms/step - accuracy: 0.8159 - loss: 0.8353\n",
      "Epoch 36: val_loss improved from 1.10974 to 1.10438, saving model to best_model.keras\n",
      "\u001b[1m189/189\u001b[0m \u001b[32m━━━━━━━━━━━━━━━━━━━━\u001b[0m\u001b[37m\u001b[0m \u001b[1m3s\u001b[0m 14ms/step - accuracy: 0.8158 - loss: 0.8356 - val_accuracy: 0.7474 - val_loss: 1.1044 - learning_rate: 1.2500e-04\n",
      "Epoch 37/50\n",
      "\u001b[1m188/189\u001b[0m \u001b[32m━━━━━━━━━━━━━━━━━━━\u001b[0m\u001b[37m━\u001b[0m \u001b[1m0s\u001b[0m 15ms/step - accuracy: 0.8053 - loss: 0.8633\n",
      "Epoch 37: val_loss improved from 1.10438 to 1.09473, saving model to best_model.keras\n",
      "\u001b[1m189/189\u001b[0m \u001b[32m━━━━━━━━━━━━━━━━━━━━\u001b[0m\u001b[37m\u001b[0m \u001b[1m4s\u001b[0m 19ms/step - accuracy: 0.8054 - loss: 0.8632 - val_accuracy: 0.7487 - val_loss: 1.0947 - learning_rate: 1.2500e-04\n",
      "Epoch 38/50\n",
      "\u001b[1m185/189\u001b[0m \u001b[32m━━━━━━━━━━━━━━━━━━━\u001b[0m\u001b[37m━\u001b[0m \u001b[1m0s\u001b[0m 15ms/step - accuracy: 0.8149 - loss: 0.8378\n",
      "Epoch 38: val_loss improved from 1.09473 to 1.09024, saving model to best_model.keras\n",
      "\u001b[1m189/189\u001b[0m \u001b[32m━━━━━━━━━━━━━━━━━━━━\u001b[0m\u001b[37m\u001b[0m \u001b[1m5s\u001b[0m 19ms/step - accuracy: 0.8149 - loss: 0.8374 - val_accuracy: 0.7520 - val_loss: 1.0902 - learning_rate: 1.2500e-04\n",
      "Epoch 39/50\n",
      "\u001b[1m189/189\u001b[0m \u001b[32m━━━━━━━━━━━━━━━━━━━━\u001b[0m\u001b[37m\u001b[0m \u001b[1m0s\u001b[0m 15ms/step - accuracy: 0.8183 - loss: 0.8191\n",
      "Epoch 39: val_loss improved from 1.09024 to 1.08244, saving model to best_model.keras\n",
      "\u001b[1m189/189\u001b[0m \u001b[32m━━━━━━━━━━━━━━━━━━━━\u001b[0m\u001b[37m\u001b[0m \u001b[1m4s\u001b[0m 17ms/step - accuracy: 0.8183 - loss: 0.8191 - val_accuracy: 0.7560 - val_loss: 1.0824 - learning_rate: 1.2500e-04\n",
      "Epoch 40/50\n",
      "\u001b[1m189/189\u001b[0m \u001b[32m━━━━━━━━━━━━━━━━━━━━\u001b[0m\u001b[37m\u001b[0m \u001b[1m0s\u001b[0m 14ms/step - accuracy: 0.8202 - loss: 0.8002\n",
      "Epoch 40: val_loss improved from 1.08244 to 1.07854, saving model to best_model.keras\n",
      "\u001b[1m189/189\u001b[0m \u001b[32m━━━━━━━━━━━━━━━━━━━━\u001b[0m\u001b[37m\u001b[0m \u001b[1m3s\u001b[0m 17ms/step - accuracy: 0.8202 - loss: 0.8002 - val_accuracy: 0.7507 - val_loss: 1.0785 - learning_rate: 1.2500e-04\n",
      "Epoch 41/50\n",
      "\u001b[1m188/189\u001b[0m \u001b[32m━━━━━━━━━━━━━━━━━━━\u001b[0m\u001b[37m━\u001b[0m \u001b[1m0s\u001b[0m 21ms/step - accuracy: 0.8288 - loss: 0.7927\n",
      "Epoch 41: val_loss did not improve from 1.07854\n",
      "\u001b[1m189/189\u001b[0m \u001b[32m━━━━━━━━━━━━━━━━━━━━\u001b[0m\u001b[37m\u001b[0m \u001b[1m4s\u001b[0m 23ms/step - accuracy: 0.8287 - loss: 0.7927 - val_accuracy: 0.7500 - val_loss: 1.0802 - learning_rate: 1.2500e-04\n",
      "Epoch 42/50\n",
      "\u001b[1m186/189\u001b[0m \u001b[32m━━━━━━━━━━━━━━━━━━━\u001b[0m\u001b[37m━\u001b[0m \u001b[1m0s\u001b[0m 21ms/step - accuracy: 0.8228 - loss: 0.7897\n",
      "Epoch 42: val_loss improved from 1.07854 to 1.07842, saving model to best_model.keras\n",
      "\u001b[1m189/189\u001b[0m \u001b[32m━━━━━━━━━━━━━━━━━━━━\u001b[0m\u001b[37m\u001b[0m \u001b[1m6s\u001b[0m 24ms/step - accuracy: 0.8228 - loss: 0.7896 - val_accuracy: 0.7507 - val_loss: 1.0784 - learning_rate: 1.2500e-04\n",
      "Epoch 43/50\n",
      "\u001b[1m188/189\u001b[0m \u001b[32m━━━━━━━━━━━━━━━━━━━\u001b[0m\u001b[37m━\u001b[0m \u001b[1m0s\u001b[0m 13ms/step - accuracy: 0.8199 - loss: 0.7790\n",
      "Epoch 43: val_loss improved from 1.07842 to 1.06209, saving model to best_model.keras\n",
      "\u001b[1m189/189\u001b[0m \u001b[32m━━━━━━━━━━━━━━━━━━━━\u001b[0m\u001b[37m\u001b[0m \u001b[1m3s\u001b[0m 15ms/step - accuracy: 0.8199 - loss: 0.7790 - val_accuracy: 0.7586 - val_loss: 1.0621 - learning_rate: 1.2500e-04\n",
      "Epoch 44/50\n",
      "\u001b[1m188/189\u001b[0m \u001b[32m━━━━━━━━━━━━━━━━━━━\u001b[0m\u001b[37m━\u001b[0m \u001b[1m0s\u001b[0m 20ms/step - accuracy: 0.8345 - loss: 0.7363\n",
      "Epoch 44: val_loss did not improve from 1.06209\n",
      "\u001b[1m189/189\u001b[0m \u001b[32m━━━━━━━━━━━━━━━━━━━━\u001b[0m\u001b[37m\u001b[0m \u001b[1m7s\u001b[0m 23ms/step - accuracy: 0.8344 - loss: 0.7364 - val_accuracy: 0.7507 - val_loss: 1.0655 - learning_rate: 1.2500e-04\n",
      "Epoch 45/50\n",
      "\u001b[1m185/189\u001b[0m \u001b[32m━━━━━━━━━━━━━━━━━━━\u001b[0m\u001b[37m━\u001b[0m \u001b[1m0s\u001b[0m 13ms/step - accuracy: 0.8329 - loss: 0.7437\n",
      "Epoch 45: val_loss did not improve from 1.06209\n",
      "\u001b[1m189/189\u001b[0m \u001b[32m━━━━━━━━━━━━━━━━━━━━\u001b[0m\u001b[37m\u001b[0m \u001b[1m3s\u001b[0m 14ms/step - accuracy: 0.8327 - loss: 0.7440 - val_accuracy: 0.7520 - val_loss: 1.0678 - learning_rate: 1.2500e-04\n",
      "Epoch 46/50\n",
      "\u001b[1m187/189\u001b[0m \u001b[32m━━━━━━━━━━━━━━━━━━━\u001b[0m\u001b[37m━\u001b[0m \u001b[1m0s\u001b[0m 27ms/step - accuracy: 0.8381 - loss: 0.7256\n",
      "Epoch 46: ReduceLROnPlateau reducing learning rate to 6.25000029685907e-05.\n",
      "\n",
      "Epoch 46: val_loss did not improve from 1.06209\n",
      "\u001b[1m189/189\u001b[0m \u001b[32m━━━━━━━━━━━━━━━━━━━━\u001b[0m\u001b[37m\u001b[0m \u001b[1m8s\u001b[0m 30ms/step - accuracy: 0.8381 - loss: 0.7257 - val_accuracy: 0.7553 - val_loss: 1.0639 - learning_rate: 1.2500e-04\n",
      "Epoch 47/50\n",
      "\u001b[1m186/189\u001b[0m \u001b[32m━━━━━━━━━━━━━━━━━━━\u001b[0m\u001b[37m━\u001b[0m \u001b[1m0s\u001b[0m 24ms/step - accuracy: 0.8395 - loss: 0.7341\n",
      "Epoch 47: val_loss did not improve from 1.06209\n",
      "\u001b[1m189/189\u001b[0m \u001b[32m━━━━━━━━━━━━━━━━━━━━\u001b[0m\u001b[37m\u001b[0m \u001b[1m6s\u001b[0m 26ms/step - accuracy: 0.8395 - loss: 0.7337 - val_accuracy: 0.7579 - val_loss: 1.0640 - learning_rate: 6.2500e-05\n",
      "Epoch 48/50\n",
      "\u001b[1m189/189\u001b[0m \u001b[32m━━━━━━━━━━━━━━━━━━━━\u001b[0m\u001b[37m\u001b[0m \u001b[1m0s\u001b[0m 26ms/step - accuracy: 0.8380 - loss: 0.7173\n",
      "Epoch 48: val_loss did not improve from 1.06209\n",
      "\u001b[1m189/189\u001b[0m \u001b[32m━━━━━━━━━━━━━━━━━━━━\u001b[0m\u001b[37m\u001b[0m \u001b[1m10s\u001b[0m 28ms/step - accuracy: 0.8380 - loss: 0.7174 - val_accuracy: 0.7546 - val_loss: 1.0642 - learning_rate: 6.2500e-05\n"
     ]
    }
   ],
   "source": [
    "# Callbacks\n",
    "callbacks = [\n",
    "    EarlyStopping(monitor='val_loss', patience=5, restore_best_weights=True),\n",
    "    ReduceLROnPlateau(monitor='val_loss', factor=0.5, patience=3, min_lr=1e-6, verbose=1),\n",
    "    ModelCheckpoint('best_model.keras', save_best_only=True, monitor='val_loss', verbose=1)\n",
    "]\n",
    "\n",
    "# Training model\n",
    "history = model.fit(\n",
    "    X_train, y_train,\n",
    "    epochs=50,\n",
    "    batch_size=32,\n",
    "    validation_data=(X_test, y_test),\n",
    "    callbacks=callbacks\n",
    ")"
   ]
  },
  {
   "cell_type": "code",
   "execution_count": 24,
   "id": "34620679-42c3-47c9-b359-19555f90a069",
   "metadata": {
    "id": "34620679-42c3-47c9-b359-19555f90a069"
   },
   "outputs": [
    {
     "ename": "FileNotFoundError",
     "evalue": "[Errno 2] Unable to synchronously open file (unable to open file: name = 'best_model.h5', errno = 2, error message = 'No such file or directory', flags = 0, o_flags = 0)",
     "output_type": "error",
     "traceback": [
      "\u001b[1;31m---------------------------------------------------------------------------\u001b[0m",
      "\u001b[1;31mFileNotFoundError\u001b[0m                         Traceback (most recent call last)",
      "Cell \u001b[1;32mIn[24], line 2\u001b[0m\n\u001b[0;32m      1\u001b[0m \u001b[38;5;66;03m# Load best model yang tersimpan\u001b[39;00m\n\u001b[1;32m----> 2\u001b[0m model \u001b[38;5;241m=\u001b[39m \u001b[43mtf\u001b[49m\u001b[38;5;241;43m.\u001b[39;49m\u001b[43mkeras\u001b[49m\u001b[38;5;241;43m.\u001b[39;49m\u001b[43mmodels\u001b[49m\u001b[38;5;241;43m.\u001b[39;49m\u001b[43mload_model\u001b[49m\u001b[43m(\u001b[49m\u001b[38;5;124;43m'\u001b[39;49m\u001b[38;5;124;43mbest_model.h5\u001b[39;49m\u001b[38;5;124;43m'\u001b[39;49m\u001b[43m)\u001b[49m\n\u001b[0;32m      4\u001b[0m \u001b[38;5;66;03m# Evaluate model\u001b[39;00m\n\u001b[0;32m      5\u001b[0m loss, accuracy \u001b[38;5;241m=\u001b[39m model\u001b[38;5;241m.\u001b[39mevaluate(X_test, y_test)\n",
      "File \u001b[1;32mc:\\Users\\user\\AppData\\Local\\Programs\\Python\\Python311\\Lib\\site-packages\\keras\\src\\saving\\saving_api.py:196\u001b[0m, in \u001b[0;36mload_model\u001b[1;34m(filepath, custom_objects, compile, safe_mode)\u001b[0m\n\u001b[0;32m    189\u001b[0m     \u001b[38;5;28;01mreturn\u001b[39;00m saving_lib\u001b[38;5;241m.\u001b[39mload_model(\n\u001b[0;32m    190\u001b[0m         filepath,\n\u001b[0;32m    191\u001b[0m         custom_objects\u001b[38;5;241m=\u001b[39mcustom_objects,\n\u001b[0;32m    192\u001b[0m         \u001b[38;5;28mcompile\u001b[39m\u001b[38;5;241m=\u001b[39m\u001b[38;5;28mcompile\u001b[39m,\n\u001b[0;32m    193\u001b[0m         safe_mode\u001b[38;5;241m=\u001b[39msafe_mode,\n\u001b[0;32m    194\u001b[0m     )\n\u001b[0;32m    195\u001b[0m \u001b[38;5;28;01mif\u001b[39;00m \u001b[38;5;28mstr\u001b[39m(filepath)\u001b[38;5;241m.\u001b[39mendswith((\u001b[38;5;124m\"\u001b[39m\u001b[38;5;124m.h5\u001b[39m\u001b[38;5;124m\"\u001b[39m, \u001b[38;5;124m\"\u001b[39m\u001b[38;5;124m.hdf5\u001b[39m\u001b[38;5;124m\"\u001b[39m)):\n\u001b[1;32m--> 196\u001b[0m     \u001b[38;5;28;01mreturn\u001b[39;00m \u001b[43mlegacy_h5_format\u001b[49m\u001b[38;5;241;43m.\u001b[39;49m\u001b[43mload_model_from_hdf5\u001b[49m\u001b[43m(\u001b[49m\n\u001b[0;32m    197\u001b[0m \u001b[43m        \u001b[49m\u001b[43mfilepath\u001b[49m\u001b[43m,\u001b[49m\u001b[43m \u001b[49m\u001b[43mcustom_objects\u001b[49m\u001b[38;5;241;43m=\u001b[39;49m\u001b[43mcustom_objects\u001b[49m\u001b[43m,\u001b[49m\u001b[43m \u001b[49m\u001b[38;5;28;43mcompile\u001b[39;49m\u001b[38;5;241;43m=\u001b[39;49m\u001b[38;5;28;43mcompile\u001b[39;49m\n\u001b[0;32m    198\u001b[0m \u001b[43m    \u001b[49m\u001b[43m)\u001b[49m\n\u001b[0;32m    199\u001b[0m \u001b[38;5;28;01melif\u001b[39;00m \u001b[38;5;28mstr\u001b[39m(filepath)\u001b[38;5;241m.\u001b[39mendswith(\u001b[38;5;124m\"\u001b[39m\u001b[38;5;124m.keras\u001b[39m\u001b[38;5;124m\"\u001b[39m):\n\u001b[0;32m    200\u001b[0m     \u001b[38;5;28;01mraise\u001b[39;00m \u001b[38;5;167;01mValueError\u001b[39;00m(\n\u001b[0;32m    201\u001b[0m         \u001b[38;5;124mf\u001b[39m\u001b[38;5;124m\"\u001b[39m\u001b[38;5;124mFile not found: filepath=\u001b[39m\u001b[38;5;132;01m{\u001b[39;00mfilepath\u001b[38;5;132;01m}\u001b[39;00m\u001b[38;5;124m. \u001b[39m\u001b[38;5;124m\"\u001b[39m\n\u001b[0;32m    202\u001b[0m         \u001b[38;5;124m\"\u001b[39m\u001b[38;5;124mPlease ensure the file is an accessible `.keras` \u001b[39m\u001b[38;5;124m\"\u001b[39m\n\u001b[0;32m    203\u001b[0m         \u001b[38;5;124m\"\u001b[39m\u001b[38;5;124mzip file.\u001b[39m\u001b[38;5;124m\"\u001b[39m\n\u001b[0;32m    204\u001b[0m     )\n",
      "File \u001b[1;32mc:\\Users\\user\\AppData\\Local\\Programs\\Python\\Python311\\Lib\\site-packages\\keras\\src\\legacy\\saving\\legacy_h5_format.py:116\u001b[0m, in \u001b[0;36mload_model_from_hdf5\u001b[1;34m(filepath, custom_objects, compile)\u001b[0m\n\u001b[0;32m    114\u001b[0m opened_new_file \u001b[38;5;241m=\u001b[39m \u001b[38;5;129;01mnot\u001b[39;00m \u001b[38;5;28misinstance\u001b[39m(filepath, h5py\u001b[38;5;241m.\u001b[39mFile)\n\u001b[0;32m    115\u001b[0m \u001b[38;5;28;01mif\u001b[39;00m opened_new_file:\n\u001b[1;32m--> 116\u001b[0m     f \u001b[38;5;241m=\u001b[39m \u001b[43mh5py\u001b[49m\u001b[38;5;241;43m.\u001b[39;49m\u001b[43mFile\u001b[49m\u001b[43m(\u001b[49m\u001b[43mfilepath\u001b[49m\u001b[43m,\u001b[49m\u001b[43m \u001b[49m\u001b[43mmode\u001b[49m\u001b[38;5;241;43m=\u001b[39;49m\u001b[38;5;124;43m\"\u001b[39;49m\u001b[38;5;124;43mr\u001b[39;49m\u001b[38;5;124;43m\"\u001b[39;49m\u001b[43m)\u001b[49m\n\u001b[0;32m    117\u001b[0m \u001b[38;5;28;01melse\u001b[39;00m:\n\u001b[0;32m    118\u001b[0m     f \u001b[38;5;241m=\u001b[39m filepath\n",
      "File \u001b[1;32mc:\\Users\\user\\AppData\\Local\\Programs\\Python\\Python311\\Lib\\site-packages\\h5py\\_hl\\files.py:561\u001b[0m, in \u001b[0;36mFile.__init__\u001b[1;34m(self, name, mode, driver, libver, userblock_size, swmr, rdcc_nslots, rdcc_nbytes, rdcc_w0, track_order, fs_strategy, fs_persist, fs_threshold, fs_page_size, page_buf_size, min_meta_keep, min_raw_keep, locking, alignment_threshold, alignment_interval, meta_block_size, **kwds)\u001b[0m\n\u001b[0;32m    552\u001b[0m     fapl \u001b[38;5;241m=\u001b[39m make_fapl(driver, libver, rdcc_nslots, rdcc_nbytes, rdcc_w0,\n\u001b[0;32m    553\u001b[0m                      locking, page_buf_size, min_meta_keep, min_raw_keep,\n\u001b[0;32m    554\u001b[0m                      alignment_threshold\u001b[38;5;241m=\u001b[39malignment_threshold,\n\u001b[0;32m    555\u001b[0m                      alignment_interval\u001b[38;5;241m=\u001b[39malignment_interval,\n\u001b[0;32m    556\u001b[0m                      meta_block_size\u001b[38;5;241m=\u001b[39mmeta_block_size,\n\u001b[0;32m    557\u001b[0m                      \u001b[38;5;241m*\u001b[39m\u001b[38;5;241m*\u001b[39mkwds)\n\u001b[0;32m    558\u001b[0m     fcpl \u001b[38;5;241m=\u001b[39m make_fcpl(track_order\u001b[38;5;241m=\u001b[39mtrack_order, fs_strategy\u001b[38;5;241m=\u001b[39mfs_strategy,\n\u001b[0;32m    559\u001b[0m                      fs_persist\u001b[38;5;241m=\u001b[39mfs_persist, fs_threshold\u001b[38;5;241m=\u001b[39mfs_threshold,\n\u001b[0;32m    560\u001b[0m                      fs_page_size\u001b[38;5;241m=\u001b[39mfs_page_size)\n\u001b[1;32m--> 561\u001b[0m     fid \u001b[38;5;241m=\u001b[39m \u001b[43mmake_fid\u001b[49m\u001b[43m(\u001b[49m\u001b[43mname\u001b[49m\u001b[43m,\u001b[49m\u001b[43m \u001b[49m\u001b[43mmode\u001b[49m\u001b[43m,\u001b[49m\u001b[43m \u001b[49m\u001b[43muserblock_size\u001b[49m\u001b[43m,\u001b[49m\u001b[43m \u001b[49m\u001b[43mfapl\u001b[49m\u001b[43m,\u001b[49m\u001b[43m \u001b[49m\u001b[43mfcpl\u001b[49m\u001b[43m,\u001b[49m\u001b[43m \u001b[49m\u001b[43mswmr\u001b[49m\u001b[38;5;241;43m=\u001b[39;49m\u001b[43mswmr\u001b[49m\u001b[43m)\u001b[49m\n\u001b[0;32m    563\u001b[0m \u001b[38;5;28;01mif\u001b[39;00m \u001b[38;5;28misinstance\u001b[39m(libver, \u001b[38;5;28mtuple\u001b[39m):\n\u001b[0;32m    564\u001b[0m     \u001b[38;5;28mself\u001b[39m\u001b[38;5;241m.\u001b[39m_libver \u001b[38;5;241m=\u001b[39m libver\n",
      "File \u001b[1;32mc:\\Users\\user\\AppData\\Local\\Programs\\Python\\Python311\\Lib\\site-packages\\h5py\\_hl\\files.py:235\u001b[0m, in \u001b[0;36mmake_fid\u001b[1;34m(name, mode, userblock_size, fapl, fcpl, swmr)\u001b[0m\n\u001b[0;32m    233\u001b[0m     \u001b[38;5;28;01mif\u001b[39;00m swmr \u001b[38;5;129;01mand\u001b[39;00m swmr_support:\n\u001b[0;32m    234\u001b[0m         flags \u001b[38;5;241m|\u001b[39m\u001b[38;5;241m=\u001b[39m h5f\u001b[38;5;241m.\u001b[39mACC_SWMR_READ\n\u001b[1;32m--> 235\u001b[0m     fid \u001b[38;5;241m=\u001b[39m \u001b[43mh5f\u001b[49m\u001b[38;5;241;43m.\u001b[39;49m\u001b[43mopen\u001b[49m\u001b[43m(\u001b[49m\u001b[43mname\u001b[49m\u001b[43m,\u001b[49m\u001b[43m \u001b[49m\u001b[43mflags\u001b[49m\u001b[43m,\u001b[49m\u001b[43m \u001b[49m\u001b[43mfapl\u001b[49m\u001b[38;5;241;43m=\u001b[39;49m\u001b[43mfapl\u001b[49m\u001b[43m)\u001b[49m\n\u001b[0;32m    236\u001b[0m \u001b[38;5;28;01melif\u001b[39;00m mode \u001b[38;5;241m==\u001b[39m \u001b[38;5;124m'\u001b[39m\u001b[38;5;124mr+\u001b[39m\u001b[38;5;124m'\u001b[39m:\n\u001b[0;32m    237\u001b[0m     fid \u001b[38;5;241m=\u001b[39m h5f\u001b[38;5;241m.\u001b[39mopen(name, h5f\u001b[38;5;241m.\u001b[39mACC_RDWR, fapl\u001b[38;5;241m=\u001b[39mfapl)\n",
      "File \u001b[1;32mh5py\\\\_objects.pyx:54\u001b[0m, in \u001b[0;36mh5py._objects.with_phil.wrapper\u001b[1;34m()\u001b[0m\n",
      "File \u001b[1;32mh5py\\\\_objects.pyx:55\u001b[0m, in \u001b[0;36mh5py._objects.with_phil.wrapper\u001b[1;34m()\u001b[0m\n",
      "File \u001b[1;32mh5py\\\\h5f.pyx:102\u001b[0m, in \u001b[0;36mh5py.h5f.open\u001b[1;34m()\u001b[0m\n",
      "\u001b[1;31mFileNotFoundError\u001b[0m: [Errno 2] Unable to synchronously open file (unable to open file: name = 'best_model.h5', errno = 2, error message = 'No such file or directory', flags = 0, o_flags = 0)"
     ]
    }
   ],
   "source": [
    "# Load best model yang tersimpan\n",
    "model = tf.keras.models.load_model('best_model.h5')\n",
    "\n",
    "# Evaluate model\n",
    "loss, accuracy = model.evaluate(X_test, y_test)\n",
    "print(f\"Test Loss: {loss}\")\n",
    "print(f\"Test Accuracy: {accuracy}\")"
   ]
  },
  {
   "cell_type": "markdown",
   "id": "cc153439-080e-495f-ab10-c19e19162386",
   "metadata": {
    "id": "cc153439-080e-495f-ab10-c19e19162386"
   },
   "source": [
    "### PLOTTING"
   ]
  },
  {
   "cell_type": "code",
   "execution_count": null,
   "id": "75965865-c22d-4d53-b778-600c733823ac",
   "metadata": {
    "id": "75965865-c22d-4d53-b778-600c733823ac"
   },
   "outputs": [
    {
     "data": {
      "image/png": "[encoded data removed]",
      "text/plain": [
       "<Figure size 640x480 with 1 Axes>"
      ]
     },
     "metadata": {},
     "output_type": "display_data"
    },
    {
     "data": {
      "image/png": "[encoded data removed]",
      "text/plain": [
       "<Figure size 640x480 with 1 Axes>"
      ]
     },
     "metadata": {},
     "output_type": "display_data"
    }
   ],
   "source": [
    "import matplotlib.pyplot as plt\n",
    "\n",
    "# Plot accuracy\n",
    "plt.plot(history.history['accuracy'], label='Training Accuracy')\n",
    "plt.plot(history.history['val_accuracy'], label='Validation Accuracy')\n",
    "plt.legend()\n",
    "plt.title('Accuracy')\n",
    "plt.show()\n",
    "\n",
    "# Plot loss\n",
    "plt.plot(history.history['loss'], label='Training Loss')\n",
    "plt.plot(history.history['val_loss'], label='Validation Loss')\n",
    "plt.legend()\n",
    "plt.title('Loss')\n",
    "plt.show()\n"
   ]
  },
  {
   "cell_type": "markdown",
   "id": "598ea036-c2bb-4741-9cd1-9f8080de16da",
   "metadata": {
    "id": "598ea036-c2bb-4741-9cd1-9f8080de16da"
   },
   "source": [
    "### MEMBANGUN REKOMENDASI"
   ]
  },
  {
   "cell_type": "code",
   "execution_count": null,
   "id": "48c647f5-f8dd-4c02-b02a-4b9417b97c53",
   "metadata": {
    "id": "48c647f5-f8dd-4c02-b02a-4b9417b97c53"
   },
   "outputs": [
    {
     "name": "stdout",
     "output_type": "stream",
     "text": [
      "Materi yang perlu dipelajari lebih lanjut (berdasarkan kesalahan siswa):\n",
      "                materi  avg_error_rate\n",
      "0    Control Structure        1.000000\n",
      "1       Data Structure        0.166667\n",
      "2  Introduction Python        0.000000\n"
     ]
    }
   ],
   "source": [
    "# Menghitung rata-rata kesalahan per materi\n",
    "avg_error_per_materi = error_data.groupby(data['materi'])['avg_error_rate'].mean().reset_index()\n",
    "\n",
    "# Mengurutkan materi berdasarkan tingkat kesalahan tertinggi\n",
    "recommended_materials = avg_error_per_materi.sort_values(by='avg_error_rate', ascending=False)\n",
    "\n",
    "# Tampilkan 5 materi dengan tingkat kesalahan tertinggi\n",
    "print(\"Materi yang perlu dipelajari lebih lanjut (berdasarkan kesalahan siswa):\")\n",
    "print(recommended_materials.head())"
   ]
  },
  {
   "cell_type": "code",
   "execution_count": null,
   "id": "63c2712e-6d05-43e1-a7ce-f73ab36a06f9",
   "metadata": {
    "id": "63c2712e-6d05-43e1-a7ce-f73ab36a06f9"
   },
   "outputs": [
    {
     "name": "stdout",
     "output_type": "stream",
     "text": [
      "Materi yang perlu dipelajari oleh siswa:\n",
      "    materi  attempts  correct  duration  avg_error_rate\n",
      "2  Lainnya       1.0      0.0      25.0             1.0\n"
     ]
    }
   ],
   "source": [
    "# Misalnya, prediksi materi untuk user berdasarkan interaksi mereka\n",
    "# Data interaksi yang relevan\n",
    "user_interaction = {\n",
    "    'user_id': [4, 4, 4, 4, 4, 4],\n",
    "    'question_id': [0, 2, 3, 5, 110, 130],\n",
    "    'attempts': [3, 4, 2, 1, 1, 4],\n",
    "    'correct': [0, 0, 1, 0, 0, 1],\n",
    "    'duration': [60, 30, 35, 20, 25, 15]\n",
    "}\n",
    "\n",
    "user_interaction_df = pd.DataFrame(user_interaction)\n",
    "user_interaction_df = user_interaction_df.merge(data[['question_id', 'materi']], on='question_id', how='left')\n",
    "\n",
    "# Hitung rata-rata kesalahan per materi\n",
    "user_error_data = user_interaction_df.groupby('materi').agg({\n",
    "    'attempts': 'mean',\n",
    "    'correct': 'mean',\n",
    "    'duration': 'mean'\n",
    "}).reset_index()\n",
    "\n",
    "user_error_data['avg_error_rate'] = 1 - user_error_data['correct']\n",
    "\n",
    "# Rekomendasikan materi dengan kesalahan tertinggi\n",
    "user_recommended_materials = user_error_data.sort_values(by='avg_error_rate', ascending=False).head(1)\n",
    "print(\"Materi yang perlu dipelajari oleh siswa:\")\n",
    "print(user_recommended_materials)\n"
   ]
  },
  {
   "cell_type": "code",
   "execution_count": null,
   "id": "323cf8e4-2219-4506-84fc-bc1ffbd36d47",
   "metadata": {
    "id": "323cf8e4-2219-4506-84fc-bc1ffbd36d47"
   },
   "outputs": [],
   "source": [
    "model.save('best_model.keras')"
   ]
  },
  {
   "cell_type": "markdown",
   "id": "2724a4fe",
   "metadata": {},
   "source": [
    "## Convert ke TFLITE"
   ]
  },
  {
   "cell_type": "code",
   "execution_count": null,
   "id": "e080c040",
   "metadata": {},
   "outputs": [],
   "source": [
    "model = tf.keras.models.load_model('best_model.keras')\n"
   ]
  },
  {
   "cell_type": "code",
   "execution_count": null,
   "id": "b40099da",
   "metadata": {},
   "outputs": [
    {
     "name": "stdout",
     "output_type": "stream",
     "text": [
      "INFO:tensorflow:Assets written to: C:\\Users\\user\\AppData\\Local\\Temp\\tmp_tpovord\\assets\n"
     ]
    },
    {
     "name": "stderr",
     "output_type": "stream",
     "text": [
      "INFO:tensorflow:Assets written to: C:\\Users\\user\\AppData\\Local\\Temp\\tmp_tpovord\\assets\n"
     ]
    },
    {
     "name": "stdout",
     "output_type": "stream",
     "text": [
      "Saved artifact at 'C:\\Users\\user\\AppData\\Local\\Temp\\tmp_tpovord'. The following endpoints are available:\n",
      "\n",
      "* Endpoint 'serve'\n",
      "  args_0 (POSITIONAL_ONLY): TensorSpec(shape=(None, 2000), dtype=tf.float32, name='input_layer')\n",
      "Output Type:\n",
      "  TensorSpec(shape=(None, 8), dtype=tf.float32, name=None)\n",
      "Captures:\n",
      "  2205501196048: TensorSpec(shape=(), dtype=tf.resource, name=None)\n",
      "  2205501196432: TensorSpec(shape=(), dtype=tf.resource, name=None)\n",
      "  2205501197776: TensorSpec(shape=(), dtype=tf.resource, name=None)\n",
      "  2205501197008: TensorSpec(shape=(), dtype=tf.resource, name=None)\n",
      "  2205501197968: TensorSpec(shape=(), dtype=tf.resource, name=None)\n",
      "  2205501194704: TensorSpec(shape=(), dtype=tf.resource, name=None)\n",
      "  2205501198736: TensorSpec(shape=(), dtype=tf.resource, name=None)\n",
      "  2205501199888: TensorSpec(shape=(), dtype=tf.resource, name=None)\n",
      "  2205501200464: TensorSpec(shape=(), dtype=tf.resource, name=None)\n",
      "  2205501198352: TensorSpec(shape=(), dtype=tf.resource, name=None)\n",
      "  2205501200656: TensorSpec(shape=(), dtype=tf.resource, name=None)\n",
      "  2205501197584: TensorSpec(shape=(), dtype=tf.resource, name=None)\n",
      "  2205501200272: TensorSpec(shape=(), dtype=tf.resource, name=None)\n",
      "  2205501202768: TensorSpec(shape=(), dtype=tf.resource, name=None)\n"
     ]
    }
   ],
   "source": [
    "# Inisialisasi converter\n",
    "converter = tf.lite.TFLiteConverter.from_keras_model(model)\n",
    "\n",
    "converter.optimizations = [tf.lite.Optimize.DEFAULT]\n",
    "\n",
    "# Konversi model\n",
    "tflite_model = converter.convert()\n",
    "\n",
    "# Simpan model TFLite ke file\n",
    "with open('model.tflite', 'wb') as f:\n",
    "    f.write(tflite_model)\n",
    "\n"
   ]
  },
  {
   "cell_type": "markdown",
   "id": "15ce5c48",
   "metadata": {},
   "source": [
    "## Test Model dengan TFLite Interpreter"
   ]
  },
  {
   "cell_type": "code",
   "execution_count": null,
   "id": "d708e7a4",
   "metadata": {},
   "outputs": [],
   "source": [
    "# Load TFLite model and allocate tensors.\n",
    "interpreter = tf.lite.Interpreter(model_content=tflite_model)\n",
    "interpreter.allocate_tensors()\n",
    "\n",
    "input_index = interpreter.get_input_details()[0][\"index\"]\n",
    "output_index = interpreter.get_output_details()[0][\"index\"]"
   ]
  },
  {
   "cell_type": "code",
   "execution_count": null,
   "id": "bd1ba06a",
   "metadata": {},
   "outputs": [],
   "source": [
    "input_details = interpreter.get_input_details()\n",
    "input_shape = input_details[0][\"shape\"]\n",
    "input_dtype = input_details[0][\"dtype\"]"
   ]
  },
  {
   "cell_type": "code",
   "execution_count": null,
   "id": "ae66321e",
   "metadata": {},
   "outputs": [],
   "source": [
    "input_data = np.random.random_sample(input_shape).astype(input_dtype)\n"
   ]
  },
  {
   "cell_type": "code",
   "execution_count": null,
   "id": "77223e90",
   "metadata": {},
   "outputs": [],
   "source": [
    "interpreter.set_tensor(input_index, input_data)"
   ]
  },
  {
   "cell_type": "code",
   "execution_count": null,
   "id": "8fe87701",
   "metadata": {},
   "outputs": [
    {
     "name": "stdout",
     "output_type": "stream",
     "text": [
      "Output Data: [[0. 0. 0. 0. 0. 0. 0. 1.]]\n"
     ]
    }
   ],
   "source": [
    "# Run inference\n",
    "interpreter.invoke()\n",
    "\n",
    "# Get output tensor\n",
    "output_data = interpreter.get_tensor(output_index)\n",
    "print(\"Output Data:\", output_data)"
   ]
  },
  {
   "cell_type": "code",
   "execution_count": null,
   "id": "d7c56c59",
   "metadata": {},
   "outputs": [],
   "source": []
  }
 ],
 "metadata": {
  "colab": {
   "provenance": []
  },
  "kernelspec": {
   "display_name": "Python 3",
   "language": "python",
   "name": "python3"
  },
  "language_info": {
   "codemirror_mode": {
    "name": "ipython",
    "version": 3
   },
   "file_extension": ".py",
   "mimetype": "text/x-python",
   "name": "python",
   "nbconvert_exporter": "python",
   "pygments_lexer": "ipython3",
   "version": "3.11.0"
  }
 },
 "nbformat": 4,
 "nbformat_minor": 5
}
