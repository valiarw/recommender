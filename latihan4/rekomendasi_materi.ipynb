{
 "cells": [
  {
   "cell_type": "markdown",
   "id": "a3dd04f3-76f5-41e2-b7cf-5efb130f7622",
   "metadata": {
    "id": "a3dd04f3-76f5-41e2-b7cf-5efb130f7622"
   },
   "source": [
    "# REKOMENDASI MATERI BERDASARKAN BANYAKNYA KESALAHAN USER SAAT MENJAWAB SOAL"
   ]
  },
  {
   "cell_type": "markdown",
   "id": "5e6fb8c2-0df4-40e3-acb6-87dfde1ba53c",
   "metadata": {
    "id": "5e6fb8c2-0df4-40e3-acb6-87dfde1ba53c"
   },
   "source": [
    "### IMPORT LIBRARY"
   ]
  },
  {
   "cell_type": "code",
   "execution_count": 7,
   "id": "hRBZojWSCD3i",
   "metadata": {
    "colab": {
     "base_uri": "https://localhost:8080/"
    },
    "collapsed": true,
    "executionInfo": {
     "elapsed": 6713,
     "status": "ok",
     "timestamp": 1732339460519,
     "user": {
      "displayName": "Juliasmita Eka Rahayu",
      "userId": "07494701892678564144"
     },
     "user_tz": -420
    },
    "id": "hRBZojWSCD3i",
    "outputId": "cc969e07-e106-4e0c-ee33-c462c83b30e6"
   },
   "outputs": [
    {
     "name": "stdout",
     "output_type": "stream",
     "text": [
      "Requirement already satisfied: keras-tuner in c:\\users\\user\\appdata\\local\\programs\\python\\python311\\lib\\site-packages (1.4.7)\n",
      "Requirement already satisfied: keras in c:\\users\\user\\appdata\\local\\programs\\python\\python311\\lib\\site-packages (from keras-tuner) (3.6.0)\n",
      "Requirement already satisfied: packaging in c:\\users\\user\\appdata\\roaming\\python\\python311\\site-packages (from keras-tuner) (24.2)\n",
      "Requirement already satisfied: requests in c:\\users\\user\\appdata\\local\\programs\\python\\python311\\lib\\site-packages (from keras-tuner) (2.32.3)\n",
      "Requirement already satisfied: kt-legacy in c:\\users\\user\\appdata\\local\\programs\\python\\python311\\lib\\site-packages (from keras-tuner) (1.0.5)\n",
      "Requirement already satisfied: absl-py in c:\\users\\user\\appdata\\local\\programs\\python\\python311\\lib\\site-packages (from keras->keras-tuner) (2.1.0)\n",
      "Requirement already satisfied: numpy in c:\\users\\user\\appdata\\local\\programs\\python\\python311\\lib\\site-packages (from keras->keras-tuner) (2.0.2)\n",
      "Requirement already satisfied: rich in c:\\users\\user\\appdata\\local\\programs\\python\\python311\\lib\\site-packages (from keras->keras-tuner) (13.9.4)\n",
      "Requirement already satisfied: namex in c:\\users\\user\\appdata\\local\\programs\\python\\python311\\lib\\site-packages (from keras->keras-tuner) (0.0.8)\n",
      "Requirement already satisfied: h5py in c:\\users\\user\\appdata\\local\\programs\\python\\python311\\lib\\site-packages (from keras->keras-tuner) (3.12.1)\n",
      "Requirement already satisfied: optree in c:\\users\\user\\appdata\\local\\programs\\python\\python311\\lib\\site-packages (from keras->keras-tuner) (0.13.1)\n",
      "Requirement already satisfied: ml-dtypes in c:\\users\\user\\appdata\\local\\programs\\python\\python311\\lib\\site-packages (from keras->keras-tuner) (0.4.1)\n",
      "Requirement already satisfied: charset-normalizer<4,>=2 in c:\\users\\user\\appdata\\local\\programs\\python\\python311\\lib\\site-packages (from requests->keras-tuner) (3.4.0)\n",
      "Requirement already satisfied: idna<4,>=2.5 in c:\\users\\user\\appdata\\local\\programs\\python\\python311\\lib\\site-packages (from requests->keras-tuner) (3.10)\n",
      "Requirement already satisfied: urllib3<3,>=1.21.1 in c:\\users\\user\\appdata\\local\\programs\\python\\python311\\lib\\site-packages (from requests->keras-tuner) (2.2.3)\n",
      "Requirement already satisfied: certifi>=2017.4.17 in c:\\users\\user\\appdata\\local\\programs\\python\\python311\\lib\\site-packages (from requests->keras-tuner) (2024.8.30)\n",
      "Requirement already satisfied: typing-extensions>=4.5.0 in c:\\users\\user\\appdata\\roaming\\python\\python311\\site-packages (from optree->keras->keras-tuner) (4.12.2)\n",
      "Requirement already satisfied: markdown-it-py>=2.2.0 in c:\\users\\user\\appdata\\local\\programs\\python\\python311\\lib\\site-packages (from rich->keras->keras-tuner) (3.0.0)\n",
      "Requirement already satisfied: pygments<3.0.0,>=2.13.0 in c:\\users\\user\\appdata\\roaming\\python\\python311\\site-packages (from rich->keras->keras-tuner) (2.18.0)\n",
      "Requirement already satisfied: mdurl~=0.1 in c:\\users\\user\\appdata\\local\\programs\\python\\python311\\lib\\site-packages (from markdown-it-py>=2.2.0->rich->keras->keras-tuner) (0.1.2)\n"
     ]
    }
   ],
   "source": [
    "!pip install keras-tuner\n"
   ]
  },
  {
   "cell_type": "code",
   "execution_count": 8,
   "id": "320cf3d7-0508-4269-8a1a-bf4b5ee7db96",
   "metadata": {
    "executionInfo": {
     "elapsed": 6479,
     "status": "ok",
     "timestamp": 1732339794181,
     "user": {
      "displayName": "Juliasmita Eka Rahayu",
      "userId": "07494701892678564144"
     },
     "user_tz": -420
    },
    "id": "320cf3d7-0508-4269-8a1a-bf4b5ee7db96"
   },
   "outputs": [],
   "source": [
    "import pandas as pd\n",
    "import numpy as np\n",
    "import re\n",
    "from sklearn.feature_extraction.text import TfidfVectorizer\n",
    "from sklearn.model_selection import train_test_split\n",
    "from sklearn.preprocessing import MinMaxScaler\n",
    "import tensorflow as tf\n",
    "from tensorflow.keras.models import Sequential\n",
    "from tensorflow.keras.layers import Input, Dense, Dropout, BatchNormalization\n",
    "from tensorflow.keras.regularizers import l2\n",
    "from tensorflow.keras.callbacks import EarlyStopping, ReduceLROnPlateau, ModelCheckpoint\n",
    "import keras_tuner as kt"
   ]
  },
  {
   "cell_type": "markdown",
   "id": "796d50c0-a6e3-49db-8d2a-d87bf01a0621",
   "metadata": {
    "id": "796d50c0-a6e3-49db-8d2a-d87bf01a0621"
   },
   "source": [
    "### LOAD DATASET"
   ]
  },
  {
   "cell_type": "code",
   "execution_count": 9,
   "id": "K1NSAvA8QqFN",
   "metadata": {
    "colab": {
     "base_uri": "https://localhost:8080/"
    },
    "executionInfo": {
     "elapsed": 31983,
     "status": "ok",
     "timestamp": 1732339836570,
     "user": {
      "displayName": "Juliasmita Eka Rahayu",
      "userId": "07494701892678564144"
     },
     "user_tz": -420
    },
    "id": "K1NSAvA8QqFN",
    "outputId": "1f4d6632-9485-4b55-95f8-e59f88b7e260"
   },
   "outputs": [],
   "source": [
    "# from google.colab import drive\n",
    "# drive.mount('/content/drive')"
   ]
  },
  {
   "cell_type": "code",
   "execution_count": 10,
   "id": "fb4eee13-cbc6-49ba-a836-b40993dd40a8",
   "metadata": {
    "executionInfo": {
     "elapsed": 2499,
     "status": "ok",
     "timestamp": 1732339841716,
     "user": {
      "displayName": "Juliasmita Eka Rahayu",
      "userId": "07494701892678564144"
     },
     "user_tz": -420
    },
    "id": "fb4eee13-cbc6-49ba-a836-b40993dd40a8"
   },
   "outputs": [],
   "source": [
    "# Dataset soal\n",
    "file_path='data\\Python_Programming_Questions_Dataset_bersih.csv'\n",
    "data = pd.read_csv(file_path)\n",
    "\n",
    "# Tukar Input dan Output\n",
    "data['Corrected_Input'] = data['Output']\n",
    "data['Corrected_Output'] = data['Input']\n",
    "data['text'] = data['Instruction'] + \" \" + data['Corrected_Input'] + \" \" + data['Corrected_Output']\n",
    "\n",
    "# Menambah kolom materi\n",
    "def categorize_question(Instruction):\n",
    "    if re.search(r'\\b(print|hello world|basic)\\b', Instruction, re.IGNORECASE):\n",
    "        return 'Introduction Python'\n",
    "    elif re.search(r'\\b(\\+|\\-|\\*|\\/|\\%|\\*\\*|==|!=|<|>|<=|>=|=)\\b', Instruction):\n",
    "        return 'Operator'\n",
    "    elif re.search(r'\\b(int|float|string|bool|type)\\b', Instruction, re.IGNORECASE):\n",
    "        return 'Data Type'\n",
    "    elif re.search(r'\\b(list|tuple|dict|set|array)\\b', Instruction, re.IGNORECASE):\n",
    "        return 'Data Structure'\n",
    "    elif re.search(r'\\b(if|else|while|for|break|continue)\\b', Instruction, re.IGNORECASE):\n",
    "        return 'Control Structure'\n",
    "    elif re.search(r'\\b(def|function|return)\\b', Instruction, re.IGNORECASE):\n",
    "        return 'Function'\n",
    "    elif re.search(r'\\b(class|object|inheritance|method|self)\\b', Instruction, re.IGNORECASE):\n",
    "        return 'OOP'\n",
    "    else:\n",
    "        return 'Lainnya'\n",
    "\n",
    "# Menerapkan pada dataset\n",
    "data['materi'] = data['Instruction'].apply(categorize_question)\n",
    "\n",
    "# Menambahkan kolom ID soal\n",
    "data['question_id'] = data.index\n",
    "\n",
    "# Dataset dummy interaksi user\n",
    "interaction_data = {\n",
    "    'user_id': [1, 1, 2, 2, 3, 3, 3],\n",
    "    'question_id': [0, 1, 1, 2, 2, 3, 4],\n",
    "    'attempts': [3, 2, 4, 1, 3, 2, 1],\n",
    "    'correct': [1, 0, 1, 1, 1, 0, 1],\n",
    "    'duration': [30, 45, 60, 35, 50, 20, 25]\n",
    "}\n",
    "interaction_df = pd.DataFrame(interaction_data)\n",
    "\n",
    "# Menggabungkan interaksi dengan soal\n",
    "interaction_df = interaction_df.merge(data[['question_id', 'materi']], on='question_id', how='left')"
   ]
  },
  {
   "cell_type": "markdown",
   "id": "70c329ee-5ed2-442d-8160-44838a3ea285",
   "metadata": {
    "id": "70c329ee-5ed2-442d-8160-44838a3ea285"
   },
   "source": [
    "### PREPROCESSING DATA"
   ]
  },
  {
   "cell_type": "code",
   "execution_count": 11,
   "id": "354ce67c-67d8-47f9-bae5-dec56a6116f4",
   "metadata": {
    "colab": {
     "base_uri": "https://localhost:8080/"
    },
    "executionInfo": {
     "elapsed": 1705,
     "status": "ok",
     "timestamp": 1732339848621,
     "user": {
      "displayName": "Juliasmita Eka Rahayu",
      "userId": "07494701892678564144"
     },
     "user_tz": -420
    },
    "id": "354ce67c-67d8-47f9-bae5-dec56a6116f4",
    "outputId": "605e4ea5-1616-45cb-c330-efb5bf7a2b72",
    "scrolled": true
   },
   "outputs": [
    {
     "name": "stdout",
     "output_type": "stream",
     "text": [
      "   question_id  attempts  correct  duration  avg_error_rate\n",
      "0            0       3.0      1.0      30.0             0.0\n",
      "1            1       3.0      0.5      52.5             0.5\n",
      "2            2       2.0      1.0      42.5             0.0\n",
      "3            3       2.0      0.0      20.0             1.0\n",
      "4            4       1.0      1.0      25.0             0.0\n"
     ]
    }
   ],
   "source": [
    "# Fitur interaksi user\n",
    "error_data = interaction_df.groupby('question_id').agg({\n",
    "    'attempts': 'mean',\n",
    "    'correct': 'mean',\n",
    "    'duration': 'mean'\n",
    "}).reset_index()\n",
    "\n",
    "# Hitung kesalahan per materi\n",
    "error_data['avg_error_rate'] = 1 - error_data['correct']\n",
    "print(error_data)\n",
    "\n",
    "# Representasi TF-IDF untuk teks\n",
    "tfidf = TfidfVectorizer(max_features=2000)\n",
    "tfidf_matrix = tfidf.fit_transform(data['text']).toarray()\n",
    "\n",
    "# Mendapatkan materi dengan kesalahan tertinggi\n",
    "top_error_materis = error_data.sort_values(by='avg_error_rate', ascending=False).head(5)\n",
    "\n",
    "# Menggabungkan fitur TF-IDF dengan kolom materi\n",
    "features = pd.DataFrame(tfidf_matrix)\n",
    "\n",
    "# Menambahkan kolom 'materi' ke dalam fitur\n",
    "features['materi'] = data['materi']\n",
    "\n",
    "# Encode target materi\n",
    "data['target'] = data['materi'].astype('category').cat.codes\n",
    "num_classes = len(data['target'].unique())\n",
    "\n",
    "# Split data menjadi train dan test\n",
    "X_train, X_test, y_train, y_test = train_test_split(features.drop('materi', axis=1), data['target'], test_size=0.2, random_state=42)\n",
    "\n",
    "# One-hot encoding untuk target\n",
    "y_train = tf.keras.utils.to_categorical(y_train, num_classes=num_classes)\n",
    "y_test = tf.keras.utils.to_categorical(y_test, num_classes=num_classes)"
   ]
  },
  {
   "cell_type": "markdown",
   "id": "2a990c72-53f6-4499-81cc-7fb1a8dcc32c",
   "metadata": {
    "id": "2a990c72-53f6-4499-81cc-7fb1a8dcc32c"
   },
   "source": [
    "\n",
    "### MEMBANGUN MODEL\n"
   ]
  },
  {
   "cell_type": "code",
   "execution_count": 26,
   "id": "0fa54690-32f0-4fbf-9c97-05d8fa80e860",
   "metadata": {
    "executionInfo": {
     "elapsed": 352,
     "status": "ok",
     "timestamp": 1732339855382,
     "user": {
      "displayName": "Juliasmita Eka Rahayu",
      "userId": "07494701892678564144"
     },
     "user_tz": -420
    },
    "id": "0fa54690-32f0-4fbf-9c97-05d8fa80e860"
   },
   "outputs": [],
   "source": [
    "def build_model(hp):\n",
    "    model = tf.keras.Sequential()\n",
    "    model.add(Input(shape=(X_train.shape[1],)))\n",
    "    model.add(Dense(256, activation='relu', kernel_regularizer=l2(0.001)))\n",
    "    model.add(Dropout(0.4))\n",
    "    model.add(BatchNormalization())\n",
    "    model.add(Dense(128, activation='relu', kernel_regularizer=l2(0.001)))\n",
    "    model.add(Dropout(0.4))\n",
    "    model.add(BatchNormalization())\n",
    "    model.add(Dense(64, activation='relu', kernel_regularizer=l2(0.001)))\n",
    "    model.add(Dropout(0.4))\n",
    "    model.add(BatchNormalization())\n",
    "    model.add(Dense(y_train.shape[1], activation='softmax'))\n",
    "\n",
    "    model.compile(\n",
    "        optimizer=tf.keras.optimizers.RMSprop(\n",
    "            learning_rate=hp.Choice('learning_rate', values=[1e-2, 1e-3, 1e-4])\n",
    "        ),\n",
    "        loss='categorical_crossentropy',\n",
    "        metrics=['accuracy']\n",
    "    )\n",
    "    return model"
   ]
  },
  {
   "cell_type": "code",
   "execution_count": 27,
   "id": "0b4e685e-52eb-48a6-9131-8691938994c6",
   "metadata": {
    "colab": {
     "base_uri": "https://localhost:8080/"
    },
    "executionInfo": {
     "elapsed": 284829,
     "status": "ok",
     "timestamp": 1732340145719,
     "user": {
      "displayName": "Juliasmita Eka Rahayu",
      "userId": "07494701892678564144"
     },
     "user_tz": -420
    },
    "id": "0b4e685e-52eb-48a6-9131-8691938994c6",
    "outputId": "f414824b-f88f-40fd-d980-c86cc2ba4f88"
   },
   "outputs": [
    {
     "name": "stdout",
     "output_type": "stream",
     "text": [
      "Reloading Tuner from model_tuning\\CodeyApp_recommendation_system\\tuner0.json\n"
     ]
    }
   ],
   "source": [
    "# Hyperparameter tuning\n",
    "tuner = kt.RandomSearch(\n",
    "    build_model,\n",
    "    objective='val_accuracy',\n",
    "    max_trials=10,\n",
    "    executions_per_trial=2,\n",
    "    directory='model_tuning',\n",
    "    project_name='CodeyApp_recommendation_system'\n",
    ")\n",
    "\n",
    "\n",
    "# pencarian hyperparameter\n",
    "tuner.search(X_train, y_train, epochs=20, validation_data=(X_test, y_test),\n",
    "             callbacks=[EarlyStopping(monitor='val_loss', patience=3)])\n",
    "\n",
    "# Mendapatkan hyperparameter yang bagus\n",
    "best_hps = tuner.get_best_hyperparameters(num_trials=1)[0]\n",
    "model = tuner.hypermodel.build(best_hps)"
   ]
  },
  {
   "cell_type": "markdown",
   "id": "bc7995b1-6748-40a7-914b-07c80df10934",
   "metadata": {
    "id": "bc7995b1-6748-40a7-914b-07c80df10934"
   },
   "source": [
    "### TRAIN MODEL"
   ]
  },
  {
   "cell_type": "code",
   "execution_count": 28,
   "id": "5766b47e-91fb-4f78-bc69-a67f43428877",
   "metadata": {
    "colab": {
     "base_uri": "https://localhost:8080/"
    },
    "executionInfo": {
     "elapsed": 65704,
     "status": "ok",
     "timestamp": 1732340228990,
     "user": {
      "displayName": "Juliasmita Eka Rahayu",
      "userId": "07494701892678564144"
     },
     "user_tz": -420
    },
    "id": "5766b47e-91fb-4f78-bc69-a67f43428877",
    "outputId": "6e0a2378-e95b-440f-bb33-e1d3bbee88ba"
   },
   "outputs": [
    {
     "name": "stdout",
     "output_type": "stream",
     "text": [
      "Epoch 1/50\n",
      "\u001b[1m188/189\u001b[0m \u001b[32m━━━━━━━━━━━━━━━━━━━\u001b[0m\u001b[37m━\u001b[0m \u001b[1m0s\u001b[0m 16ms/step - accuracy: 0.2844 - loss: 2.7572\n",
      "Epoch 1: val_loss improved from inf to 2.02487, saving model to best_model.keras\n",
      "\u001b[1m189/189\u001b[0m \u001b[32m━━━━━━━━━━━━━━━━━━━━\u001b[0m\u001b[37m\u001b[0m \u001b[1m11s\u001b[0m 21ms/step - accuracy: 0.2858 - loss: 2.7528 - val_accuracy: 0.4901 - val_loss: 2.0249 - learning_rate: 0.0010\n",
      "Epoch 2/50\n",
      "\u001b[1m187/189\u001b[0m \u001b[32m━━━━━━━━━━━━━━━━━━━\u001b[0m\u001b[37m━\u001b[0m \u001b[1m0s\u001b[0m 19ms/step - accuracy: 0.6284 - loss: 1.6670\n",
      "Epoch 2: val_loss improved from 2.02487 to 1.61357, saving model to best_model.keras\n",
      "\u001b[1m189/189\u001b[0m \u001b[32m━━━━━━━━━━━━━━━━━━━━\u001b[0m\u001b[37m\u001b[0m \u001b[1m5s\u001b[0m 21ms/step - accuracy: 0.6285 - loss: 1.6662 - val_accuracy: 0.6243 - val_loss: 1.6136 - learning_rate: 0.0010\n",
      "Epoch 3/50\n",
      "\u001b[1m186/189\u001b[0m \u001b[32m━━━━━━━━━━━━━━━━━━━\u001b[0m\u001b[37m━\u001b[0m \u001b[1m0s\u001b[0m 16ms/step - accuracy: 0.6831 - loss: 1.3970\n",
      "Epoch 3: val_loss improved from 1.61357 to 1.25004, saving model to best_model.keras\n",
      "\u001b[1m189/189\u001b[0m \u001b[32m━━━━━━━━━━━━━━━━━━━━\u001b[0m\u001b[37m\u001b[0m \u001b[1m5s\u001b[0m 18ms/step - accuracy: 0.6832 - loss: 1.3964 - val_accuracy: 0.7288 - val_loss: 1.2500 - learning_rate: 0.0010\n",
      "Epoch 4/50\n",
      "\u001b[1m188/189\u001b[0m \u001b[32m━━━━━━━━━━━━━━━━━━━\u001b[0m\u001b[37m━\u001b[0m \u001b[1m0s\u001b[0m 28ms/step - accuracy: 0.7248 - loss: 1.1970\n",
      "Epoch 4: val_loss improved from 1.25004 to 1.08248, saving model to best_model.keras\n",
      "\u001b[1m189/189\u001b[0m \u001b[32m━━━━━━━━━━━━━━━━━━━━\u001b[0m\u001b[37m\u001b[0m \u001b[1m8s\u001b[0m 32ms/step - accuracy: 0.7248 - loss: 1.1969 - val_accuracy: 0.7606 - val_loss: 1.0825 - learning_rate: 0.0010\n",
      "Epoch 5/50\n",
      "\u001b[1m188/189\u001b[0m \u001b[32m━━━━━━━━━━━━━━━━━━━\u001b[0m\u001b[37m━\u001b[0m \u001b[1m0s\u001b[0m 30ms/step - accuracy: 0.7483 - loss: 1.1047\n",
      "Epoch 5: val_loss improved from 1.08248 to 1.01067, saving model to best_model.keras\n",
      "\u001b[1m189/189\u001b[0m \u001b[32m━━━━━━━━━━━━━━━━━━━━\u001b[0m\u001b[37m\u001b[0m \u001b[1m6s\u001b[0m 33ms/step - accuracy: 0.7483 - loss: 1.1044 - val_accuracy: 0.7784 - val_loss: 1.0107 - learning_rate: 0.0010\n",
      "Epoch 6/50\n",
      "\u001b[1m188/189\u001b[0m \u001b[32m━━━━━━━━━━━━━━━━━━━\u001b[0m\u001b[37m━\u001b[0m \u001b[1m0s\u001b[0m 30ms/step - accuracy: 0.7795 - loss: 0.9884\n",
      "Epoch 6: val_loss improved from 1.01067 to 0.96748, saving model to best_model.keras\n",
      "\u001b[1m189/189\u001b[0m \u001b[32m━━━━━━━━━━━━━━━━━━━━\u001b[0m\u001b[37m\u001b[0m \u001b[1m6s\u001b[0m 32ms/step - accuracy: 0.7795 - loss: 0.9885 - val_accuracy: 0.7751 - val_loss: 0.9675 - learning_rate: 0.0010\n",
      "Epoch 7/50\n",
      "\u001b[1m188/189\u001b[0m \u001b[32m━━━━━━━━━━━━━━━━━━━\u001b[0m\u001b[37m━\u001b[0m \u001b[1m0s\u001b[0m 22ms/step - accuracy: 0.7922 - loss: 0.9136\n",
      "Epoch 7: val_loss improved from 0.96748 to 0.93414, saving model to best_model.keras\n",
      "\u001b[1m189/189\u001b[0m \u001b[32m━━━━━━━━━━━━━━━━━━━━\u001b[0m\u001b[37m\u001b[0m \u001b[1m9s\u001b[0m 24ms/step - accuracy: 0.7922 - loss: 0.9137 - val_accuracy: 0.7877 - val_loss: 0.9341 - learning_rate: 0.0010\n",
      "Epoch 8/50\n",
      "\u001b[1m187/189\u001b[0m \u001b[32m━━━━━━━━━━━━━━━━━━━\u001b[0m\u001b[37m━\u001b[0m \u001b[1m0s\u001b[0m 29ms/step - accuracy: 0.8114 - loss: 0.8312\n",
      "Epoch 8: val_loss improved from 0.93414 to 0.88574, saving model to best_model.keras\n",
      "\u001b[1m189/189\u001b[0m \u001b[32m━━━━━━━━━━━━━━━━━━━━\u001b[0m\u001b[37m\u001b[0m \u001b[1m7s\u001b[0m 32ms/step - accuracy: 0.8114 - loss: 0.8315 - val_accuracy: 0.7976 - val_loss: 0.8857 - learning_rate: 0.0010\n",
      "Epoch 9/50\n",
      "\u001b[1m188/189\u001b[0m \u001b[32m━━━━━━━━━━━━━━━━━━━\u001b[0m\u001b[37m━\u001b[0m \u001b[1m0s\u001b[0m 29ms/step - accuracy: 0.8265 - loss: 0.7687\n",
      "Epoch 9: val_loss did not improve from 0.88574\n",
      "\u001b[1m189/189\u001b[0m \u001b[32m━━━━━━━━━━━━━━━━━━━━\u001b[0m\u001b[37m\u001b[0m \u001b[1m6s\u001b[0m 33ms/step - accuracy: 0.8265 - loss: 0.7690 - val_accuracy: 0.7903 - val_loss: 0.8902 - learning_rate: 0.0010\n",
      "Epoch 10/50\n",
      "\u001b[1m189/189\u001b[0m \u001b[32m━━━━━━━━━━━━━━━━━━━━\u001b[0m\u001b[37m\u001b[0m \u001b[1m0s\u001b[0m 28ms/step - accuracy: 0.8301 - loss: 0.7447\n",
      "Epoch 10: val_loss did not improve from 0.88574\n",
      "\u001b[1m189/189\u001b[0m \u001b[32m━━━━━━━━━━━━━━━━━━━━\u001b[0m\u001b[37m\u001b[0m \u001b[1m10s\u001b[0m 30ms/step - accuracy: 0.8301 - loss: 0.7448 - val_accuracy: 0.7923 - val_loss: 0.8989 - learning_rate: 0.0010\n",
      "Epoch 11/50\n",
      "\u001b[1m188/189\u001b[0m \u001b[32m━━━━━━━━━━━━━━━━━━━\u001b[0m\u001b[37m━\u001b[0m \u001b[1m0s\u001b[0m 36ms/step - accuracy: 0.8241 - loss: 0.7286\n",
      "Epoch 11: val_loss improved from 0.88574 to 0.86950, saving model to best_model.keras\n",
      "\u001b[1m189/189\u001b[0m \u001b[32m━━━━━━━━━━━━━━━━━━━━\u001b[0m\u001b[37m\u001b[0m \u001b[1m7s\u001b[0m 39ms/step - accuracy: 0.8241 - loss: 0.7289 - val_accuracy: 0.8003 - val_loss: 0.8695 - learning_rate: 0.0010\n",
      "Epoch 12/50\n",
      "\u001b[1m187/189\u001b[0m \u001b[32m━━━━━━━━━━━━━━━━━━━\u001b[0m\u001b[37m━\u001b[0m \u001b[1m0s\u001b[0m 35ms/step - accuracy: 0.8442 - loss: 0.6748\n",
      "Epoch 12: val_loss improved from 0.86950 to 0.86129, saving model to best_model.keras\n",
      "\u001b[1m189/189\u001b[0m \u001b[32m━━━━━━━━━━━━━━━━━━━━\u001b[0m\u001b[37m\u001b[0m \u001b[1m7s\u001b[0m 38ms/step - accuracy: 0.8441 - loss: 0.6752 - val_accuracy: 0.7963 - val_loss: 0.8613 - learning_rate: 0.0010\n",
      "Epoch 13/50\n",
      "\u001b[1m189/189\u001b[0m \u001b[32m━━━━━━━━━━━━━━━━━━━━\u001b[0m\u001b[37m\u001b[0m \u001b[1m0s\u001b[0m 33ms/step - accuracy: 0.8458 - loss: 0.6611\n",
      "Epoch 13: val_loss improved from 0.86129 to 0.85133, saving model to best_model.keras\n",
      "\u001b[1m189/189\u001b[0m \u001b[32m━━━━━━━━━━━━━━━━━━━━\u001b[0m\u001b[37m\u001b[0m \u001b[1m7s\u001b[0m 37ms/step - accuracy: 0.8457 - loss: 0.6612 - val_accuracy: 0.8029 - val_loss: 0.8513 - learning_rate: 0.0010\n",
      "Epoch 14/50\n",
      "\u001b[1m189/189\u001b[0m \u001b[32m━━━━━━━━━━━━━━━━━━━━\u001b[0m\u001b[37m\u001b[0m \u001b[1m0s\u001b[0m 25ms/step - accuracy: 0.8489 - loss: 0.6443\n",
      "Epoch 14: val_loss did not improve from 0.85133\n",
      "\u001b[1m189/189\u001b[0m \u001b[32m━━━━━━━━━━━━━━━━━━━━\u001b[0m\u001b[37m\u001b[0m \u001b[1m9s\u001b[0m 27ms/step - accuracy: 0.8489 - loss: 0.6444 - val_accuracy: 0.7989 - val_loss: 0.8877 - learning_rate: 0.0010\n",
      "Epoch 15/50\n",
      "\u001b[1m188/189\u001b[0m \u001b[32m━━━━━━━━━━━━━━━━━━━\u001b[0m\u001b[37m━\u001b[0m \u001b[1m0s\u001b[0m 30ms/step - accuracy: 0.8481 - loss: 0.6377\n",
      "Epoch 15: val_loss improved from 0.85133 to 0.83508, saving model to best_model.keras\n",
      "\u001b[1m189/189\u001b[0m \u001b[32m━━━━━━━━━━━━━━━━━━━━\u001b[0m\u001b[37m\u001b[0m \u001b[1m6s\u001b[0m 32ms/step - accuracy: 0.8481 - loss: 0.6379 - val_accuracy: 0.7996 - val_loss: 0.8351 - learning_rate: 0.0010\n",
      "Epoch 16/50\n",
      "\u001b[1m187/189\u001b[0m \u001b[32m━━━━━━━━━━━━━━━━━━━\u001b[0m\u001b[37m━\u001b[0m \u001b[1m0s\u001b[0m 25ms/step - accuracy: 0.8559 - loss: 0.6175\n",
      "Epoch 16: val_loss improved from 0.83508 to 0.83438, saving model to best_model.keras\n",
      "\u001b[1m189/189\u001b[0m \u001b[32m━━━━━━━━━━━━━━━━━━━━\u001b[0m\u001b[37m\u001b[0m \u001b[1m10s\u001b[0m 27ms/step - accuracy: 0.8559 - loss: 0.6178 - val_accuracy: 0.8016 - val_loss: 0.8344 - learning_rate: 0.0010\n",
      "Epoch 17/50\n",
      "\u001b[1m189/189\u001b[0m \u001b[32m━━━━━━━━━━━━━━━━━━━━\u001b[0m\u001b[37m\u001b[0m \u001b[1m0s\u001b[0m 29ms/step - accuracy: 0.8601 - loss: 0.5963\n",
      "Epoch 17: val_loss did not improve from 0.83438\n",
      "\u001b[1m189/189\u001b[0m \u001b[32m━━━━━━━━━━━━━━━━━━━━\u001b[0m\u001b[37m\u001b[0m \u001b[1m6s\u001b[0m 31ms/step - accuracy: 0.8601 - loss: 0.5965 - val_accuracy: 0.8161 - val_loss: 0.8353 - learning_rate: 0.0010\n",
      "Epoch 18/50\n",
      "\u001b[1m189/189\u001b[0m \u001b[32m━━━━━━━━━━━━━━━━━━━━\u001b[0m\u001b[37m\u001b[0m \u001b[1m0s\u001b[0m 26ms/step - accuracy: 0.8633 - loss: 0.5908\n",
      "Epoch 18: val_loss improved from 0.83438 to 0.81953, saving model to best_model.keras\n",
      "\u001b[1m189/189\u001b[0m \u001b[32m━━━━━━━━━━━━━━━━━━━━\u001b[0m\u001b[37m\u001b[0m \u001b[1m10s\u001b[0m 29ms/step - accuracy: 0.8633 - loss: 0.5909 - val_accuracy: 0.8115 - val_loss: 0.8195 - learning_rate: 0.0010\n",
      "Epoch 19/50\n",
      "\u001b[1m189/189\u001b[0m \u001b[32m━━━━━━━━━━━━━━━━━━━━\u001b[0m\u001b[37m\u001b[0m \u001b[1m0s\u001b[0m 29ms/step - accuracy: 0.8617 - loss: 0.5746\n",
      "Epoch 19: val_loss improved from 0.81953 to 0.81207, saving model to best_model.keras\n",
      "\u001b[1m189/189\u001b[0m \u001b[32m━━━━━━━━━━━━━━━━━━━━\u001b[0m\u001b[37m\u001b[0m \u001b[1m6s\u001b[0m 31ms/step - accuracy: 0.8616 - loss: 0.5748 - val_accuracy: 0.8056 - val_loss: 0.8121 - learning_rate: 0.0010\n",
      "Epoch 20/50\n",
      "\u001b[1m188/189\u001b[0m \u001b[32m━━━━━━━━━━━━━━━━━━━\u001b[0m\u001b[37m━\u001b[0m \u001b[1m0s\u001b[0m 36ms/step - accuracy: 0.8761 - loss: 0.5552\n",
      "Epoch 20: val_loss did not improve from 0.81207\n",
      "\u001b[1m189/189\u001b[0m \u001b[32m━━━━━━━━━━━━━━━━━━━━\u001b[0m\u001b[37m\u001b[0m \u001b[1m7s\u001b[0m 37ms/step - accuracy: 0.8760 - loss: 0.5555 - val_accuracy: 0.8069 - val_loss: 0.8343 - learning_rate: 0.0010\n",
      "Epoch 21/50\n",
      "\u001b[1m189/189\u001b[0m \u001b[32m━━━━━━━━━━━━━━━━━━━━\u001b[0m\u001b[37m\u001b[0m \u001b[1m0s\u001b[0m 27ms/step - accuracy: 0.8638 - loss: 0.5621\n",
      "Epoch 21: val_loss improved from 0.81207 to 0.79375, saving model to best_model.keras\n",
      "\u001b[1m189/189\u001b[0m \u001b[32m━━━━━━━━━━━━━━━━━━━━\u001b[0m\u001b[37m\u001b[0m \u001b[1m9s\u001b[0m 30ms/step - accuracy: 0.8637 - loss: 0.5623 - val_accuracy: 0.8201 - val_loss: 0.7937 - learning_rate: 0.0010\n",
      "Epoch 22/50\n",
      "\u001b[1m189/189\u001b[0m \u001b[32m━━━━━━━━━━━━━━━━━━━━\u001b[0m\u001b[37m\u001b[0m \u001b[1m0s\u001b[0m 34ms/step - accuracy: 0.8662 - loss: 0.5638\n",
      "Epoch 22: val_loss did not improve from 0.79375\n",
      "\u001b[1m189/189\u001b[0m \u001b[32m━━━━━━━━━━━━━━━━━━━━\u001b[0m\u001b[37m\u001b[0m \u001b[1m7s\u001b[0m 36ms/step - accuracy: 0.8661 - loss: 0.5640 - val_accuracy: 0.8036 - val_loss: 0.8417 - learning_rate: 0.0010\n",
      "Epoch 23/50\n",
      "\u001b[1m188/189\u001b[0m \u001b[32m━━━━━━━━━━━━━━━━━━━\u001b[0m\u001b[37m━\u001b[0m \u001b[1m0s\u001b[0m 26ms/step - accuracy: 0.8704 - loss: 0.5482\n",
      "Epoch 23: val_loss did not improve from 0.79375\n",
      "\u001b[1m189/189\u001b[0m \u001b[32m━━━━━━━━━━━━━━━━━━━━\u001b[0m\u001b[37m\u001b[0m \u001b[1m9s\u001b[0m 28ms/step - accuracy: 0.8703 - loss: 0.5485 - val_accuracy: 0.8148 - val_loss: 0.8190 - learning_rate: 0.0010\n",
      "Epoch 24/50\n",
      "\u001b[1m188/189\u001b[0m \u001b[32m━━━━━━━━━━━━━━━━━━━\u001b[0m\u001b[37m━\u001b[0m \u001b[1m0s\u001b[0m 32ms/step - accuracy: 0.8771 - loss: 0.5353\n",
      "Epoch 24: ReduceLROnPlateau reducing learning rate to 0.0005000000237487257.\n",
      "\n",
      "Epoch 24: val_loss did not improve from 0.79375\n",
      "\u001b[1m189/189\u001b[0m \u001b[32m━━━━━━━━━━━━━━━━━━━━\u001b[0m\u001b[37m\u001b[0m \u001b[1m6s\u001b[0m 34ms/step - accuracy: 0.8770 - loss: 0.5358 - val_accuracy: 0.8102 - val_loss: 0.8412 - learning_rate: 0.0010\n",
      "Epoch 25/50\n",
      "\u001b[1m188/189\u001b[0m \u001b[32m━━━━━━━━━━━━━━━━━━━\u001b[0m\u001b[37m━\u001b[0m \u001b[1m0s\u001b[0m 24ms/step - accuracy: 0.8874 - loss: 0.5117\n",
      "Epoch 25: val_loss did not improve from 0.79375\n",
      "\u001b[1m189/189\u001b[0m \u001b[32m━━━━━━━━━━━━━━━━━━━━\u001b[0m\u001b[37m\u001b[0m \u001b[1m9s\u001b[0m 25ms/step - accuracy: 0.8874 - loss: 0.5117 - val_accuracy: 0.8181 - val_loss: 0.7941 - learning_rate: 5.0000e-04\n",
      "Epoch 26/50\n",
      "\u001b[1m189/189\u001b[0m \u001b[32m━━━━━━━━━━━━━━━━━━━━\u001b[0m\u001b[37m\u001b[0m \u001b[1m0s\u001b[0m 29ms/step - accuracy: 0.9025 - loss: 0.4277\n",
      "Epoch 26: val_loss did not improve from 0.79375\n",
      "\u001b[1m189/189\u001b[0m \u001b[32m━━━━━━━━━━━━━━━━━━━━\u001b[0m\u001b[37m\u001b[0m \u001b[1m7s\u001b[0m 31ms/step - accuracy: 0.9024 - loss: 0.4279 - val_accuracy: 0.8155 - val_loss: 0.7974 - learning_rate: 5.0000e-04\n"
     ]
    }
   ],
   "source": [
    "# Callbacks\n",
    "callbacks = [\n",
    "    EarlyStopping(monitor='val_loss', patience=5, restore_best_weights=True),\n",
    "    ReduceLROnPlateau(monitor='val_loss', factor=0.5, patience=3, min_lr=1e-6, verbose=1),\n",
    "    ModelCheckpoint('best_model.keras', save_best_only=True, monitor='val_loss', verbose=1)\n",
    "]\n",
    "\n",
    "# Training model\n",
    "history = model.fit(\n",
    "    X_train, y_train,\n",
    "    epochs=50,\n",
    "    batch_size=32,\n",
    "    validation_data=(X_test, y_test),\n",
    "    callbacks=callbacks\n",
    ")"
   ]
  },
  {
   "cell_type": "code",
   "execution_count": 30,
   "id": "34620679-42c3-47c9-b359-19555f90a069",
   "metadata": {
    "colab": {
     "base_uri": "https://localhost:8080/"
    },
    "executionInfo": {
     "elapsed": 2271,
     "status": "ok",
     "timestamp": 1732340460789,
     "user": {
      "displayName": "Juliasmita Eka Rahayu",
      "userId": "07494701892678564144"
     },
     "user_tz": -420
    },
    "id": "34620679-42c3-47c9-b359-19555f90a069",
    "outputId": "2560f30c-4fa8-46f5-b508-bad81cfc4b6c"
   },
   "outputs": [
    {
     "name": "stdout",
     "output_type": "stream",
     "text": [
      "\u001b[1m48/48\u001b[0m \u001b[32m━━━━━━━━━━━━━━━━━━━━\u001b[0m\u001b[37m\u001b[0m \u001b[1m1s\u001b[0m 7ms/step - accuracy: 0.8394 - loss: 0.7390\n",
      "Test Loss: 0.7937489151954651\n",
      "Test Accuracy: 0.820105791091919\n"
     ]
    }
   ],
   "source": [
    "# Load best model yang tersimpan\n",
    "model = tf.keras.models.load_model('best_model.keras')\n",
    "\n",
    "# Evaluate model\n",
    "loss, accuracy = model.evaluate(X_test, y_test)\n",
    "print(f\"Test Loss: {loss}\")\n",
    "print(f\"Test Accuracy: {accuracy}\")"
   ]
  },
  {
   "cell_type": "markdown",
   "id": "cc153439-080e-495f-ab10-c19e19162386",
   "metadata": {
    "id": "cc153439-080e-495f-ab10-c19e19162386"
   },
   "source": [
    "### PLOTTING"
   ]
  },
  {
   "cell_type": "code",
   "execution_count": 31,
   "id": "75965865-c22d-4d53-b778-600c733823ac",
   "metadata": {
    "colab": {
     "base_uri": "https://localhost:8080/",
     "height": 887
    },
    "executionInfo": {
     "elapsed": 883,
     "status": "ok",
     "timestamp": 1732340468405,
     "user": {
      "displayName": "Juliasmita Eka Rahayu",
      "userId": "07494701892678564144"
     },
     "user_tz": -420
    },
    "id": "75965865-c22d-4d53-b778-600c733823ac",
    "outputId": "2fad1361-a89c-499b-e61f-d66f41222090"
   },
   "outputs": [
    {
     "data": {
      "image/png": "[encoded data removed]",
      "text/plain": [
       "<Figure size 640x480 with 1 Axes>"
      ]
     },
     "metadata": {},
     "output_type": "display_data"
    },
    {
     "data": {
      "image/png": "[encoded data removed]",
      "text/plain": [
       "<Figure size 640x480 with 1 Axes>"
      ]
     },
     "metadata": {},
     "output_type": "display_data"
    }
   ],
   "source": [
    "import matplotlib.pyplot as plt\n",
    "\n",
    "# Plot accuracy\n",
    "plt.plot(history.history['accuracy'], label='Training Accuracy')\n",
    "plt.plot(history.history['val_accuracy'], label='Validation Accuracy')\n",
    "plt.legend()\n",
    "plt.title('Accuracy')\n",
    "plt.show()\n",
    "\n",
    "# Plot loss\n",
    "plt.plot(history.history['loss'], label='Training Loss')\n",
    "plt.plot(history.history['val_loss'], label='Validation Loss')\n",
    "plt.legend()\n",
    "plt.title('Loss')\n",
    "plt.show()\n"
   ]
  },
  {
   "cell_type": "markdown",
   "id": "598ea036-c2bb-4741-9cd1-9f8080de16da",
   "metadata": {
    "id": "598ea036-c2bb-4741-9cd1-9f8080de16da"
   },
   "source": [
    "### MEMBANGUN REKOMENDASI"
   ]
  },
  {
   "cell_type": "code",
   "execution_count": 32,
   "id": "48c647f5-f8dd-4c02-b02a-4b9417b97c53",
   "metadata": {
    "colab": {
     "base_uri": "https://localhost:8080/"
    },
    "executionInfo": {
     "elapsed": 312,
     "status": "ok",
     "timestamp": 1732340482808,
     "user": {
      "displayName": "Juliasmita Eka Rahayu",
      "userId": "07494701892678564144"
     },
     "user_tz": -420
    },
    "id": "48c647f5-f8dd-4c02-b02a-4b9417b97c53",
    "outputId": "f38d0844-fb8c-406b-891f-ee972e5f79f0"
   },
   "outputs": [
    {
     "name": "stdout",
     "output_type": "stream",
     "text": [
      "Materi yang perlu dipelajari lebih lanjut (berdasarkan kesalahan siswa):\n",
      "                materi  avg_error_rate\n",
      "0    Control Structure        1.000000\n",
      "1       Data Structure        0.166667\n",
      "2  Introduction Python        0.000000\n"
     ]
    }
   ],
   "source": [
    "# Menghitung rata-rata kesalahan per materi\n",
    "avg_error_per_materi = error_data.groupby(data['materi'])['avg_error_rate'].mean().reset_index()\n",
    "\n",
    "# Mengurutkan materi berdasarkan tingkat kesalahan tertinggi\n",
    "recommended_materials = avg_error_per_materi.sort_values(by='avg_error_rate', ascending=False)\n",
    "\n",
    "# Tampilkan 5 materi dengan tingkat kesalahan tertinggi\n",
    "print(\"Materi yang perlu dipelajari lebih lanjut (berdasarkan kesalahan siswa):\")\n",
    "print(recommended_materials.head())"
   ]
  },
  {
   "cell_type": "code",
   "execution_count": 33,
   "id": "63c2712e-6d05-43e1-a7ce-f73ab36a06f9",
   "metadata": {
    "colab": {
     "base_uri": "https://localhost:8080/"
    },
    "executionInfo": {
     "elapsed": 317,
     "status": "ok",
     "timestamp": 1732340484463,
     "user": {
      "displayName": "Juliasmita Eka Rahayu",
      "userId": "07494701892678564144"
     },
     "user_tz": -420
    },
    "id": "63c2712e-6d05-43e1-a7ce-f73ab36a06f9",
    "outputId": "4b6694ab-9b79-4efb-e61e-a4f5c64ab9f0"
   },
   "outputs": [
    {
     "name": "stdout",
     "output_type": "stream",
     "text": [
      "Materi yang perlu dipelajari oleh siswa:\n",
      "           materi  attempts  correct  duration  avg_error_rate\n",
      "1  Data Structure       3.0      0.0      60.0             1.0\n"
     ]
    }
   ],
   "source": [
    "# Misalnya, prediksi materi untuk user berdasarkan interaksi mereka\n",
    "# Data interaksi yang relevan\n",
    "user_interaction = {\n",
    "    'user_id': [4, 4, 4, 4],\n",
    "    'question_id': [0, 2, 3, 5],\n",
    "    'attempts': [3, 4, 2, 1],\n",
    "    'correct': [0, 0, 1, 0],\n",
    "    'duration': [60, 30, 35, 20]\n",
    "}\n",
    "\n",
    "user_interaction_df = pd.DataFrame(user_interaction)\n",
    "user_interaction_df = user_interaction_df.merge(data[['question_id', 'materi']], on='question_id', how='left')\n",
    "\n",
    "# Hitung rata-rata kesalahan per materi\n",
    "user_error_data = user_interaction_df.groupby('materi').agg({\n",
    "    'attempts': 'mean',\n",
    "    'correct': 'mean',\n",
    "    'duration': 'mean'\n",
    "}).reset_index()\n",
    "\n",
    "user_error_data['avg_error_rate'] = 1 - user_error_data['correct']\n",
    "\n",
    "# Rekomendasikan materi dengan kesalahan tertinggi\n",
    "user_recommended_materials = user_error_data.sort_values(by='avg_error_rate', ascending=False).head(1)\n",
    "print(\"Materi yang perlu dipelajari oleh siswa:\")\n",
    "print(user_recommended_materials)\n"
   ]
  },
  {
   "cell_type": "code",
   "execution_count": 34,
   "id": "323cf8e4-2219-4506-84fc-bc1ffbd36d47",
   "metadata": {
    "executionInfo": {
     "elapsed": 350,
     "status": "ok",
     "timestamp": 1732340494282,
     "user": {
      "displayName": "Juliasmita Eka Rahayu",
      "userId": "07494701892678564144"
     },
     "user_tz": -420
    },
    "id": "323cf8e4-2219-4506-84fc-bc1ffbd36d47"
   },
   "outputs": [],
   "source": [
    "model.save('best_model.keras')"
   ]
  },
  {
   "cell_type": "code",
   "execution_count": 35,
   "id": "3872771c",
   "metadata": {},
   "outputs": [
    {
     "name": "stderr",
     "output_type": "stream",
     "text": [
      "WARNING:absl:You are saving your model as an HDF5 file via `model.save()` or `keras.saving.save_model(model)`. This file format is considered legacy. We recommend using instead the native Keras format, e.g. `model.save('my_model.keras')` or `keras.saving.save_model(model, 'my_model.keras')`. \n"
     ]
    }
   ],
   "source": [
    "model.save('best_model.h5')"
   ]
  },
  {
   "cell_type": "code",
   "execution_count": 38,
   "id": "1f6b0e78",
   "metadata": {},
   "outputs": [
    {
     "name": "stderr",
     "output_type": "stream",
     "text": [
      "WARNING:absl:Compiled the loaded model, but the compiled metrics have yet to be built. `model.compile_metrics` will be empty until you train or evaluate the model.\n"
     ]
    },
    {
     "name": "stdout",
     "output_type": "stream",
     "text": [
      "INFO:tensorflow:Assets written to: C:\\Users\\user\\AppData\\Local\\Temp\\tmpybap5lh7\\assets\n"
     ]
    },
    {
     "name": "stderr",
     "output_type": "stream",
     "text": [
      "INFO:tensorflow:Assets written to: C:\\Users\\user\\AppData\\Local\\Temp\\tmpybap5lh7\\assets\n"
     ]
    },
    {
     "name": "stdout",
     "output_type": "stream",
     "text": [
      "Saved artifact at 'C:\\Users\\user\\AppData\\Local\\Temp\\tmpybap5lh7'. The following endpoints are available:\n",
      "\n",
      "* Endpoint 'serve'\n",
      "  args_0 (POSITIONAL_ONLY): TensorSpec(shape=(None, 2000), dtype=tf.float32, name='input_layer_2')\n",
      "Output Type:\n",
      "  TensorSpec(shape=(None, 8), dtype=tf.float32, name=None)\n",
      "Captures:\n",
      "  1875775089616: TensorSpec(shape=(), dtype=tf.resource, name=None)\n",
      "  1875775093072: TensorSpec(shape=(), dtype=tf.resource, name=None)\n",
      "  1876033928464: TensorSpec(shape=(), dtype=tf.resource, name=None)\n",
      "  1876033928656: TensorSpec(shape=(), dtype=tf.resource, name=None)\n",
      "  1876033928272: TensorSpec(shape=(), dtype=tf.resource, name=None)\n",
      "  1876033927504: TensorSpec(shape=(), dtype=tf.resource, name=None)\n",
      "  1876033926352: TensorSpec(shape=(), dtype=tf.resource, name=None)\n",
      "  1876033925968: TensorSpec(shape=(), dtype=tf.resource, name=None)\n",
      "  1876033925584: TensorSpec(shape=(), dtype=tf.resource, name=None)\n",
      "  1876033926544: TensorSpec(shape=(), dtype=tf.resource, name=None)\n",
      "  1876033926736: TensorSpec(shape=(), dtype=tf.resource, name=None)\n",
      "  1876033924816: TensorSpec(shape=(), dtype=tf.resource, name=None)\n",
      "  1876033923664: TensorSpec(shape=(), dtype=tf.resource, name=None)\n",
      "  1876033923280: TensorSpec(shape=(), dtype=tf.resource, name=None)\n",
      "  1876033924048: TensorSpec(shape=(), dtype=tf.resource, name=None)\n",
      "  1876033920976: TensorSpec(shape=(), dtype=tf.resource, name=None)\n",
      "  1876033922704: TensorSpec(shape=(), dtype=tf.resource, name=None)\n",
      "  1876033921936: TensorSpec(shape=(), dtype=tf.resource, name=None)\n",
      "  1876033923856: TensorSpec(shape=(), dtype=tf.resource, name=None)\n",
      "  1876033922128: TensorSpec(shape=(), dtype=tf.resource, name=None)\n"
     ]
    }
   ],
   "source": [
    "model = tf.keras.models.load_model('best_model.h5')\n",
    "\n",
    "# Konversi ke tflite\n",
    "converter = tf.lite.TFLiteConverter.from_keras_model(model)\n",
    "converter.optimizations = [tf.lite.Optimize.DEFAULT]\n",
    "tflite_model = converter.convert()\n",
    "\n",
    "# Simpan model TFLite\n",
    "with open('best_model.tflite', 'wb') as f:\n",
    "    f.write(tflite_model)"
   ]
  },
  {
   "cell_type": "code",
   "execution_count": null,
   "id": "a82c89f5",
   "metadata": {},
   "outputs": [],
   "source": []
  }
 ],
 "metadata": {
  "colab": {
   "provenance": []
  },
  "kernelspec": {
   "display_name": "Python 3",
   "language": "python",
   "name": "python3"
  },
  "language_info": {
   "codemirror_mode": {
    "name": "ipython",
    "version": 3
   },
   "file_extension": ".py",
   "mimetype": "text/x-python",
   "name": "python",
   "nbconvert_exporter": "python",
   "pygments_lexer": "ipython3",
   "version": "3.11.0"
  }
 },
 "nbformat": 4,
 "nbformat_minor": 5
}
